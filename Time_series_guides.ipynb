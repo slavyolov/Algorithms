{
  "nbformat": 4,
  "nbformat_minor": 0,
  "metadata": {
    "colab": {
      "provenance": [],
      "authorship_tag": "ABX9TyPM3qM6ATjouQx0aMMNQrI+",
      "include_colab_link": true
    },
    "kernelspec": {
      "name": "python3",
      "display_name": "Python 3"
    },
    "language_info": {
      "name": "python"
    }
  },
  "cells": [
    {
      "cell_type": "markdown",
      "metadata": {
        "id": "view-in-github",
        "colab_type": "text"
      },
      "source": [
        "<a href=\"https://colab.research.google.com/github/slavyolov/Algorithms/blob/main/Time_series_guides.ipynb\" target=\"_parent\"><img src=\"https://colab.research.google.com/assets/colab-badge.svg\" alt=\"Open In Colab\"/></a>"
      ]
    },
    {
      "cell_type": "markdown",
      "source": [
        "http://ethen8181.github.io/machine-learning/time_series/1_exponential_smoothing.html#Reference\n",
        "\n",
        "* Getting Started with Time Series Analysis\n",
        "  * Averages\n",
        "  * Exponential Smoothing\n",
        "  * Double Exponential Smoothing - Holt Method\n",
        "  * Triple Exponential Smoothing - Holt-Winters Method\n",
        "  * Time Series Cross Validation\n",
        "  * Learning Holt-Winters Method's Parameters\n",
        "* Reference"
      ],
      "metadata": {
        "id": "XDouhOsoiEjp"
      }
    }
  ]
}