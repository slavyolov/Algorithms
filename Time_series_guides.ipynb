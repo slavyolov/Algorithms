{
  "nbformat": 4,
  "nbformat_minor": 0,
  "metadata": {
    "colab": {
      "provenance": [],
      "collapsed_sections": [],
      "toc_visible": true,
      "authorship_tag": "ABX9TyPsTJKmrC/oXRsoaHLqCi3i",
      "include_colab_link": true
    },
    "kernelspec": {
      "name": "python3",
      "display_name": "Python 3"
    },
    "language_info": {
      "name": "python"
    }
  },
  "cells": [
    {
      "cell_type": "markdown",
      "metadata": {
        "id": "view-in-github",
        "colab_type": "text"
      },
      "source": [
        "<a href=\"https://colab.research.google.com/github/slavyolov/Algorithms/blob/main/Time_series_guides.ipynb\" target=\"_parent\"><img src=\"https://colab.research.google.com/assets/colab-badge.svg\" alt=\"Open In Colab\"/></a>"
      ]
    },
    {
      "cell_type": "markdown",
      "source": [
        "# **Simple Exponential Smoothing (SES)**\n",
        "\n",
        "- https://otexts.com/fpp2/ses.html\n",
        "\n",
        "## Takeaways :\n",
        "- Suitable for forecasting data with no clear trend or seasonal pattern\n",
        "- Forecasts are calculated using **weighted averages**, where the weights decrease exponentially as observations come from further in the past — the smallest weights are associated with the oldest observations \n",
        "\n",
        "$$\n",
        "\\begin{equation}\n",
        "  \\hat{y}_{T+1|T} = \\alpha y_T + \\alpha(1-\\alpha) y_{T-1} + \\alpha(1-\\alpha)^2 y_{T-2}+ \\cdots,   \\tag{7.1}\n",
        "\\end{equation}\n",
        "$$\n",
        "- Smoothing parameter - The rate at which the weights decrease is controlled by the parameter α (where alpha is in the range $0 \\le \\alpha \\le 1$)\n",
        "- Flat forecasts - all forecasts take the same value, equal to the last level component. \n",
        "\n",
        "\n"
      ],
      "metadata": {
        "id": "OyVTsuy4Vlqa"
      }
    },
    {
      "cell_type": "markdown",
      "source": [
        "http://ethen8181.github.io/machine-learning/time_series/1_exponential_smoothing.html#Reference\n",
        "\n",
        "* Getting Started with Time Series Analysis\n",
        "  * Averages\n",
        "  * Exponential Smoothing\n",
        "  * Double Exponential Smoothing - Holt Method\n",
        "  * Triple Exponential Smoothing - Holt-Winters Method\n",
        "  * Time Series Cross Validation\n",
        "  * Learning Holt-Winters Method's Parameters\n",
        "* Reference"
      ],
      "metadata": {
        "id": "XDouhOsoiEjp"
      }
    },
    {
      "cell_type": "markdown",
      "source": [
        "# https://www.statsmodels.org/dev/examples/notebooks/generated/exponential_smoothing.html\n",
        "# https://medium.datadriveninvestor.com/how-to-build-exponential-smoothing-models-using-python-simple-exponential-smoothing-holt-and-da371189e1a1\n"
      ],
      "metadata": {
        "id": "OBAggZromUcL"
      }
    },
    {
      "cell_type": "markdown",
      "source": [
        "%%latex\n",
        "$$x^2$$"
      ],
      "metadata": {
        "id": "gaTXbAB9W0dw"
      }
    },
    {
      "cell_type": "markdown",
      "source": [
        "$$\n",
        "\\begin{equation}\n",
        "  \\hat{y}_{T+1|T} = \\alpha y_T + \\alpha(1-\\alpha) y_{T-1} + \\alpha(1-\\alpha)^2 y_{T-2}+ \\cdots,   \\tag{7.1}\n",
        "\\end{equation}\n",
        "$$\n"
      ],
      "metadata": {
        "id": "YUU3RTHlXAX4"
      }
    }
  ]
}