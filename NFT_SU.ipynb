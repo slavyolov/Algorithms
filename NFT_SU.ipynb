{
  "nbformat": 4,
  "nbformat_minor": 0,
  "metadata": {
    "colab": {
      "provenance": [],
      "toc_visible": true,
      "mount_file_id": "1pWu2Oxvm_J5MF2LGhASfgJ8LPUFq2ZZU",
      "authorship_tag": "ABX9TyPYWfjeLRPkXQHTpzQSeT0/",
      "include_colab_link": true
    },
    "kernelspec": {
      "name": "python3",
      "display_name": "Python 3"
    },
    "language_info": {
      "name": "python"
    }
  },
  "cells": [
    {
      "cell_type": "markdown",
      "metadata": {
        "id": "view-in-github",
        "colab_type": "text"
      },
      "source": [
        "<a href=\"https://colab.research.google.com/github/slavyolov/Algorithms/blob/main/NFT_SU.ipynb\" target=\"_parent\"><img src=\"https://colab.research.google.com/assets/colab-badge.svg\" alt=\"Open In Colab\"/></a>"
      ]
    },
    {
      "cell_type": "code",
      "source": [
        "import warnings\n",
        "\n",
        "# Code block where warnings are ignored\n",
        "with warnings.catch_warnings():\n",
        "    warnings.filterwarnings(\"ignore\")  # Ignore all warnings"
      ],
      "metadata": {
        "id": "Nv_ScV-nQCEo"
      },
      "execution_count": 259,
      "outputs": []
    },
    {
      "cell_type": "code",
      "source": [
        "from google.colab import drive\n",
        "drive.mount('/content/drive')"
      ],
      "metadata": {
        "colab": {
          "base_uri": "https://localhost:8080/"
        },
        "id": "BDP8eQeqQECO",
        "outputId": "6b61a893-9a5e-40d0-848b-89feff0c20fb"
      },
      "execution_count": 260,
      "outputs": [
        {
          "output_type": "stream",
          "name": "stdout",
          "text": [
            "Drive already mounted at /content/drive; to attempt to forcibly remount, call drive.mount(\"/content/drive\", force_remount=True).\n"
          ]
        }
      ]
    },
    {
      "cell_type": "code",
      "source": [
        "!ls"
      ],
      "metadata": {
        "colab": {
          "base_uri": "https://localhost:8080/"
        },
        "id": "f54X1OaXQI-e",
        "outputId": "83e6e1ab-1ea2-482b-e241-60ccd537a4e0"
      },
      "execution_count": 261,
      "outputs": [
        {
          "output_type": "stream",
          "name": "stdout",
          "text": [
            "drive  sample_data\n"
          ]
        }
      ]
    },
    {
      "cell_type": "markdown",
      "source": [
        "https://www.datasciencesociety.net/what-is-nft/"
      ],
      "metadata": {
        "id": "RTQisKiv605u"
      }
    },
    {
      "cell_type": "code",
      "source": [],
      "metadata": {
        "id": "giCabi4pRO76"
      },
      "execution_count": 261,
      "outputs": []
    },
    {
      "cell_type": "markdown",
      "source": [
        "## Data Catalog"
      ],
      "metadata": {
        "id": "Az2l8CRsRPsg"
      }
    },
    {
      "cell_type": "markdown",
      "source": [
        "### “hackathon_tweets”\n",
        "\n",
        "userscreenname – the Twitter name of the profile\n",
        "\n",
        "username – the Twitter handle of the profile\n",
        "\n",
        "timestamp – date and time of the tweet\n",
        "\n",
        "text – contains information about the Twitter name, handle and date of the tweet\n",
        "\n",
        "embedded_text – the full text body of the tweet\n",
        "\n",
        "emojis – the emojis used in the text body of the tweet\n",
        "\n",
        "comments – the amount of comments on the tweet (if NaN, there were no comments)\n",
        "\n",
        "likes – the amount of likes on the tweet\n",
        "\n",
        "retweets – the amount of retweets on the tweet (similar to shares on Facebook)\n",
        "\n",
        "tweet_url – the link to the original tweet\n",
        "\n",
        "user – the name of the profile of the collection or the creator of the collection"
      ],
      "metadata": {
        "id": "b2MkjnW5RMyH"
      }
    },
    {
      "cell_type": "code",
      "execution_count": 262,
      "metadata": {
        "colab": {
          "base_uri": "https://localhost:8080/",
          "height": 424
        },
        "id": "2necLl9I6s2-",
        "outputId": "6cdd2642-a26d-464c-c173-5e62d98215b7"
      },
      "outputs": [
        {
          "output_type": "execute_result",
          "data": {
            "text/plain": [
              "  userscreenname       username            timestamp  \\\n",
              "0  RTFKT Studios  @RTFKTstudios  2021-01-05 23:29:01   \n",
              "1  RTFKT Studios  @RTFKTstudios  2021-01-10 19:36:35   \n",
              "2  RTFKT Studios  @RTFKTstudios  2021-01-11 20:59:57   \n",
              "3  RTFKT Studios  @RTFKTstudios  2021-01-14 21:22:47   \n",
              "4  RTFKT Studios  @RTFKTstudios  2021-01-14 21:28:56   \n",
              "\n",
              "                                            text  \\\n",
              "0   RTFKT Studios\\n@RTFKTstudios\\n·\\nJan 5, 2021   \n",
              "1  RTFKT Studios\\n@RTFKTstudios\\n·\\nJan 10, 2021   \n",
              "2  RTFKT Studios\\n@RTFKTstudios\\n·\\nJan 11, 2021   \n",
              "3  RTFKT Studios\\n@RTFKTstudios\\n·\\nJan 14, 2021   \n",
              "4  RTFKT Studios\\n@RTFKTstudios\\n·\\nJan 14, 2021   \n",
              "\n",
              "                                       embedded_text   emojis comments likes  \\\n",
              "0  When RTFKT Elite collab \\nRTFKT // NBO\\n@NB04D...    🔥 🔥 🔥        2     3   \n",
              "1  Cybersneaker coming late 2021 \\n0:12\\n7,797 vi...        ⚡        5    48   \n",
              "2  New year, new tools \\nintroducing the Unreal S...        🧪        6    14   \n",
              "3  POKEMON CHALLENGE// CC XIV\\n3RD Place :: \\n@Ki...  ⚡ ⚡ 🥉 👟        1     8   \n",
              "4  POKEMON CHALLENGE// CC XIV\\n2ND Place :: \\n@th...  ⚡ ⚡ 🥈 👟        1    15   \n",
              "\n",
              "  retweets                                          tweet_url          user  \n",
              "0       26  https://twitter.com/RTFKTstudios/status/134659...  RTFKTstudios  \n",
              "1      153  https://twitter.com/RTFKTstudios/status/134835...  RTFKTstudios  \n",
              "2       51  https://twitter.com/RTFKTstudios/status/134873...  RTFKTstudios  \n",
              "3       54  https://twitter.com/RTFKTstudios/status/134982...  RTFKTstudios  \n",
              "4      101  https://twitter.com/RTFKTstudios/status/134983...  RTFKTstudios  "
            ],
            "text/html": [
              "\n",
              "  <div id=\"df-a83d9102-854a-4664-b86e-2ef0398dbd7f\">\n",
              "    <div class=\"colab-df-container\">\n",
              "      <div>\n",
              "<style scoped>\n",
              "    .dataframe tbody tr th:only-of-type {\n",
              "        vertical-align: middle;\n",
              "    }\n",
              "\n",
              "    .dataframe tbody tr th {\n",
              "        vertical-align: top;\n",
              "    }\n",
              "\n",
              "    .dataframe thead th {\n",
              "        text-align: right;\n",
              "    }\n",
              "</style>\n",
              "<table border=\"1\" class=\"dataframe\">\n",
              "  <thead>\n",
              "    <tr style=\"text-align: right;\">\n",
              "      <th></th>\n",
              "      <th>userscreenname</th>\n",
              "      <th>username</th>\n",
              "      <th>timestamp</th>\n",
              "      <th>text</th>\n",
              "      <th>embedded_text</th>\n",
              "      <th>emojis</th>\n",
              "      <th>comments</th>\n",
              "      <th>likes</th>\n",
              "      <th>retweets</th>\n",
              "      <th>tweet_url</th>\n",
              "      <th>user</th>\n",
              "    </tr>\n",
              "  </thead>\n",
              "  <tbody>\n",
              "    <tr>\n",
              "      <th>0</th>\n",
              "      <td>RTFKT Studios</td>\n",
              "      <td>@RTFKTstudios</td>\n",
              "      <td>2021-01-05 23:29:01</td>\n",
              "      <td>RTFKT Studios\\n@RTFKTstudios\\n·\\nJan 5, 2021</td>\n",
              "      <td>When RTFKT Elite collab \\nRTFKT // NBO\\n@NB04D...</td>\n",
              "      <td>🔥 🔥 🔥</td>\n",
              "      <td>2</td>\n",
              "      <td>3</td>\n",
              "      <td>26</td>\n",
              "      <td>https://twitter.com/RTFKTstudios/status/134659...</td>\n",
              "      <td>RTFKTstudios</td>\n",
              "    </tr>\n",
              "    <tr>\n",
              "      <th>1</th>\n",
              "      <td>RTFKT Studios</td>\n",
              "      <td>@RTFKTstudios</td>\n",
              "      <td>2021-01-10 19:36:35</td>\n",
              "      <td>RTFKT Studios\\n@RTFKTstudios\\n·\\nJan 10, 2021</td>\n",
              "      <td>Cybersneaker coming late 2021 \\n0:12\\n7,797 vi...</td>\n",
              "      <td>⚡</td>\n",
              "      <td>5</td>\n",
              "      <td>48</td>\n",
              "      <td>153</td>\n",
              "      <td>https://twitter.com/RTFKTstudios/status/134835...</td>\n",
              "      <td>RTFKTstudios</td>\n",
              "    </tr>\n",
              "    <tr>\n",
              "      <th>2</th>\n",
              "      <td>RTFKT Studios</td>\n",
              "      <td>@RTFKTstudios</td>\n",
              "      <td>2021-01-11 20:59:57</td>\n",
              "      <td>RTFKT Studios\\n@RTFKTstudios\\n·\\nJan 11, 2021</td>\n",
              "      <td>New year, new tools \\nintroducing the Unreal S...</td>\n",
              "      <td>🧪</td>\n",
              "      <td>6</td>\n",
              "      <td>14</td>\n",
              "      <td>51</td>\n",
              "      <td>https://twitter.com/RTFKTstudios/status/134873...</td>\n",
              "      <td>RTFKTstudios</td>\n",
              "    </tr>\n",
              "    <tr>\n",
              "      <th>3</th>\n",
              "      <td>RTFKT Studios</td>\n",
              "      <td>@RTFKTstudios</td>\n",
              "      <td>2021-01-14 21:22:47</td>\n",
              "      <td>RTFKT Studios\\n@RTFKTstudios\\n·\\nJan 14, 2021</td>\n",
              "      <td>POKEMON CHALLENGE// CC XIV\\n3RD Place :: \\n@Ki...</td>\n",
              "      <td>⚡ ⚡ 🥉 👟</td>\n",
              "      <td>1</td>\n",
              "      <td>8</td>\n",
              "      <td>54</td>\n",
              "      <td>https://twitter.com/RTFKTstudios/status/134982...</td>\n",
              "      <td>RTFKTstudios</td>\n",
              "    </tr>\n",
              "    <tr>\n",
              "      <th>4</th>\n",
              "      <td>RTFKT Studios</td>\n",
              "      <td>@RTFKTstudios</td>\n",
              "      <td>2021-01-14 21:28:56</td>\n",
              "      <td>RTFKT Studios\\n@RTFKTstudios\\n·\\nJan 14, 2021</td>\n",
              "      <td>POKEMON CHALLENGE// CC XIV\\n2ND Place :: \\n@th...</td>\n",
              "      <td>⚡ ⚡ 🥈 👟</td>\n",
              "      <td>1</td>\n",
              "      <td>15</td>\n",
              "      <td>101</td>\n",
              "      <td>https://twitter.com/RTFKTstudios/status/134983...</td>\n",
              "      <td>RTFKTstudios</td>\n",
              "    </tr>\n",
              "  </tbody>\n",
              "</table>\n",
              "</div>\n",
              "      <button class=\"colab-df-convert\" onclick=\"convertToInteractive('df-a83d9102-854a-4664-b86e-2ef0398dbd7f')\"\n",
              "              title=\"Convert this dataframe to an interactive table.\"\n",
              "              style=\"display:none;\">\n",
              "        \n",
              "  <svg xmlns=\"http://www.w3.org/2000/svg\" height=\"24px\"viewBox=\"0 0 24 24\"\n",
              "       width=\"24px\">\n",
              "    <path d=\"M0 0h24v24H0V0z\" fill=\"none\"/>\n",
              "    <path d=\"M18.56 5.44l.94 2.06.94-2.06 2.06-.94-2.06-.94-.94-2.06-.94 2.06-2.06.94zm-11 1L8.5 8.5l.94-2.06 2.06-.94-2.06-.94L8.5 2.5l-.94 2.06-2.06.94zm10 10l.94 2.06.94-2.06 2.06-.94-2.06-.94-.94-2.06-.94 2.06-2.06.94z\"/><path d=\"M17.41 7.96l-1.37-1.37c-.4-.4-.92-.59-1.43-.59-.52 0-1.04.2-1.43.59L10.3 9.45l-7.72 7.72c-.78.78-.78 2.05 0 2.83L4 21.41c.39.39.9.59 1.41.59.51 0 1.02-.2 1.41-.59l7.78-7.78 2.81-2.81c.8-.78.8-2.07 0-2.86zM5.41 20L4 18.59l7.72-7.72 1.47 1.35L5.41 20z\"/>\n",
              "  </svg>\n",
              "      </button>\n",
              "      \n",
              "  <style>\n",
              "    .colab-df-container {\n",
              "      display:flex;\n",
              "      flex-wrap:wrap;\n",
              "      gap: 12px;\n",
              "    }\n",
              "\n",
              "    .colab-df-convert {\n",
              "      background-color: #E8F0FE;\n",
              "      border: none;\n",
              "      border-radius: 50%;\n",
              "      cursor: pointer;\n",
              "      display: none;\n",
              "      fill: #1967D2;\n",
              "      height: 32px;\n",
              "      padding: 0 0 0 0;\n",
              "      width: 32px;\n",
              "    }\n",
              "\n",
              "    .colab-df-convert:hover {\n",
              "      background-color: #E2EBFA;\n",
              "      box-shadow: 0px 1px 2px rgba(60, 64, 67, 0.3), 0px 1px 3px 1px rgba(60, 64, 67, 0.15);\n",
              "      fill: #174EA6;\n",
              "    }\n",
              "\n",
              "    [theme=dark] .colab-df-convert {\n",
              "      background-color: #3B4455;\n",
              "      fill: #D2E3FC;\n",
              "    }\n",
              "\n",
              "    [theme=dark] .colab-df-convert:hover {\n",
              "      background-color: #434B5C;\n",
              "      box-shadow: 0px 1px 3px 1px rgba(0, 0, 0, 0.15);\n",
              "      filter: drop-shadow(0px 1px 2px rgba(0, 0, 0, 0.3));\n",
              "      fill: #FFFFFF;\n",
              "    }\n",
              "  </style>\n",
              "\n",
              "      <script>\n",
              "        const buttonEl =\n",
              "          document.querySelector('#df-a83d9102-854a-4664-b86e-2ef0398dbd7f button.colab-df-convert');\n",
              "        buttonEl.style.display =\n",
              "          google.colab.kernel.accessAllowed ? 'block' : 'none';\n",
              "\n",
              "        async function convertToInteractive(key) {\n",
              "          const element = document.querySelector('#df-a83d9102-854a-4664-b86e-2ef0398dbd7f');\n",
              "          const dataTable =\n",
              "            await google.colab.kernel.invokeFunction('convertToInteractive',\n",
              "                                                     [key], {});\n",
              "          if (!dataTable) return;\n",
              "\n",
              "          const docLinkHtml = 'Like what you see? Visit the ' +\n",
              "            '<a target=\"_blank\" href=https://colab.research.google.com/notebooks/data_table.ipynb>data table notebook</a>'\n",
              "            + ' to learn more about interactive tables.';\n",
              "          element.innerHTML = '';\n",
              "          dataTable['output_type'] = 'display_data';\n",
              "          await google.colab.output.renderOutput(dataTable, element);\n",
              "          const docLink = document.createElement('div');\n",
              "          docLink.innerHTML = docLinkHtml;\n",
              "          element.appendChild(docLink);\n",
              "        }\n",
              "      </script>\n",
              "    </div>\n",
              "  </div>\n",
              "  "
            ]
          },
          "metadata": {},
          "execution_count": 262
        }
      ],
      "source": [
        "import pandas as pd\n",
        "import seaborn as sns\n",
        "import matplotlib.pyplot as plt\n",
        "import seaborn as sns\n",
        "import numpy as np\n",
        "\n",
        "tweets_df = pd.read_csv(\"/content/drive/MyDrive/NFT/hackathon_tweets.csv\")\n",
        "tweets_df.drop(columns=[\"Unnamed: 0\"], inplace=True)\n",
        "tweets_df.head()\n",
        "# print(df.info())\n",
        "# print(df.describe().T)"
      ]
    },
    {
      "cell_type": "code",
      "source": [
        "tweets_df.groupby([\"username\", \"userscreenname\", \"user\"])[\"username\"].count()"
      ],
      "metadata": {
        "colab": {
          "base_uri": "https://localhost:8080/"
        },
        "id": "PLjlfbA4kJje",
        "outputId": "5e4325ed-41d7-46c2-f6f8-11c24c0f128d"
      },
      "execution_count": 263,
      "outputs": [
        {
          "output_type": "execute_result",
          "data": {
            "text/plain": [
              "username        userscreenname             user         \n",
              "@AzukiOfficial  Azuki                      AzukiOfficial      12\n",
              "@BoredApeYC     Bored Ape Yacht Club       BoredApeYC        270\n",
              "@MeebitsDAO     MeebitsDAO (minting now!)  MeebitsDAO        497\n",
              "@RTFKTstudios   RTFKT Studios              RTFKTstudios     1393\n",
              "@coolcatsnft    Cool Cats                  coolcatsnft       649\n",
              "@doodles        doodles                    doodles           246\n",
              "@pudgypenguins  Pudgy Penguins             pudgypenguins      13\n",
              "@pudgypengus    Penguins                   pudgypenguins       1\n",
              "Name: username, dtype: int64"
            ]
          },
          "metadata": {},
          "execution_count": 263
        }
      ]
    },
    {
      "cell_type": "code",
      "source": [
        "import pandas as pd\n",
        "import matplotlib.pyplot as plt\n",
        "\n",
        "# Assuming you have the tweets_df dataframe and want to count the tweets\n",
        "tweets_p = tweets_df.groupby([\"userscreenname\"])[\"user\"].count()\n",
        "tweets_p = tweets_p.reset_index()\n",
        "tweets_p.columns = [\"tokenName\", \"count\"]\n",
        "tweets_p = tweets_p.sort_values(\"count\")\n",
        "\n",
        "# Create a bar plot\n",
        "import matplotlib.pyplot as plt\n",
        "\n",
        "# Assuming you have the tweets_p dataframe with \"tokenName\" and \"count\" columns\n",
        "plt.figure(figsize=(10, 6))\n",
        "plt.bar(tweets_p[\"tokenName\"], tweets_p[\"count\"])\n",
        "\n",
        "# Add labels and title to the plot\n",
        "plt.xlabel(\"Username\")\n",
        "plt.ylabel(\"Tweet Count\")\n",
        "plt.title(\"Number of Tweets by Username\")\n",
        "\n",
        "# Rotate x-axis labels for better readability if needed\n",
        "plt.xticks(rotation=45)\n",
        "\n",
        "# Display the plot\n",
        "plt.show()"
      ],
      "metadata": {
        "colab": {
          "base_uri": "https://localhost:8080/",
          "height": 696
        },
        "id": "5sSf4-jUHxMG",
        "outputId": "fda63b29-3a98-420d-e4df-78d2e0906139"
      },
      "execution_count": 264,
      "outputs": [
        {
          "output_type": "display_data",
          "data": {
            "text/plain": [
              "<Figure size 1000x600 with 1 Axes>"
            ],
            "image/png": "[encoded data removed]"
          },
          "metadata": {}
        }
      ]
    },
    {
      "cell_type": "markdown",
      "source": [
        "#### Data processing Tweets"
      ],
      "metadata": {
        "id": "s-fPQw9aAY3Z"
      }
    },
    {
      "cell_type": "code",
      "source": [
        "tweets_df[\"date\"] = pd.to_datetime(tweets_df[\"timestamp\"]).dt.date\n",
        "\n",
        "# Tweets per date per user\n",
        "tweets_count = tweets_df.groupby([\"user\", \"date\"])[\"username\"].count().reset_index()\n",
        "tweets_count\n",
        "\n",
        "# map the names properly so that they corespond to the ones available in the sales data\n",
        "mapping_dict = {\n",
        "    'AzukiOfficial': 'Azuki',\n",
        "    'pudgypenguins': 'PudgyPenguins',\n",
        "    'doodles': 'Doodles',\n",
        "    'coolcatsnft': 'Cool Cats',\n",
        "    'MeebitsDAO': 'Meebits',\n",
        "    'BoredApeYC': 'BoredApeYachtClub'\n",
        "}\n",
        "\n",
        "# Recode the \"user\" column using the mapping dictionary\n",
        "tweets_count[\"user\"] = tweets_count[\"user\"].replace(mapping_dict)\n",
        "\n",
        "# drop the RTFKTstudios values\n",
        "tweets_count = tweets_count[tweets_count[\"user\"] != 'RTFKTstudios']\n",
        "\n",
        "# Rename the columns\n",
        "tweets_count = tweets_count.rename(columns={'user': 'tokenName',\n",
        "                                            'username': 'tweet_count'\n",
        "                                            })\n",
        "tweets_count"
      ],
      "metadata": {
        "colab": {
          "base_uri": "https://localhost:8080/",
          "height": 424
        },
        "id": "EKXxOPorAYdj",
        "outputId": "f6751a52-71cb-4d19-f7c8-ad5b02860b6b"
      },
      "execution_count": 265,
      "outputs": [
        {
          "output_type": "execute_result",
          "data": {
            "text/plain": [
              "          tokenName        date  tweet_count\n",
              "0             Azuki  2022-03-30            1\n",
              "1             Azuki  2022-03-31            3\n",
              "2             Azuki  2022-04-01            1\n",
              "3             Azuki  2022-04-02            3\n",
              "4             Azuki  2022-04-09            1\n",
              "...             ...         ...          ...\n",
              "1183  PudgyPenguins  2022-04-08            2\n",
              "1184  PudgyPenguins  2022-04-09            1\n",
              "1185  PudgyPenguins  2022-04-10            2\n",
              "1186  PudgyPenguins  2022-04-11            1\n",
              "1187  PudgyPenguins  2022-04-12            1\n",
              "\n",
              "[777 rows x 3 columns]"
            ],
            "text/html": [
              "\n",
              "  <div id=\"df-ab0c89b1-518c-48d0-9d0c-00a13a69ec41\">\n",
              "    <div class=\"colab-df-container\">\n",
              "      <div>\n",
              "<style scoped>\n",
              "    .dataframe tbody tr th:only-of-type {\n",
              "        vertical-align: middle;\n",
              "    }\n",
              "\n",
              "    .dataframe tbody tr th {\n",
              "        vertical-align: top;\n",
              "    }\n",
              "\n",
              "    .dataframe thead th {\n",
              "        text-align: right;\n",
              "    }\n",
              "</style>\n",
              "<table border=\"1\" class=\"dataframe\">\n",
              "  <thead>\n",
              "    <tr style=\"text-align: right;\">\n",
              "      <th></th>\n",
              "      <th>tokenName</th>\n",
              "      <th>date</th>\n",
              "      <th>tweet_count</th>\n",
              "    </tr>\n",
              "  </thead>\n",
              "  <tbody>\n",
              "    <tr>\n",
              "      <th>0</th>\n",
              "      <td>Azuki</td>\n",
              "      <td>2022-03-30</td>\n",
              "      <td>1</td>\n",
              "    </tr>\n",
              "    <tr>\n",
              "      <th>1</th>\n",
              "      <td>Azuki</td>\n",
              "      <td>2022-03-31</td>\n",
              "      <td>3</td>\n",
              "    </tr>\n",
              "    <tr>\n",
              "      <th>2</th>\n",
              "      <td>Azuki</td>\n",
              "      <td>2022-04-01</td>\n",
              "      <td>1</td>\n",
              "    </tr>\n",
              "    <tr>\n",
              "      <th>3</th>\n",
              "      <td>Azuki</td>\n",
              "      <td>2022-04-02</td>\n",
              "      <td>3</td>\n",
              "    </tr>\n",
              "    <tr>\n",
              "      <th>4</th>\n",
              "      <td>Azuki</td>\n",
              "      <td>2022-04-09</td>\n",
              "      <td>1</td>\n",
              "    </tr>\n",
              "    <tr>\n",
              "      <th>...</th>\n",
              "      <td>...</td>\n",
              "      <td>...</td>\n",
              "      <td>...</td>\n",
              "    </tr>\n",
              "    <tr>\n",
              "      <th>1183</th>\n",
              "      <td>PudgyPenguins</td>\n",
              "      <td>2022-04-08</td>\n",
              "      <td>2</td>\n",
              "    </tr>\n",
              "    <tr>\n",
              "      <th>1184</th>\n",
              "      <td>PudgyPenguins</td>\n",
              "      <td>2022-04-09</td>\n",
              "      <td>1</td>\n",
              "    </tr>\n",
              "    <tr>\n",
              "      <th>1185</th>\n",
              "      <td>PudgyPenguins</td>\n",
              "      <td>2022-04-10</td>\n",
              "      <td>2</td>\n",
              "    </tr>\n",
              "    <tr>\n",
              "      <th>1186</th>\n",
              "      <td>PudgyPenguins</td>\n",
              "      <td>2022-04-11</td>\n",
              "      <td>1</td>\n",
              "    </tr>\n",
              "    <tr>\n",
              "      <th>1187</th>\n",
              "      <td>PudgyPenguins</td>\n",
              "      <td>2022-04-12</td>\n",
              "      <td>1</td>\n",
              "    </tr>\n",
              "  </tbody>\n",
              "</table>\n",
              "<p>777 rows × 3 columns</p>\n",
              "</div>\n",
              "      <button class=\"colab-df-convert\" onclick=\"convertToInteractive('df-ab0c89b1-518c-48d0-9d0c-00a13a69ec41')\"\n",
              "              title=\"Convert this dataframe to an interactive table.\"\n",
              "              style=\"display:none;\">\n",
              "        \n",
              "  <svg xmlns=\"http://www.w3.org/2000/svg\" height=\"24px\"viewBox=\"0 0 24 24\"\n",
              "       width=\"24px\">\n",
              "    <path d=\"M0 0h24v24H0V0z\" fill=\"none\"/>\n",
              "    <path d=\"M18.56 5.44l.94 2.06.94-2.06 2.06-.94-2.06-.94-.94-2.06-.94 2.06-2.06.94zm-11 1L8.5 8.5l.94-2.06 2.06-.94-2.06-.94L8.5 2.5l-.94 2.06-2.06.94zm10 10l.94 2.06.94-2.06 2.06-.94-2.06-.94-.94-2.06-.94 2.06-2.06.94z\"/><path d=\"M17.41 7.96l-1.37-1.37c-.4-.4-.92-.59-1.43-.59-.52 0-1.04.2-1.43.59L10.3 9.45l-7.72 7.72c-.78.78-.78 2.05 0 2.83L4 21.41c.39.39.9.59 1.41.59.51 0 1.02-.2 1.41-.59l7.78-7.78 2.81-2.81c.8-.78.8-2.07 0-2.86zM5.41 20L4 18.59l7.72-7.72 1.47 1.35L5.41 20z\"/>\n",
              "  </svg>\n",
              "      </button>\n",
              "      \n",
              "  <style>\n",
              "    .colab-df-container {\n",
              "      display:flex;\n",
              "      flex-wrap:wrap;\n",
              "      gap: 12px;\n",
              "    }\n",
              "\n",
              "    .colab-df-convert {\n",
              "      background-color: #E8F0FE;\n",
              "      border: none;\n",
              "      border-radius: 50%;\n",
              "      cursor: pointer;\n",
              "      display: none;\n",
              "      fill: #1967D2;\n",
              "      height: 32px;\n",
              "      padding: 0 0 0 0;\n",
              "      width: 32px;\n",
              "    }\n",
              "\n",
              "    .colab-df-convert:hover {\n",
              "      background-color: #E2EBFA;\n",
              "      box-shadow: 0px 1px 2px rgba(60, 64, 67, 0.3), 0px 1px 3px 1px rgba(60, 64, 67, 0.15);\n",
              "      fill: #174EA6;\n",
              "    }\n",
              "\n",
              "    [theme=dark] .colab-df-convert {\n",
              "      background-color: #3B4455;\n",
              "      fill: #D2E3FC;\n",
              "    }\n",
              "\n",
              "    [theme=dark] .colab-df-convert:hover {\n",
              "      background-color: #434B5C;\n",
              "      box-shadow: 0px 1px 3px 1px rgba(0, 0, 0, 0.15);\n",
              "      filter: drop-shadow(0px 1px 2px rgba(0, 0, 0, 0.3));\n",
              "      fill: #FFFFFF;\n",
              "    }\n",
              "  </style>\n",
              "\n",
              "      <script>\n",
              "        const buttonEl =\n",
              "          document.querySelector('#df-ab0c89b1-518c-48d0-9d0c-00a13a69ec41 button.colab-df-convert');\n",
              "        buttonEl.style.display =\n",
              "          google.colab.kernel.accessAllowed ? 'block' : 'none';\n",
              "\n",
              "        async function convertToInteractive(key) {\n",
              "          const element = document.querySelector('#df-ab0c89b1-518c-48d0-9d0c-00a13a69ec41');\n",
              "          const dataTable =\n",
              "            await google.colab.kernel.invokeFunction('convertToInteractive',\n",
              "                                                     [key], {});\n",
              "          if (!dataTable) return;\n",
              "\n",
              "          const docLinkHtml = 'Like what you see? Visit the ' +\n",
              "            '<a target=\"_blank\" href=https://colab.research.google.com/notebooks/data_table.ipynb>data table notebook</a>'\n",
              "            + ' to learn more about interactive tables.';\n",
              "          element.innerHTML = '';\n",
              "          dataTable['output_type'] = 'display_data';\n",
              "          await google.colab.output.renderOutput(dataTable, element);\n",
              "          const docLink = document.createElement('div');\n",
              "          docLink.innerHTML = docLinkHtml;\n",
              "          element.appendChild(docLink);\n",
              "        }\n",
              "      </script>\n",
              "    </div>\n",
              "  </div>\n",
              "  "
            ]
          },
          "metadata": {},
          "execution_count": 265
        }
      ]
    },
    {
      "cell_type": "markdown",
      "source": [
        "### Traits\n",
        "collection – contact name\n",
        "\n",
        "contract – contract for returned NFT\n",
        "\n",
        "token_id – The number of the Token in the collection, unique to each Token\n",
        "\n",
        "nft-url – uri representing the location of the NFT’s original metadata blob\n",
        "\n",
        "trait_type – traits/attributes/characteristics for each NFT asset.\n",
        "\n",
        "value – traits/attributes/characteristics for each NFT asset."
      ],
      "metadata": {
        "id": "fP_-UpCRlZrb"
      }
    },
    {
      "cell_type": "code",
      "source": [
        "traits_df = pd.read_csv(\"/content/drive/MyDrive/NFT/NFT_Hackathon_Traits.csv\")\n",
        "traits_df.drop(columns=[\"Unnamed: 0\"], inplace=True)\n",
        "traits_df.head()"
      ],
      "metadata": {
        "colab": {
          "base_uri": "https://localhost:8080/",
          "height": 206
        },
        "id": "uLvsx9rulPep",
        "outputId": "955e6d7f-b6e1-4ea3-82fc-d8a141a3f899"
      },
      "execution_count": 266,
      "outputs": [
        {
          "output_type": "execute_result",
          "data": {
            "text/plain": [
              "  collection                                    contract  token_id  \\\n",
              "0      azuki  0xed5af388653567af2f388e6224dc7c4b3241c544         0   \n",
              "1      azuki  0xed5af388653567af2f388e6224dc7c4b3241c544         0   \n",
              "2      azuki  0xed5af388653567af2f388e6224dc7c4b3241c544         0   \n",
              "3      azuki  0xed5af388653567af2f388e6224dc7c4b3241c544         0   \n",
              "4      azuki  0xed5af388653567af2f388e6224dc7c4b3241c544         0   \n",
              "\n",
              "                                             nft_url trait_type  \\\n",
              "0  https://ikzttp.mypinata.cloud/ipfs/QmQFkLSQysj...       Type   \n",
              "1  https://ikzttp.mypinata.cloud/ipfs/QmQFkLSQysj...       Hair   \n",
              "2  https://ikzttp.mypinata.cloud/ipfs/QmQFkLSQysj...   Clothing   \n",
              "3  https://ikzttp.mypinata.cloud/ipfs/QmQFkLSQysj...       Eyes   \n",
              "4  https://ikzttp.mypinata.cloud/ipfs/QmQFkLSQysj...      Mouth   \n",
              "\n",
              "                   value  \n",
              "0                  Human  \n",
              "1                  Water  \n",
              "2  Pink Oversized Kimono  \n",
              "3               Striking  \n",
              "4                  Frown  "
            ],
            "text/html": [
              "\n",
              "  <div id=\"df-51e0565a-5240-428c-ac48-ad4a0f6bd91c\">\n",
              "    <div class=\"colab-df-container\">\n",
              "      <div>\n",
              "<style scoped>\n",
              "    .dataframe tbody tr th:only-of-type {\n",
              "        vertical-align: middle;\n",
              "    }\n",
              "\n",
              "    .dataframe tbody tr th {\n",
              "        vertical-align: top;\n",
              "    }\n",
              "\n",
              "    .dataframe thead th {\n",
              "        text-align: right;\n",
              "    }\n",
              "</style>\n",
              "<table border=\"1\" class=\"dataframe\">\n",
              "  <thead>\n",
              "    <tr style=\"text-align: right;\">\n",
              "      <th></th>\n",
              "      <th>collection</th>\n",
              "      <th>contract</th>\n",
              "      <th>token_id</th>\n",
              "      <th>nft_url</th>\n",
              "      <th>trait_type</th>\n",
              "      <th>value</th>\n",
              "    </tr>\n",
              "  </thead>\n",
              "  <tbody>\n",
              "    <tr>\n",
              "      <th>0</th>\n",
              "      <td>azuki</td>\n",
              "      <td>0xed5af388653567af2f388e6224dc7c4b3241c544</td>\n",
              "      <td>0</td>\n",
              "      <td>https://ikzttp.mypinata.cloud/ipfs/QmQFkLSQysj...</td>\n",
              "      <td>Type</td>\n",
              "      <td>Human</td>\n",
              "    </tr>\n",
              "    <tr>\n",
              "      <th>1</th>\n",
              "      <td>azuki</td>\n",
              "      <td>0xed5af388653567af2f388e6224dc7c4b3241c544</td>\n",
              "      <td>0</td>\n",
              "      <td>https://ikzttp.mypinata.cloud/ipfs/QmQFkLSQysj...</td>\n",
              "      <td>Hair</td>\n",
              "      <td>Water</td>\n",
              "    </tr>\n",
              "    <tr>\n",
              "      <th>2</th>\n",
              "      <td>azuki</td>\n",
              "      <td>0xed5af388653567af2f388e6224dc7c4b3241c544</td>\n",
              "      <td>0</td>\n",
              "      <td>https://ikzttp.mypinata.cloud/ipfs/QmQFkLSQysj...</td>\n",
              "      <td>Clothing</td>\n",
              "      <td>Pink Oversized Kimono</td>\n",
              "    </tr>\n",
              "    <tr>\n",
              "      <th>3</th>\n",
              "      <td>azuki</td>\n",
              "      <td>0xed5af388653567af2f388e6224dc7c4b3241c544</td>\n",
              "      <td>0</td>\n",
              "      <td>https://ikzttp.mypinata.cloud/ipfs/QmQFkLSQysj...</td>\n",
              "      <td>Eyes</td>\n",
              "      <td>Striking</td>\n",
              "    </tr>\n",
              "    <tr>\n",
              "      <th>4</th>\n",
              "      <td>azuki</td>\n",
              "      <td>0xed5af388653567af2f388e6224dc7c4b3241c544</td>\n",
              "      <td>0</td>\n",
              "      <td>https://ikzttp.mypinata.cloud/ipfs/QmQFkLSQysj...</td>\n",
              "      <td>Mouth</td>\n",
              "      <td>Frown</td>\n",
              "    </tr>\n",
              "  </tbody>\n",
              "</table>\n",
              "</div>\n",
              "      <button class=\"colab-df-convert\" onclick=\"convertToInteractive('df-51e0565a-5240-428c-ac48-ad4a0f6bd91c')\"\n",
              "              title=\"Convert this dataframe to an interactive table.\"\n",
              "              style=\"display:none;\">\n",
              "        \n",
              "  <svg xmlns=\"http://www.w3.org/2000/svg\" height=\"24px\"viewBox=\"0 0 24 24\"\n",
              "       width=\"24px\">\n",
              "    <path d=\"M0 0h24v24H0V0z\" fill=\"none\"/>\n",
              "    <path d=\"M18.56 5.44l.94 2.06.94-2.06 2.06-.94-2.06-.94-.94-2.06-.94 2.06-2.06.94zm-11 1L8.5 8.5l.94-2.06 2.06-.94-2.06-.94L8.5 2.5l-.94 2.06-2.06.94zm10 10l.94 2.06.94-2.06 2.06-.94-2.06-.94-.94-2.06-.94 2.06-2.06.94z\"/><path d=\"M17.41 7.96l-1.37-1.37c-.4-.4-.92-.59-1.43-.59-.52 0-1.04.2-1.43.59L10.3 9.45l-7.72 7.72c-.78.78-.78 2.05 0 2.83L4 21.41c.39.39.9.59 1.41.59.51 0 1.02-.2 1.41-.59l7.78-7.78 2.81-2.81c.8-.78.8-2.07 0-2.86zM5.41 20L4 18.59l7.72-7.72 1.47 1.35L5.41 20z\"/>\n",
              "  </svg>\n",
              "      </button>\n",
              "      \n",
              "  <style>\n",
              "    .colab-df-container {\n",
              "      display:flex;\n",
              "      flex-wrap:wrap;\n",
              "      gap: 12px;\n",
              "    }\n",
              "\n",
              "    .colab-df-convert {\n",
              "      background-color: #E8F0FE;\n",
              "      border: none;\n",
              "      border-radius: 50%;\n",
              "      cursor: pointer;\n",
              "      display: none;\n",
              "      fill: #1967D2;\n",
              "      height: 32px;\n",
              "      padding: 0 0 0 0;\n",
              "      width: 32px;\n",
              "    }\n",
              "\n",
              "    .colab-df-convert:hover {\n",
              "      background-color: #E2EBFA;\n",
              "      box-shadow: 0px 1px 2px rgba(60, 64, 67, 0.3), 0px 1px 3px 1px rgba(60, 64, 67, 0.15);\n",
              "      fill: #174EA6;\n",
              "    }\n",
              "\n",
              "    [theme=dark] .colab-df-convert {\n",
              "      background-color: #3B4455;\n",
              "      fill: #D2E3FC;\n",
              "    }\n",
              "\n",
              "    [theme=dark] .colab-df-convert:hover {\n",
              "      background-color: #434B5C;\n",
              "      box-shadow: 0px 1px 3px 1px rgba(0, 0, 0, 0.15);\n",
              "      filter: drop-shadow(0px 1px 2px rgba(0, 0, 0, 0.3));\n",
              "      fill: #FFFFFF;\n",
              "    }\n",
              "  </style>\n",
              "\n",
              "      <script>\n",
              "        const buttonEl =\n",
              "          document.querySelector('#df-51e0565a-5240-428c-ac48-ad4a0f6bd91c button.colab-df-convert');\n",
              "        buttonEl.style.display =\n",
              "          google.colab.kernel.accessAllowed ? 'block' : 'none';\n",
              "\n",
              "        async function convertToInteractive(key) {\n",
              "          const element = document.querySelector('#df-51e0565a-5240-428c-ac48-ad4a0f6bd91c');\n",
              "          const dataTable =\n",
              "            await google.colab.kernel.invokeFunction('convertToInteractive',\n",
              "                                                     [key], {});\n",
              "          if (!dataTable) return;\n",
              "\n",
              "          const docLinkHtml = 'Like what you see? Visit the ' +\n",
              "            '<a target=\"_blank\" href=https://colab.research.google.com/notebooks/data_table.ipynb>data table notebook</a>'\n",
              "            + ' to learn more about interactive tables.';\n",
              "          element.innerHTML = '';\n",
              "          dataTable['output_type'] = 'display_data';\n",
              "          await google.colab.output.renderOutput(dataTable, element);\n",
              "          const docLink = document.createElement('div');\n",
              "          docLink.innerHTML = docLinkHtml;\n",
              "          element.appendChild(docLink);\n",
              "        }\n",
              "      </script>\n",
              "    </div>\n",
              "  </div>\n",
              "  "
            ]
          },
          "metadata": {},
          "execution_count": 266
        }
      ]
    },
    {
      "cell_type": "code",
      "source": [
        "print(\"Number of unique trait combinations per token_id : \", traits_df[[\"token_id\"]].nunique()[0])\n",
        "\n",
        "# block number & time stamp"
      ],
      "metadata": {
        "colab": {
          "base_uri": "https://localhost:8080/"
        },
        "id": "5xlhb2R-vv2A",
        "outputId": "df93ae3d-a84c-4c52-e9c2-538a678ef972"
      },
      "execution_count": 267,
      "outputs": [
        {
          "output_type": "stream",
          "name": "stdout",
          "text": [
            "Number of unique trait combinations per token_id :  24212\n"
          ]
        }
      ]
    },
    {
      "cell_type": "code",
      "source": [
        "print(\"Number of unique trait combinations per trait_typ : \", traits_df[[\"trait_type\"]].nunique()[0])\n",
        "\n",
        "# block number & time stamp"
      ],
      "metadata": {
        "colab": {
          "base_uri": "https://localhost:8080/"
        },
        "id": "fiLoI5tevbfx",
        "outputId": "60b6f618-95a0-4700-de78-da1f6af12ac2"
      },
      "execution_count": 268,
      "outputs": [
        {
          "output_type": "stream",
          "name": "stdout",
          "text": [
            "Number of unique trait combinations per trait_typ :  55\n"
          ]
        }
      ]
    },
    {
      "cell_type": "code",
      "source": [
        "unique_values = traits_df[\"trait_type\"].unique()\n",
        "trait_list = unique_values.tolist()\n",
        "trait_list = list(set(trait_list))\n",
        "trait_list\n",
        "\n",
        "lowercase_list = [item.lower() for item in trait_list]\n",
        "unique_lower_list = list(set(lowercase_list))\n",
        "\n",
        "print(len(trait_list))\n",
        "print(len(unique_lower_list))\n",
        "unique_lower_list"
      ],
      "metadata": {
        "colab": {
          "base_uri": "https://localhost:8080/"
        },
        "id": "wvdiMfDXwEBX",
        "outputId": "329bf0a5-2327-4f97-9c56-1d95ed6d66a3"
      },
      "execution_count": 269,
      "outputs": [
        {
          "output_type": "stream",
          "name": "stdout",
          "text": [
            "55\n",
            "49\n"
          ]
        },
        {
          "output_type": "execute_result",
          "data": {
            "text/plain": [
              "['eye color',\n",
              " 'background',\n",
              " 'jewelry',\n",
              " 'hair',\n",
              " 'beard',\n",
              " 'fur',\n",
              " 'hat color',\n",
              " 'neck',\n",
              " 'shirt',\n",
              " 'special',\n",
              " 'dna',\n",
              " 'glasses color',\n",
              " 'helmet',\n",
              " 'hat',\n",
              " 'head',\n",
              " 'name',\n",
              " 'mouth',\n",
              " 'offhand',\n",
              " 'pants',\n",
              " 'clothes',\n",
              " 'beard color',\n",
              " 'type',\n",
              " 'necklace',\n",
              " 'ear',\n",
              " 'tattoo motif',\n",
              " 'hats',\n",
              " 'shoes color',\n",
              " 'eyewear',\n",
              " 'facial feature',\n",
              " 'glasses',\n",
              " 'tier',\n",
              " 'clothing',\n",
              " 'piercing',\n",
              " 'shirt color',\n",
              " 'earring',\n",
              " 'hair style',\n",
              " 'skin',\n",
              " 'body',\n",
              " 'accessories',\n",
              " 'face',\n",
              " 'headgear',\n",
              " 'pants color',\n",
              " 'eyes',\n",
              " 'hair color',\n",
              " 'back',\n",
              " 'shoes',\n",
              " 'overshirt',\n",
              " 'overshirt color',\n",
              " 'jersey number']"
            ]
          },
          "metadata": {},
          "execution_count": 269
        }
      ]
    },
    {
      "cell_type": "code",
      "source": [
        "traits_count = pd.DataFrame(traits_df.groupby([\"trait_type\", \"value\"])[\"token_id\"].count())\n",
        "traits_count = traits_count.reset_index()\n",
        "traits_count"
      ],
      "metadata": {
        "colab": {
          "base_uri": "https://localhost:8080/",
          "height": 424
        },
        "id": "MY4G7Xptukd6",
        "outputId": "e88e167e-9706-440d-dfed-2ddf53f61de6"
      },
      "execution_count": 270,
      "outputs": [
        {
          "output_type": "execute_result",
          "data": {
            "text/plain": [
              "       trait_type                value  token_id\n",
              "0     Accessories        Cross Earring       377\n",
              "1     Accessories            GLD Round       275\n",
              "2     Accessories             GLD STUD       132\n",
              "3     Accessories  Gold Round Earrings       165\n",
              "4     Accessories         Neo Earrings        52\n",
              "...           ...                  ...       ...\n",
              "3230         tier               cool_2      2584\n",
              "3231         tier             exotic_1       499\n",
              "3232         tier             exotic_2       148\n",
              "3233         tier               wild_1      1743\n",
              "3234         tier               wild_2      1241\n",
              "\n",
              "[3235 rows x 3 columns]"
            ],
            "text/html": [
              "\n",
              "  <div id=\"df-65e00ea4-13b8-4b47-a5c3-0434ed6c15b3\">\n",
              "    <div class=\"colab-df-container\">\n",
              "      <div>\n",
              "<style scoped>\n",
              "    .dataframe tbody tr th:only-of-type {\n",
              "        vertical-align: middle;\n",
              "    }\n",
              "\n",
              "    .dataframe tbody tr th {\n",
              "        vertical-align: top;\n",
              "    }\n",
              "\n",
              "    .dataframe thead th {\n",
              "        text-align: right;\n",
              "    }\n",
              "</style>\n",
              "<table border=\"1\" class=\"dataframe\">\n",
              "  <thead>\n",
              "    <tr style=\"text-align: right;\">\n",
              "      <th></th>\n",
              "      <th>trait_type</th>\n",
              "      <th>value</th>\n",
              "      <th>token_id</th>\n",
              "    </tr>\n",
              "  </thead>\n",
              "  <tbody>\n",
              "    <tr>\n",
              "      <th>0</th>\n",
              "      <td>Accessories</td>\n",
              "      <td>Cross Earring</td>\n",
              "      <td>377</td>\n",
              "    </tr>\n",
              "    <tr>\n",
              "      <th>1</th>\n",
              "      <td>Accessories</td>\n",
              "      <td>GLD Round</td>\n",
              "      <td>275</td>\n",
              "    </tr>\n",
              "    <tr>\n",
              "      <th>2</th>\n",
              "      <td>Accessories</td>\n",
              "      <td>GLD STUD</td>\n",
              "      <td>132</td>\n",
              "    </tr>\n",
              "    <tr>\n",
              "      <th>3</th>\n",
              "      <td>Accessories</td>\n",
              "      <td>Gold Round Earrings</td>\n",
              "      <td>165</td>\n",
              "    </tr>\n",
              "    <tr>\n",
              "      <th>4</th>\n",
              "      <td>Accessories</td>\n",
              "      <td>Neo Earrings</td>\n",
              "      <td>52</td>\n",
              "    </tr>\n",
              "    <tr>\n",
              "      <th>...</th>\n",
              "      <td>...</td>\n",
              "      <td>...</td>\n",
              "      <td>...</td>\n",
              "    </tr>\n",
              "    <tr>\n",
              "      <th>3230</th>\n",
              "      <td>tier</td>\n",
              "      <td>cool_2</td>\n",
              "      <td>2584</td>\n",
              "    </tr>\n",
              "    <tr>\n",
              "      <th>3231</th>\n",
              "      <td>tier</td>\n",
              "      <td>exotic_1</td>\n",
              "      <td>499</td>\n",
              "    </tr>\n",
              "    <tr>\n",
              "      <th>3232</th>\n",
              "      <td>tier</td>\n",
              "      <td>exotic_2</td>\n",
              "      <td>148</td>\n",
              "    </tr>\n",
              "    <tr>\n",
              "      <th>3233</th>\n",
              "      <td>tier</td>\n",
              "      <td>wild_1</td>\n",
              "      <td>1743</td>\n",
              "    </tr>\n",
              "    <tr>\n",
              "      <th>3234</th>\n",
              "      <td>tier</td>\n",
              "      <td>wild_2</td>\n",
              "      <td>1241</td>\n",
              "    </tr>\n",
              "  </tbody>\n",
              "</table>\n",
              "<p>3235 rows × 3 columns</p>\n",
              "</div>\n",
              "      <button class=\"colab-df-convert\" onclick=\"convertToInteractive('df-65e00ea4-13b8-4b47-a5c3-0434ed6c15b3')\"\n",
              "              title=\"Convert this dataframe to an interactive table.\"\n",
              "              style=\"display:none;\">\n",
              "        \n",
              "  <svg xmlns=\"http://www.w3.org/2000/svg\" height=\"24px\"viewBox=\"0 0 24 24\"\n",
              "       width=\"24px\">\n",
              "    <path d=\"M0 0h24v24H0V0z\" fill=\"none\"/>\n",
              "    <path d=\"M18.56 5.44l.94 2.06.94-2.06 2.06-.94-2.06-.94-.94-2.06-.94 2.06-2.06.94zm-11 1L8.5 8.5l.94-2.06 2.06-.94-2.06-.94L8.5 2.5l-.94 2.06-2.06.94zm10 10l.94 2.06.94-2.06 2.06-.94-2.06-.94-.94-2.06-.94 2.06-2.06.94z\"/><path d=\"M17.41 7.96l-1.37-1.37c-.4-.4-.92-.59-1.43-.59-.52 0-1.04.2-1.43.59L10.3 9.45l-7.72 7.72c-.78.78-.78 2.05 0 2.83L4 21.41c.39.39.9.59 1.41.59.51 0 1.02-.2 1.41-.59l7.78-7.78 2.81-2.81c.8-.78.8-2.07 0-2.86zM5.41 20L4 18.59l7.72-7.72 1.47 1.35L5.41 20z\"/>\n",
              "  </svg>\n",
              "      </button>\n",
              "      \n",
              "  <style>\n",
              "    .colab-df-container {\n",
              "      display:flex;\n",
              "      flex-wrap:wrap;\n",
              "      gap: 12px;\n",
              "    }\n",
              "\n",
              "    .colab-df-convert {\n",
              "      background-color: #E8F0FE;\n",
              "      border: none;\n",
              "      border-radius: 50%;\n",
              "      cursor: pointer;\n",
              "      display: none;\n",
              "      fill: #1967D2;\n",
              "      height: 32px;\n",
              "      padding: 0 0 0 0;\n",
              "      width: 32px;\n",
              "    }\n",
              "\n",
              "    .colab-df-convert:hover {\n",
              "      background-color: #E2EBFA;\n",
              "      box-shadow: 0px 1px 2px rgba(60, 64, 67, 0.3), 0px 1px 3px 1px rgba(60, 64, 67, 0.15);\n",
              "      fill: #174EA6;\n",
              "    }\n",
              "\n",
              "    [theme=dark] .colab-df-convert {\n",
              "      background-color: #3B4455;\n",
              "      fill: #D2E3FC;\n",
              "    }\n",
              "\n",
              "    [theme=dark] .colab-df-convert:hover {\n",
              "      background-color: #434B5C;\n",
              "      box-shadow: 0px 1px 3px 1px rgba(0, 0, 0, 0.15);\n",
              "      filter: drop-shadow(0px 1px 2px rgba(0, 0, 0, 0.3));\n",
              "      fill: #FFFFFF;\n",
              "    }\n",
              "  </style>\n",
              "\n",
              "      <script>\n",
              "        const buttonEl =\n",
              "          document.querySelector('#df-65e00ea4-13b8-4b47-a5c3-0434ed6c15b3 button.colab-df-convert');\n",
              "        buttonEl.style.display =\n",
              "          google.colab.kernel.accessAllowed ? 'block' : 'none';\n",
              "\n",
              "        async function convertToInteractive(key) {\n",
              "          const element = document.querySelector('#df-65e00ea4-13b8-4b47-a5c3-0434ed6c15b3');\n",
              "          const dataTable =\n",
              "            await google.colab.kernel.invokeFunction('convertToInteractive',\n",
              "                                                     [key], {});\n",
              "          if (!dataTable) return;\n",
              "\n",
              "          const docLinkHtml = 'Like what you see? Visit the ' +\n",
              "            '<a target=\"_blank\" href=https://colab.research.google.com/notebooks/data_table.ipynb>data table notebook</a>'\n",
              "            + ' to learn more about interactive tables.';\n",
              "          element.innerHTML = '';\n",
              "          dataTable['output_type'] = 'display_data';\n",
              "          await google.colab.output.renderOutput(dataTable, element);\n",
              "          const docLink = document.createElement('div');\n",
              "          docLink.innerHTML = docLinkHtml;\n",
              "          element.appendChild(docLink);\n",
              "        }\n",
              "      </script>\n",
              "    </div>\n",
              "  </div>\n",
              "  "
            ]
          },
          "metadata": {},
          "execution_count": 270
        }
      ]
    },
    {
      "cell_type": "code",
      "source": [
        "traits_df[traits_df[\"trait_type\"] == \"Hair\"]"
      ],
      "metadata": {
        "colab": {
          "base_uri": "https://localhost:8080/",
          "height": 424
        },
        "id": "TAfIorgqoPhK",
        "outputId": "2343caf9-2e43-49c5-e445-952f370af612"
      },
      "execution_count": 271,
      "outputs": [
        {
          "output_type": "execute_result",
          "data": {
            "text/plain": [
              "       collection                                    contract  token_id  \\\n",
              "1           azuki  0xed5af388653567af2f388e6224dc7c4b3241c544         0   \n",
              "8           azuki  0xed5af388653567af2f388e6224dc7c4b3241c544         1   \n",
              "15          azuki  0xed5af388653567af2f388e6224dc7c4b3241c544         2   \n",
              "22          azuki  0xed5af388653567af2f388e6224dc7c4b3241c544         3   \n",
              "31          azuki  0xed5af388653567af2f388e6224dc7c4b3241c544         4   \n",
              "...           ...                                         ...       ...   \n",
              "238296    clone_x  0x49cf6f5d44e70224e2e23fdcdd2c053f30ada28b     18891   \n",
              "238299    clone_x  0x49cf6f5d44e70224e2e23fdcdd2c053f30ada28b     18892   \n",
              "238304    clone_x  0x49cf6f5d44e70224e2e23fdcdd2c053f30ada28b     18893   \n",
              "238310    clone_x  0x49cf6f5d44e70224e2e23fdcdd2c053f30ada28b     18894   \n",
              "238317    clone_x  0x49cf6f5d44e70224e2e23fdcdd2c053f30ada28b     18895   \n",
              "\n",
              "                                                  nft_url trait_type  \\\n",
              "1       https://ikzttp.mypinata.cloud/ipfs/QmQFkLSQysj...       Hair   \n",
              "8       https://ikzttp.mypinata.cloud/ipfs/QmQFkLSQysj...       Hair   \n",
              "15      https://ikzttp.mypinata.cloud/ipfs/QmQFkLSQysj...       Hair   \n",
              "22      https://ikzttp.mypinata.cloud/ipfs/QmQFkLSQysj...       Hair   \n",
              "31      https://ikzttp.mypinata.cloud/ipfs/QmQFkLSQysj...       Hair   \n",
              "...                                                   ...        ...   \n",
              "238296              https://clonex-assets.rtfkt.com/18891       Hair   \n",
              "238299              https://clonex-assets.rtfkt.com/18892       Hair   \n",
              "238304              https://clonex-assets.rtfkt.com/18893       Hair   \n",
              "238310              https://clonex-assets.rtfkt.com/18894       Hair   \n",
              "238317              https://clonex-assets.rtfkt.com/18895       Hair   \n",
              "\n",
              "                   value  \n",
              "1                  Water  \n",
              "8          Pink Hairband  \n",
              "15            Pink Flowy  \n",
              "22           Green Spiky  \n",
              "31      Brown Dreadlocks  \n",
              "...                  ...  \n",
              "238296           RD Long  \n",
              "238299        BLCK Spike  \n",
              "238304       BLCK Unkept  \n",
              "238310        BLU Hacker  \n",
              "238317       BLND BWLCUT  \n",
              "\n",
              "[28466 rows x 6 columns]"
            ],
            "text/html": [
              "\n",
              "  <div id=\"df-1980ac3e-57aa-423f-8129-d39853748de4\">\n",
              "    <div class=\"colab-df-container\">\n",
              "      <div>\n",
              "<style scoped>\n",
              "    .dataframe tbody tr th:only-of-type {\n",
              "        vertical-align: middle;\n",
              "    }\n",
              "\n",
              "    .dataframe tbody tr th {\n",
              "        vertical-align: top;\n",
              "    }\n",
              "\n",
              "    .dataframe thead th {\n",
              "        text-align: right;\n",
              "    }\n",
              "</style>\n",
              "<table border=\"1\" class=\"dataframe\">\n",
              "  <thead>\n",
              "    <tr style=\"text-align: right;\">\n",
              "      <th></th>\n",
              "      <th>collection</th>\n",
              "      <th>contract</th>\n",
              "      <th>token_id</th>\n",
              "      <th>nft_url</th>\n",
              "      <th>trait_type</th>\n",
              "      <th>value</th>\n",
              "    </tr>\n",
              "  </thead>\n",
              "  <tbody>\n",
              "    <tr>\n",
              "      <th>1</th>\n",
              "      <td>azuki</td>\n",
              "      <td>0xed5af388653567af2f388e6224dc7c4b3241c544</td>\n",
              "      <td>0</td>\n",
              "      <td>https://ikzttp.mypinata.cloud/ipfs/QmQFkLSQysj...</td>\n",
              "      <td>Hair</td>\n",
              "      <td>Water</td>\n",
              "    </tr>\n",
              "    <tr>\n",
              "      <th>8</th>\n",
              "      <td>azuki</td>\n",
              "      <td>0xed5af388653567af2f388e6224dc7c4b3241c544</td>\n",
              "      <td>1</td>\n",
              "      <td>https://ikzttp.mypinata.cloud/ipfs/QmQFkLSQysj...</td>\n",
              "      <td>Hair</td>\n",
              "      <td>Pink Hairband</td>\n",
              "    </tr>\n",
              "    <tr>\n",
              "      <th>15</th>\n",
              "      <td>azuki</td>\n",
              "      <td>0xed5af388653567af2f388e6224dc7c4b3241c544</td>\n",
              "      <td>2</td>\n",
              "      <td>https://ikzttp.mypinata.cloud/ipfs/QmQFkLSQysj...</td>\n",
              "      <td>Hair</td>\n",
              "      <td>Pink Flowy</td>\n",
              "    </tr>\n",
              "    <tr>\n",
              "      <th>22</th>\n",
              "      <td>azuki</td>\n",
              "      <td>0xed5af388653567af2f388e6224dc7c4b3241c544</td>\n",
              "      <td>3</td>\n",
              "      <td>https://ikzttp.mypinata.cloud/ipfs/QmQFkLSQysj...</td>\n",
              "      <td>Hair</td>\n",
              "      <td>Green Spiky</td>\n",
              "    </tr>\n",
              "    <tr>\n",
              "      <th>31</th>\n",
              "      <td>azuki</td>\n",
              "      <td>0xed5af388653567af2f388e6224dc7c4b3241c544</td>\n",
              "      <td>4</td>\n",
              "      <td>https://ikzttp.mypinata.cloud/ipfs/QmQFkLSQysj...</td>\n",
              "      <td>Hair</td>\n",
              "      <td>Brown Dreadlocks</td>\n",
              "    </tr>\n",
              "    <tr>\n",
              "      <th>...</th>\n",
              "      <td>...</td>\n",
              "      <td>...</td>\n",
              "      <td>...</td>\n",
              "      <td>...</td>\n",
              "      <td>...</td>\n",
              "      <td>...</td>\n",
              "    </tr>\n",
              "    <tr>\n",
              "      <th>238296</th>\n",
              "      <td>clone_x</td>\n",
              "      <td>0x49cf6f5d44e70224e2e23fdcdd2c053f30ada28b</td>\n",
              "      <td>18891</td>\n",
              "      <td>https://clonex-assets.rtfkt.com/18891</td>\n",
              "      <td>Hair</td>\n",
              "      <td>RD Long</td>\n",
              "    </tr>\n",
              "    <tr>\n",
              "      <th>238299</th>\n",
              "      <td>clone_x</td>\n",
              "      <td>0x49cf6f5d44e70224e2e23fdcdd2c053f30ada28b</td>\n",
              "      <td>18892</td>\n",
              "      <td>https://clonex-assets.rtfkt.com/18892</td>\n",
              "      <td>Hair</td>\n",
              "      <td>BLCK Spike</td>\n",
              "    </tr>\n",
              "    <tr>\n",
              "      <th>238304</th>\n",
              "      <td>clone_x</td>\n",
              "      <td>0x49cf6f5d44e70224e2e23fdcdd2c053f30ada28b</td>\n",
              "      <td>18893</td>\n",
              "      <td>https://clonex-assets.rtfkt.com/18893</td>\n",
              "      <td>Hair</td>\n",
              "      <td>BLCK Unkept</td>\n",
              "    </tr>\n",
              "    <tr>\n",
              "      <th>238310</th>\n",
              "      <td>clone_x</td>\n",
              "      <td>0x49cf6f5d44e70224e2e23fdcdd2c053f30ada28b</td>\n",
              "      <td>18894</td>\n",
              "      <td>https://clonex-assets.rtfkt.com/18894</td>\n",
              "      <td>Hair</td>\n",
              "      <td>BLU Hacker</td>\n",
              "    </tr>\n",
              "    <tr>\n",
              "      <th>238317</th>\n",
              "      <td>clone_x</td>\n",
              "      <td>0x49cf6f5d44e70224e2e23fdcdd2c053f30ada28b</td>\n",
              "      <td>18895</td>\n",
              "      <td>https://clonex-assets.rtfkt.com/18895</td>\n",
              "      <td>Hair</td>\n",
              "      <td>BLND BWLCUT</td>\n",
              "    </tr>\n",
              "  </tbody>\n",
              "</table>\n",
              "<p>28466 rows × 6 columns</p>\n",
              "</div>\n",
              "      <button class=\"colab-df-convert\" onclick=\"convertToInteractive('df-1980ac3e-57aa-423f-8129-d39853748de4')\"\n",
              "              title=\"Convert this dataframe to an interactive table.\"\n",
              "              style=\"display:none;\">\n",
              "        \n",
              "  <svg xmlns=\"http://www.w3.org/2000/svg\" height=\"24px\"viewBox=\"0 0 24 24\"\n",
              "       width=\"24px\">\n",
              "    <path d=\"M0 0h24v24H0V0z\" fill=\"none\"/>\n",
              "    <path d=\"M18.56 5.44l.94 2.06.94-2.06 2.06-.94-2.06-.94-.94-2.06-.94 2.06-2.06.94zm-11 1L8.5 8.5l.94-2.06 2.06-.94-2.06-.94L8.5 2.5l-.94 2.06-2.06.94zm10 10l.94 2.06.94-2.06 2.06-.94-2.06-.94-.94-2.06-.94 2.06-2.06.94z\"/><path d=\"M17.41 7.96l-1.37-1.37c-.4-.4-.92-.59-1.43-.59-.52 0-1.04.2-1.43.59L10.3 9.45l-7.72 7.72c-.78.78-.78 2.05 0 2.83L4 21.41c.39.39.9.59 1.41.59.51 0 1.02-.2 1.41-.59l7.78-7.78 2.81-2.81c.8-.78.8-2.07 0-2.86zM5.41 20L4 18.59l7.72-7.72 1.47 1.35L5.41 20z\"/>\n",
              "  </svg>\n",
              "      </button>\n",
              "      \n",
              "  <style>\n",
              "    .colab-df-container {\n",
              "      display:flex;\n",
              "      flex-wrap:wrap;\n",
              "      gap: 12px;\n",
              "    }\n",
              "\n",
              "    .colab-df-convert {\n",
              "      background-color: #E8F0FE;\n",
              "      border: none;\n",
              "      border-radius: 50%;\n",
              "      cursor: pointer;\n",
              "      display: none;\n",
              "      fill: #1967D2;\n",
              "      height: 32px;\n",
              "      padding: 0 0 0 0;\n",
              "      width: 32px;\n",
              "    }\n",
              "\n",
              "    .colab-df-convert:hover {\n",
              "      background-color: #E2EBFA;\n",
              "      box-shadow: 0px 1px 2px rgba(60, 64, 67, 0.3), 0px 1px 3px 1px rgba(60, 64, 67, 0.15);\n",
              "      fill: #174EA6;\n",
              "    }\n",
              "\n",
              "    [theme=dark] .colab-df-convert {\n",
              "      background-color: #3B4455;\n",
              "      fill: #D2E3FC;\n",
              "    }\n",
              "\n",
              "    [theme=dark] .colab-df-convert:hover {\n",
              "      background-color: #434B5C;\n",
              "      box-shadow: 0px 1px 3px 1px rgba(0, 0, 0, 0.15);\n",
              "      filter: drop-shadow(0px 1px 2px rgba(0, 0, 0, 0.3));\n",
              "      fill: #FFFFFF;\n",
              "    }\n",
              "  </style>\n",
              "\n",
              "      <script>\n",
              "        const buttonEl =\n",
              "          document.querySelector('#df-1980ac3e-57aa-423f-8129-d39853748de4 button.colab-df-convert');\n",
              "        buttonEl.style.display =\n",
              "          google.colab.kernel.accessAllowed ? 'block' : 'none';\n",
              "\n",
              "        async function convertToInteractive(key) {\n",
              "          const element = document.querySelector('#df-1980ac3e-57aa-423f-8129-d39853748de4');\n",
              "          const dataTable =\n",
              "            await google.colab.kernel.invokeFunction('convertToInteractive',\n",
              "                                                     [key], {});\n",
              "          if (!dataTable) return;\n",
              "\n",
              "          const docLinkHtml = 'Like what you see? Visit the ' +\n",
              "            '<a target=\"_blank\" href=https://colab.research.google.com/notebooks/data_table.ipynb>data table notebook</a>'\n",
              "            + ' to learn more about interactive tables.';\n",
              "          element.innerHTML = '';\n",
              "          dataTable['output_type'] = 'display_data';\n",
              "          await google.colab.output.renderOutput(dataTable, element);\n",
              "          const docLink = document.createElement('div');\n",
              "          docLink.innerHTML = docLinkHtml;\n",
              "          element.appendChild(docLink);\n",
              "        }\n",
              "      </script>\n",
              "    </div>\n",
              "  </div>\n",
              "  "
            ]
          },
          "metadata": {},
          "execution_count": 271
        }
      ]
    },
    {
      "cell_type": "markdown",
      "source": [
        "#### Data processing"
      ],
      "metadata": {
        "id": "Ny7SSwILxz0h"
      }
    },
    {
      "cell_type": "code",
      "source": [
        "# Lowercase the traits to have unique values\n",
        "traits_prp_df = traits_df.copy(deep=True)\n",
        "traits_prp_df[\"trait_type\"] = traits_prp_df[\"trait_type\"].str.lower()\n",
        "traits_prp_df[\"value\"] = traits_prp_df[\"value\"].str.lower()\n",
        "\n",
        "# Text\n",
        "traits_prp_df[\"trait_type_and_value\"] = traits_prp_df[\"trait_type\"] + \"_\" + traits_prp_df[\"value\"]\n",
        "\n",
        "# create text corpus (just on the values so that it is not dominated by the type)\n",
        "traits_prp_df_grouped = traits_prp_df.groupby([\"contract\", \"token_id\"])[\"value\"].agg(lambda x: ' '.join(x)).reset_index()\n",
        "corpus = traits_prp_df_grouped[\"value\"].to_list()\n",
        "\n",
        "# One contract and toke_id has different charachteristics, try tf-idf\n",
        "# traits_prp_df[(traits_prp_df[\"contract\"] == '0xed5af388653567af2f388e6224dc7c4b3241c544') & (traits_df[\"token_id\"] == 9997)]\n",
        "# traits_prp_df[(traits_prp_df[\"contract\"] == '0x49cf6f5d44e70224e2e23fdcdd2c053f30ada28b') & (traits_df[\"token_id\"] == 18893)]"
      ],
      "metadata": {
        "id": "WTsKzzJUxzSS"
      },
      "execution_count": 272,
      "outputs": []
    },
    {
      "cell_type": "code",
      "source": [
        "traits_prp_df_grouped_2 = pd.DataFrame(traits_prp_df.groupby([\"contract\", \"value\"])[\"token_id\"].count()).reset_index()\n",
        "traits_prp_df_grouped_2 = traits_prp_df_grouped_2.rename(columns={'token_id': 'count_of_values'})\n",
        "\n",
        "traits_prp_df_grouped_2_tot = pd.DataFrame(traits_prp_df.groupby([\"contract\"])[\"token_id\"].count()).reset_index()\n",
        "traits_prp_df_grouped_2_tot = traits_prp_df_grouped_2_tot.rename(columns={'token_id': 'total_values'})\n",
        "\n",
        "traits_final = pd.merge(traits_prp_df_grouped_2, traits_prp_df_grouped_2_tot, on=[\"contract\"], how=\"left\")\n",
        "traits_final[\"rarity_trait\"] = traits_final[\"count_of_values\"] / traits_final[\"total_values\"]\n",
        "\n",
        "# target table\n",
        "traits_target = traits_prp_df[[\"contract\", \"token_id\", \"value\"]].drop_duplicates()\n",
        "\n",
        "# FInal table\n",
        "traits_fin = pd.merge(traits_target,\n",
        "                         traits_final[[\"contract\", \"value\", \"rarity_trait\"]],\n",
        "                         on=[\"contract\", \"value\"], how=\"left\")\n",
        "traits_fin = traits_fin.groupby([\"contract\", \"token_id\"])[\"rarity_trait\"].sum().reset_index()\n",
        "traits_fin = traits_fin.rename(columns={'token_id': 'tokenID'})\n",
        "# Insight : The lower the value the more unique (rare) is the NFT value (rarity_trait)"
      ],
      "metadata": {
        "id": "d8XRY1L3OMN1"
      },
      "execution_count": 273,
      "outputs": []
    },
    {
      "cell_type": "code",
      "source": [
        "# tf-idf\n",
        "from sklearn.feature_extraction.text import TfidfVectorizer\n",
        "\n",
        "# Create a vectorizer\n",
        "vectorizer = TfidfVectorizer()\n",
        "# vectorizer = TfidfVectorizer(norm = None) # apply without normalization\n",
        "\n",
        "# Fit\n",
        "X = vectorizer.fit_transform(corpus)\n",
        "data_matrix_tf_idf = pd.DataFrame(X.todense(), columns = vectorizer.get_feature_names_out())\n",
        "data_matrix_tf_idf"
      ],
      "metadata": {
        "id": "V5HhXx1IKr45"
      },
      "execution_count": null,
      "outputs": []
    },
    {
      "cell_type": "code",
      "source": [
        "#for simplicity just take the frequency of occurence"
      ],
      "metadata": {
        "id": "1I2W11vFOCcB"
      },
      "execution_count": null,
      "outputs": []
    },
    {
      "cell_type": "code",
      "source": [
        "print(\"Number of unique trait combinations per trait_typ : \", traits_prp_df[[\"trait_type\"]].nunique()[0])\n",
        "\n",
        "# block number & time stamp"
      ],
      "metadata": {
        "id": "XTdgS8aQxzDi"
      },
      "execution_count": null,
      "outputs": []
    },
    {
      "cell_type": "markdown",
      "source": [
        "### Sales\n",
        "\n",
        "block_number – number of the block in which the transaction is recorded\n",
        "\n",
        "timeStamp – the date and time in which the transaction is mined,UNIX timestamp\n",
        "hash – the string representing the transaction hash to check the execution status\n",
        "nonce – The nonce is the number of transactions sent from a given address.\n",
        "\n",
        "blockHash – the string representing the hash of the transaction\n",
        "\n",
        "from – theETH address of the sender of the Token\n",
        "\n",
        "contractAddress – the contract address of the ERC-20 token\n",
        "\n",
        "to – the ETH address which sent the token\n",
        "\n",
        "tokenID – The number of the Token in the collection, unique to each Token\n",
        "\n",
        "tokenName – the long name by which the token contract should be known\n",
        "\n",
        "tokenSymbol – the symbol by which the token contract should be known\n",
        "\n",
        "tokenDecimal – refers to how divisible a token can be, from 0 (not at all divisible) to 18 (pretty much continuous) and even higher if required. Technically speaking, the decimals value is the number of digits that come after the decimal place when displaying token values on-screen.\n",
        "\n",
        "gas – Maximum gas allocated for the transaction/amount of gas supplied for this transaction\n",
        "\n",
        "gasPrice – cost per unit of gas specified for this transaction in ether or gwei, depending on the   decimal value\n",
        "\n",
        "gasUsed – the amount of gas used for this specific transaction\n",
        "\n",
        "currency  – The cryptocurrency used to pay for the sale, either ETH or one of the stablecoins\n",
        "\n",
        "value – The scalar value equal to the number of units (in Ethereum Wei) to be transferred to the message call’s recipient or, in the case of contract creation, as an endowment to the newly created contract.\n",
        "\n",
        "valueUSD – value in USD"
      ],
      "metadata": {
        "id": "eLgyOHptkLp4"
      }
    },
    {
      "cell_type": "code",
      "source": [
        "sales = pd.read_csv(\"/content/drive/MyDrive/NFT/NFT_Hackathon_Sale.csv\")\n",
        "sales.head()"
      ],
      "metadata": {
        "id": "gNK2c7iIj7Op"
      },
      "execution_count": null,
      "outputs": []
    },
    {
      "cell_type": "markdown",
      "source": [
        "#### EDA"
      ],
      "metadata": {
        "id": "O90Zn0-crbrW"
      }
    },
    {
      "cell_type": "code",
      "source": [
        "print(\"Number of unique transactions per blockNumber and timeStamp : \", sales[[\"blockNumber\", \"timeStamp\"]].nunique()[0])\n",
        "\n",
        "# block number & time stamp"
      ],
      "metadata": {
        "id": "TDC1rThhpxKx"
      },
      "execution_count": null,
      "outputs": []
    },
    {
      "cell_type": "code",
      "source": [
        "# Token collections\n",
        "print(\"Token collections :\\n\")\n",
        "sales.groupby([\"contractAddress\", \"tokenName\"])[\"contractAddress\"].count()"
      ],
      "metadata": {
        "id": "7H14tWfAqXeE"
      },
      "execution_count": null,
      "outputs": []
    },
    {
      "cell_type": "code",
      "source": [
        "import matplotlib.pyplot as plt\n",
        "\n",
        "# Assuming you have the sales dataframe and want to count the token collections\n",
        "token_collections = sales.groupby([\"tokenName\"])[\"contractAddress\"].count()\n",
        "\n",
        "# Convert the grouped data to a dataframe\n",
        "token_collections_df = token_collections.reset_index()\n",
        "token_collections_df.columns = [\"Token Name\", \"Count\"]\n",
        "token_collections_df = token_collections_df.sort_values(\"Count\")\n",
        "\n",
        "# Create a bar plot\n",
        "plt.figure(figsize=(10, 6))\n",
        "plt.bar(token_collections_df[\"Token Name\"], token_collections_df[\"Count\"])\n",
        "\n",
        "# Add labels and title to the plot\n",
        "plt.xlabel(\"Token Collections\")\n",
        "plt.ylabel(\"Count\")\n",
        "plt.title(\"Count of Token Collections\")\n",
        "\n",
        "# Rotate x-axis labels for better readability if needed\n",
        "plt.xticks(rotation=45)\n",
        "\n",
        "# Display the plot\n",
        "plt.show()"
      ],
      "metadata": {
        "id": "nWEuW_QYq5NI"
      },
      "execution_count": null,
      "outputs": []
    },
    {
      "cell_type": "code",
      "source": [
        "print(\"Unique number of sellers\", sales[[\"from\"]].nunique()[0])\n",
        "print(\"Unique number of buyers\", sales[[\"to\"]].nunique()[0])"
      ],
      "metadata": {
        "id": "lo40h1toq0ZU"
      },
      "execution_count": null,
      "outputs": []
    },
    {
      "cell_type": "code",
      "source": [
        "# Two currencies\n",
        "# Decision take only ETH and filter in the data prep\n",
        "print(\"Currency count\", sales.groupby(\"currency\")[\"currency\"].count())\n"
      ],
      "metadata": {
        "id": "dTCOQsuFrJOc"
      },
      "execution_count": null,
      "outputs": []
    },
    {
      "cell_type": "code",
      "source": [
        "print(\"Unique number of 'gasPrice' column\", sales[[\"gasPrice\"]].nunique()[0])\n"
      ],
      "metadata": {
        "id": "lFCOV85Sr0bc"
      },
      "execution_count": null,
      "outputs": []
    },
    {
      "cell_type": "code",
      "source": [
        "print(\"Unique number of 'amount' column\", sales[[\"amount\"]].nunique()[0])\n"
      ],
      "metadata": {
        "id": "8ezZZj3Gr5rJ"
      },
      "execution_count": null,
      "outputs": []
    },
    {
      "cell_type": "code",
      "source": [
        "sales[[\"amountUsd\"]].describe()"
      ],
      "metadata": {
        "id": "rfMWTYCxseRB"
      },
      "execution_count": null,
      "outputs": []
    },
    {
      "cell_type": "markdown",
      "source": [
        "#### Data processing"
      ],
      "metadata": {
        "id": "ZHArBMRMrex2"
      }
    },
    {
      "cell_type": "code",
      "source": [
        "# FIlter only ETH currency\n",
        "sales_prp = sales[sales[\"currency\"] == \"ETH\"]\n",
        "\n",
        "# Rename the 'contractAddress' column to 'contract'\n",
        "sales_prp = sales_prp.rename(columns={'contractAddress': 'contract'})\n",
        "\n",
        "# Convert the 'timeStamp' column to datetime\n",
        "sales_prp['timeStamp'] = pd.to_datetime(sales_prp['timeStamp'], unit='s')\n",
        "sales_prp.head()\n",
        "\n",
        "# create a key\n",
        "sales_prp[\"key\"] = sales_prp['from'].str.cat([sales_prp['to'],\n",
        "                                              sales_prp['tokenName'].astype(str)], sep='_')\n",
        "\n",
        "# create rarity column by dividing the serial number of NTF per collection / total number of NFTs in that collection\n",
        "# late to be able to assess if the price of the collection is affected by its size\n",
        "\n",
        "total_number_of_nft_per_serial_nmbr = sales_prp\\\n",
        "    .groupby([\"contract\", \"tokenID\"])[\"tokenName\"].count().reset_index()\n",
        "total_number_of_nft_per_serial_nmbr = total_number_of_nft_per_serial_nmbr\\\n",
        "    .rename(columns={'tokenName': 'total_nmbr_of_nfts_per_serial_nmbr'})\n",
        "\n",
        "total_number_of_nft = sales_prp.groupby(\"contract\")[\"tokenName\"].count().reset_index()\n",
        "total_number_of_nft = total_number_of_nft.rename(columns={'tokenName': 'total_nmbr_of_nfts'})\n",
        "\n",
        "sales_prp = pd.merge(sales_prp, total_number_of_nft_per_serial_nmbr, on=[\"contract\", \"tokenID\"], how=\"left\")\n",
        "sales_prp = pd.merge(sales_prp, total_number_of_nft, on=\"contract\", how=\"left\")\n",
        "\n",
        "# the lower the value of rarity the rarer the NFT\n",
        "sales_prp[\"rarity\"] = sales_prp[\"total_nmbr_of_nfts_per_serial_nmbr\"] / sales_prp[\"total_nmbr_of_nfts\"]\n",
        "sales_prp\n",
        "\n",
        "# Exclude the amount == 0\n",
        "sales_prp = sales_prp[sales_prp[\"amount\"] > 0]\n",
        "\n",
        "# Calculate the price lag column\n",
        "# Sort the dataframe by tokenID and timeStamp\n",
        "sales_prp = sales_prp.sort_values([\"tokenID\", \"timeStamp\"])\n",
        "\n",
        "# Calculate the price lag within each tokenID group\n",
        "sales_prp[\"price_lag\"] = sales_prp.groupby(\"tokenID\")[\"amount\"].shift(1)\n",
        "sales_prp[\"price_lag_2\"] = sales_prp.groupby(\"tokenID\")[\"amount\"].shift(2)\n",
        "sales_prp[\"price_lag_3\"] = sales_prp.groupby(\"tokenID\")[\"amount\"].shift(3)\n",
        "sales_prp[\"price_first_difference\"] = sales_prp.groupby(\"tokenID\")[\"amount\"].diff()\n",
        "sales_prp[\"last_4_median\"] = sales_prp.groupby(\"tokenID\")[\"amount\"].rolling(4, min_periods=1).median().reset_index(level=0, drop=True)\n",
        "\n",
        "# Add date column so that we can join with the tweets\n",
        "sales_prp[\"date\"] = pd.to_datetime(sales_prp[\"timeStamp\"]).dt.date\n",
        "sales_prp_for_baseline = sales_prp.copy(deep=True)"
      ],
      "metadata": {
        "id": "7K8aswdRrhCz"
      },
      "execution_count": null,
      "outputs": []
    },
    {
      "cell_type": "code",
      "source": [
        "# Check with one data frame\n",
        "sales_prp[[ \"timeStamp\", \"rarity\", \"amount\", \"price_lag\", \"price_lag_2\", \"price_lag_3\", \"price_first_difference\",\"last_4_median\"]\n",
        "          ][sales_prp[\"tokenID\"] == 16938]"
      ],
      "metadata": {
        "id": "WgQLNd_I97lu"
      },
      "execution_count": null,
      "outputs": []
    },
    {
      "cell_type": "code",
      "source": [
        "# check aggregation logic rarity\n",
        "# total_number_of_nft_per_serial_nmbr[total_number_of_nft_per_serial_nmbr[\"tokenID\"] == 16938]"
      ],
      "metadata": {
        "id": "ke-C8T2J6_g0"
      },
      "execution_count": null,
      "outputs": []
    },
    {
      "cell_type": "code",
      "source": [
        "import matplotlib.pyplot as plt\n",
        "\n",
        "# Assuming you have a filtered dataframe named 'filtered_df' containing columns 'amount' and 'timeStamp'\n",
        "\n",
        "# Create the line plot\n",
        "filtered_df = sales_prp[[\"amount\", \"timeStamp\"]][sales_prp[\"tokenID\"] == 16938].sort_values(\"timeStamp\")\n",
        "filtered_df.plot(x='timeStamp', y='amount', kind='line')\n",
        "\n",
        "# Set the plot title and labels\n",
        "plt.title(\"Sales Amount over Time\")\n",
        "plt.xlabel(\"Time\")\n",
        "plt.ylabel(\"Amount\")\n",
        "\n",
        "# Display the plot\n",
        "plt.show()"
      ],
      "metadata": {
        "id": "cudNvPk6pOLE"
      },
      "execution_count": null,
      "outputs": []
    },
    {
      "cell_type": "code",
      "source": [
        "import matplotlib.pyplot as plt\n",
        "\n",
        "# Assuming you have a filtered dataframe named 'filtered_df' containing columns 'amount' and 'timeStamp'\n",
        "\n",
        "# Create the line plot\n",
        "filtered_df = sales_prp[[\"amount\", \"timeStamp\"]][sales_prp[\"tokenID\"] == 17241].sort_values(\"timeStamp\")\n",
        "filtered_df.plot(x='timeStamp', y='amount', kind='line')\n",
        "\n",
        "# Set the plot title and labels\n",
        "plt.title(\"Sales Amount over Time\")\n",
        "plt.xlabel(\"Time\")\n",
        "plt.ylabel(\"Amount\")\n",
        "\n",
        "# Display the plot\n",
        "plt.show()"
      ],
      "metadata": {
        "id": "CQ7X_hKG4cBn"
      },
      "execution_count": null,
      "outputs": []
    },
    {
      "cell_type": "markdown",
      "source": [
        "### Combine datasets"
      ],
      "metadata": {
        "id": "i1jZbjKrEyw8"
      }
    },
    {
      "cell_type": "code",
      "source": [
        "# Merge sales and tweets and fillna\n",
        "data_ready = pd.merge(sales_prp, tweets_count, on=[\"date\", \"tokenName\"], how=\"left\")\n",
        "data_ready[\"tweet_count\"] = data_ready[\"tweet_count\"].fillna(0)\n",
        "\n",
        "\n",
        "# Add traits data\n",
        "data_ready = pd.merge(data_ready, traits_fin, on=[\"contract\", \"tokenID\"], how=\"left\")\n",
        "data_ready.head()\n"
      ],
      "metadata": {
        "id": "w56THAhWE102"
      },
      "execution_count": null,
      "outputs": []
    },
    {
      "cell_type": "markdown",
      "source": [
        "### Train model"
      ],
      "metadata": {
        "id": "STWFYtjTVaX4"
      }
    },
    {
      "cell_type": "code",
      "source": [
        "# Select features\n",
        "index_cols = [\"timeStamp\", \"date\"]\n",
        "target_col = [\"amount\"]\n",
        "features = [\"rarity\",\t\"price_lag\",\t\"price_lag_2\",\t\"price_lag_3\",\t\"price_first_difference\",\t\"last_4_median\", \"tweet_count\",\t\"rarity_trait\"]"
      ],
      "metadata": {
        "id": "xYkFvE53VZMX"
      },
      "execution_count": null,
      "outputs": []
    },
    {
      "cell_type": "code",
      "source": [
        "from sklearn.preprocessing import StandardScaler\n",
        "\n",
        "# Scale the features\n",
        "data_ready_subs = data_ready[target_col + features]\n",
        "\n",
        "# Create an instance of StandardScaler\n",
        "scaler = StandardScaler()\n",
        "\n",
        "# Apply the StandardScaler transformation to data_ready_subs\n",
        "scaled_data = scaler.fit_transform(data_ready_subs)\n",
        "\n",
        "# Convert the scaled data to a dataframe\n",
        "df_scaled = pd.DataFrame(scaled_data, columns=data_ready_subs.columns)\n",
        "df_scaled = df_scaled.dropna(how=\"any\")\n",
        "\n",
        "# split the data\n",
        "train_set_end = int(len(df_scaled)*0.7)\n",
        "validation_set_end = int(len(df_scaled)*0.8)\n",
        "\n",
        "train_set = df_scaled[:train_set_end]\n",
        "validation_set = df_scaled[train_set_end:validation_set_end]\n",
        "test_set = df_scaled[validation_set_end:]\n",
        "\n",
        "print(train_set.shape)\n",
        "print(validation_set.shape)\n",
        "print(test_set.shape)\n",
        "\n",
        "X_train, y_train = train_set[features], train_set[target_col]\n",
        "X_valid, y_valid = validation_set[features], validation_set[target_col]\n",
        "X_test, y_test =  test_set[features], test_set[target_col]"
      ],
      "metadata": {
        "id": "DZbls2NAXVrB"
      },
      "execution_count": null,
      "outputs": []
    },
    {
      "cell_type": "markdown",
      "source": [
        "#### Train neural network"
      ],
      "metadata": {
        "id": "irSp0G7AZMcZ"
      }
    },
    {
      "cell_type": "code",
      "source": [
        "import tensorflow as tf\n",
        "from tensorflow.keras.models import Sequential\n",
        "from tensorflow.keras.layers import Dense, Dropout, BatchNormalization\n",
        "from tensorflow import keras\n",
        "\n",
        "model = keras.Sequential([\n",
        "    keras.layers.Dense(128, activation='relu', input_dim=len(X_train.columns)),\n",
        "    keras.layers.BatchNormalization(),\n",
        "    keras.layers.Dropout(0.3),\n",
        "    keras.layers.Dense(128, activation='relu'),\n",
        "    keras.layers.BatchNormalization(),\n",
        "    keras.layers.Dropout(0.3),\n",
        "    keras.layers.Dense(128, activation='relu'),\n",
        "    keras.layers.BatchNormalization(),\n",
        "    keras.layers.Dropout(0.3),\n",
        "    keras.layers.Dense(1, activation='linear'),\n",
        "])\n",
        "\n",
        "# Compile the model\n",
        "model.compile(optimizer='adam', loss='mean_squared_error')\n",
        "\n",
        "# Print the model summary\n",
        "print(model.summary())\n",
        "\n",
        "r = model.fit(\n",
        "    X_train, y_train,\n",
        "    validation_data=(X_valid, y_valid),\n",
        "    batch_size=2048,\n",
        "    epochs=50,\n",
        ")\n",
        "\n",
        "score = model.evaluate(X_test, y_test)\n",
        "print(score)"
      ],
      "metadata": {
        "id": "Ro3q6ELRVZFX"
      },
      "execution_count": null,
      "outputs": []
    },
    {
      "cell_type": "code",
      "source": [
        "y_test_pred = model.predict(X_test)\n",
        "y_test_pred\n"
      ],
      "metadata": {
        "colab": {
          "base_uri": "https://localhost:8080/"
        },
        "id": "WetTzR4vcbDg",
        "outputId": "d746933a-f847-4678-a9c3-77fee39220de"
      },
      "execution_count": 219,
      "outputs": [
        {
          "output_type": "stream",
          "name": "stdout",
          "text": [
            "1367/1367 [==============================] - 7s 5ms/step\n"
          ]
        },
        {
          "output_type": "execute_result",
          "data": {
            "text/plain": [
              "array([[ 0.24142057],\n",
              "       [ 0.23681298],\n",
              "       [ 0.23212422],\n",
              "       ...,\n",
              "       [-0.07112345],\n",
              "       [-0.08355796],\n",
              "       [-0.08779178]], dtype=float32)"
            ]
          },
          "metadata": {},
          "execution_count": 219
        }
      ]
    },
    {
      "cell_type": "code",
      "source": [
        "y_test_pred = pd.DataFrame(y_test_pred)\n",
        "y_test_pred.columns = ['predicted_amount']\n",
        "result_df = pd.merge(y_test_pred, y_test, left_index=True, right_index=True)\n",
        "result_df"
      ],
      "metadata": {
        "colab": {
          "base_uri": "https://localhost:8080/",
          "height": 49
        },
        "id": "Sr3AiXQ88Cdp",
        "outputId": "c69dd2ed-4321-41ad-c9e1-a852f648029d"
      },
      "execution_count": 220,
      "outputs": [
        {
          "output_type": "execute_result",
          "data": {
            "text/plain": [
              "Empty DataFrame\n",
              "Columns: [predicted_amount, amount]\n",
              "Index: []"
            ],
            "text/html": [
              "\n",
              "  <div id=\"df-82d5fa18-2824-43ce-b4cf-816be0baf414\">\n",
              "    <div class=\"colab-df-container\">\n",
              "      <div>\n",
              "<style scoped>\n",
              "    .dataframe tbody tr th:only-of-type {\n",
              "        vertical-align: middle;\n",
              "    }\n",
              "\n",
              "    .dataframe tbody tr th {\n",
              "        vertical-align: top;\n",
              "    }\n",
              "\n",
              "    .dataframe thead th {\n",
              "        text-align: right;\n",
              "    }\n",
              "</style>\n",
              "<table border=\"1\" class=\"dataframe\">\n",
              "  <thead>\n",
              "    <tr style=\"text-align: right;\">\n",
              "      <th></th>\n",
              "      <th>predicted_amount</th>\n",
              "      <th>amount</th>\n",
              "    </tr>\n",
              "  </thead>\n",
              "  <tbody>\n",
              "  </tbody>\n",
              "</table>\n",
              "</div>\n",
              "      <button class=\"colab-df-convert\" onclick=\"convertToInteractive('df-82d5fa18-2824-43ce-b4cf-816be0baf414')\"\n",
              "              title=\"Convert this dataframe to an interactive table.\"\n",
              "              style=\"display:none;\">\n",
              "        \n",
              "  <svg xmlns=\"http://www.w3.org/2000/svg\" height=\"24px\"viewBox=\"0 0 24 24\"\n",
              "       width=\"24px\">\n",
              "    <path d=\"M0 0h24v24H0V0z\" fill=\"none\"/>\n",
              "    <path d=\"M18.56 5.44l.94 2.06.94-2.06 2.06-.94-2.06-.94-.94-2.06-.94 2.06-2.06.94zm-11 1L8.5 8.5l.94-2.06 2.06-.94-2.06-.94L8.5 2.5l-.94 2.06-2.06.94zm10 10l.94 2.06.94-2.06 2.06-.94-2.06-.94-.94-2.06-.94 2.06-2.06.94z\"/><path d=\"M17.41 7.96l-1.37-1.37c-.4-.4-.92-.59-1.43-.59-.52 0-1.04.2-1.43.59L10.3 9.45l-7.72 7.72c-.78.78-.78 2.05 0 2.83L4 21.41c.39.39.9.59 1.41.59.51 0 1.02-.2 1.41-.59l7.78-7.78 2.81-2.81c.8-.78.8-2.07 0-2.86zM5.41 20L4 18.59l7.72-7.72 1.47 1.35L5.41 20z\"/>\n",
              "  </svg>\n",
              "      </button>\n",
              "      \n",
              "  <style>\n",
              "    .colab-df-container {\n",
              "      display:flex;\n",
              "      flex-wrap:wrap;\n",
              "      gap: 12px;\n",
              "    }\n",
              "\n",
              "    .colab-df-convert {\n",
              "      background-color: #E8F0FE;\n",
              "      border: none;\n",
              "      border-radius: 50%;\n",
              "      cursor: pointer;\n",
              "      display: none;\n",
              "      fill: #1967D2;\n",
              "      height: 32px;\n",
              "      padding: 0 0 0 0;\n",
              "      width: 32px;\n",
              "    }\n",
              "\n",
              "    .colab-df-convert:hover {\n",
              "      background-color: #E2EBFA;\n",
              "      box-shadow: 0px 1px 2px rgba(60, 64, 67, 0.3), 0px 1px 3px 1px rgba(60, 64, 67, 0.15);\n",
              "      fill: #174EA6;\n",
              "    }\n",
              "\n",
              "    [theme=dark] .colab-df-convert {\n",
              "      background-color: #3B4455;\n",
              "      fill: #D2E3FC;\n",
              "    }\n",
              "\n",
              "    [theme=dark] .colab-df-convert:hover {\n",
              "      background-color: #434B5C;\n",
              "      box-shadow: 0px 1px 3px 1px rgba(0, 0, 0, 0.15);\n",
              "      filter: drop-shadow(0px 1px 2px rgba(0, 0, 0, 0.3));\n",
              "      fill: #FFFFFF;\n",
              "    }\n",
              "  </style>\n",
              "\n",
              "      <script>\n",
              "        const buttonEl =\n",
              "          document.querySelector('#df-82d5fa18-2824-43ce-b4cf-816be0baf414 button.colab-df-convert');\n",
              "        buttonEl.style.display =\n",
              "          google.colab.kernel.accessAllowed ? 'block' : 'none';\n",
              "\n",
              "        async function convertToInteractive(key) {\n",
              "          const element = document.querySelector('#df-82d5fa18-2824-43ce-b4cf-816be0baf414');\n",
              "          const dataTable =\n",
              "            await google.colab.kernel.invokeFunction('convertToInteractive',\n",
              "                                                     [key], {});\n",
              "          if (!dataTable) return;\n",
              "\n",
              "          const docLinkHtml = 'Like what you see? Visit the ' +\n",
              "            '<a target=\"_blank\" href=https://colab.research.google.com/notebooks/data_table.ipynb>data table notebook</a>'\n",
              "            + ' to learn more about interactive tables.';\n",
              "          element.innerHTML = '';\n",
              "          dataTable['output_type'] = 'display_data';\n",
              "          await google.colab.output.renderOutput(dataTable, element);\n",
              "          const docLink = document.createElement('div');\n",
              "          docLink.innerHTML = docLinkHtml;\n",
              "          element.appendChild(docLink);\n",
              "        }\n",
              "      </script>\n",
              "    </div>\n",
              "  </div>\n",
              "  "
            ]
          },
          "metadata": {},
          "execution_count": 220
        }
      ]
    },
    {
      "cell_type": "code",
      "source": [
        "import pandas as pd\n",
        "import matplotlib.pyplot as plt\n",
        "\n",
        "# Plot the data using a line plot\n",
        "result_df.plot(kind='line')\n",
        "\n",
        "# Add labels and title to the plot\n",
        "plt.xlabel('Index')\n",
        "plt.ylabel('price')\n",
        "plt.title('Line Plot of y_test_pred and y_test')\n",
        "\n",
        "# Display the plot\n",
        "plt.show()"
      ],
      "metadata": {
        "colab": {
          "base_uri": "https://localhost:8080/",
          "height": 458
        },
        "id": "qm7E_7fg69aa",
        "outputId": "4b6cccc8-74dc-4ae4-ee68-e280cfba76eb"
      },
      "execution_count": 221,
      "outputs": [
        {
          "output_type": "display_data",
          "data": {
            "text/plain": [
              "<Figure size 640x480 with 1 Axes>"
            ],
            "image/png": "[encoded data removed]"
          },
          "metadata": {}
        }
      ]
    },
    {
      "cell_type": "code",
      "source": [
        "from sklearn.metrics import mean_absolute_error\n",
        "\n",
        "# Assuming you have the y_test_pred and y_test variables\n",
        "mae = mean_absolute_error(result_df[\"predicted_amount\"], result_df[\"amount\"])\n",
        "\n",
        "# Print the MAE\n",
        "print(\"Mean Absolute Error (MAE):\", mae)"
      ],
      "metadata": {
        "colab": {
          "base_uri": "https://localhost:8080/",
          "height": 397
        },
        "id": "vVQnmc4l32j3",
        "outputId": "69c3a0e2-62ed-4a3a-daa3-da343446086f"
      },
      "execution_count": 222,
      "outputs": [
        {
          "output_type": "error",
          "ename": "ValueError",
          "evalue": "ignored",
          "traceback": [
            "\u001b[0;31m---------------------------------------------------------------------------\u001b[0m",
            "\u001b[0;31mValueError\u001b[0m                                Traceback (most recent call last)",
            "\u001b[0;32m<ipython-input-222-038c5a17a093>\u001b[0m in \u001b[0;36m<cell line: 4>\u001b[0;34m()\u001b[0m\n\u001b[1;32m      2\u001b[0m \u001b[0;34m\u001b[0m\u001b[0m\n\u001b[1;32m      3\u001b[0m \u001b[0;31m# Assuming you have the y_test_pred and y_test variables\u001b[0m\u001b[0;34m\u001b[0m\u001b[0;34m\u001b[0m\u001b[0m\n\u001b[0;32m----> 4\u001b[0;31m \u001b[0mmae\u001b[0m \u001b[0;34m=\u001b[0m \u001b[0mmean_absolute_error\u001b[0m\u001b[0;34m(\u001b[0m\u001b[0mresult_df\u001b[0m\u001b[0;34m[\u001b[0m\u001b[0;34m\"predicted_amount\"\u001b[0m\u001b[0;34m]\u001b[0m\u001b[0;34m,\u001b[0m \u001b[0mresult_df\u001b[0m\u001b[0;34m[\u001b[0m\u001b[0;34m\"amount\"\u001b[0m\u001b[0;34m]\u001b[0m\u001b[0;34m)\u001b[0m\u001b[0;34m\u001b[0m\u001b[0;34m\u001b[0m\u001b[0m\n\u001b[0m\u001b[1;32m      5\u001b[0m \u001b[0;34m\u001b[0m\u001b[0m\n\u001b[1;32m      6\u001b[0m \u001b[0;31m# Print the MAE\u001b[0m\u001b[0;34m\u001b[0m\u001b[0;34m\u001b[0m\u001b[0m\n",
            "\u001b[0;32m/usr/local/lib/python3.10/dist-packages/sklearn/metrics/_regression.py\u001b[0m in \u001b[0;36mmean_absolute_error\u001b[0;34m(y_true, y_pred, sample_weight, multioutput)\u001b[0m\n\u001b[1;32m    194\u001b[0m     \u001b[0;36m0.85\u001b[0m\u001b[0;34m...\u001b[0m\u001b[0;34m\u001b[0m\u001b[0;34m\u001b[0m\u001b[0m\n\u001b[1;32m    195\u001b[0m     \"\"\"\n\u001b[0;32m--> 196\u001b[0;31m     y_type, y_true, y_pred, multioutput = _check_reg_targets(\n\u001b[0m\u001b[1;32m    197\u001b[0m         \u001b[0my_true\u001b[0m\u001b[0;34m,\u001b[0m \u001b[0my_pred\u001b[0m\u001b[0;34m,\u001b[0m \u001b[0mmultioutput\u001b[0m\u001b[0;34m\u001b[0m\u001b[0;34m\u001b[0m\u001b[0m\n\u001b[1;32m    198\u001b[0m     )\n",
            "\u001b[0;32m/usr/local/lib/python3.10/dist-packages/sklearn/metrics/_regression.py\u001b[0m in \u001b[0;36m_check_reg_targets\u001b[0;34m(y_true, y_pred, multioutput, dtype)\u001b[0m\n\u001b[1;32m     99\u001b[0m     \"\"\"\n\u001b[1;32m    100\u001b[0m     \u001b[0mcheck_consistent_length\u001b[0m\u001b[0;34m(\u001b[0m\u001b[0my_true\u001b[0m\u001b[0;34m,\u001b[0m \u001b[0my_pred\u001b[0m\u001b[0;34m)\u001b[0m\u001b[0;34m\u001b[0m\u001b[0;34m\u001b[0m\u001b[0m\n\u001b[0;32m--> 101\u001b[0;31m     \u001b[0my_true\u001b[0m \u001b[0;34m=\u001b[0m \u001b[0mcheck_array\u001b[0m\u001b[0;34m(\u001b[0m\u001b[0my_true\u001b[0m\u001b[0;34m,\u001b[0m \u001b[0mensure_2d\u001b[0m\u001b[0;34m=\u001b[0m\u001b[0;32mFalse\u001b[0m\u001b[0;34m,\u001b[0m \u001b[0mdtype\u001b[0m\u001b[0;34m=\u001b[0m\u001b[0mdtype\u001b[0m\u001b[0;34m)\u001b[0m\u001b[0;34m\u001b[0m\u001b[0;34m\u001b[0m\u001b[0m\n\u001b[0m\u001b[1;32m    102\u001b[0m     \u001b[0my_pred\u001b[0m \u001b[0;34m=\u001b[0m \u001b[0mcheck_array\u001b[0m\u001b[0;34m(\u001b[0m\u001b[0my_pred\u001b[0m\u001b[0;34m,\u001b[0m \u001b[0mensure_2d\u001b[0m\u001b[0;34m=\u001b[0m\u001b[0;32mFalse\u001b[0m\u001b[0;34m,\u001b[0m \u001b[0mdtype\u001b[0m\u001b[0;34m=\u001b[0m\u001b[0mdtype\u001b[0m\u001b[0;34m)\u001b[0m\u001b[0;34m\u001b[0m\u001b[0;34m\u001b[0m\u001b[0m\n\u001b[1;32m    103\u001b[0m \u001b[0;34m\u001b[0m\u001b[0m\n",
            "\u001b[0;32m/usr/local/lib/python3.10/dist-packages/sklearn/utils/validation.py\u001b[0m in \u001b[0;36mcheck_array\u001b[0;34m(array, accept_sparse, accept_large_sparse, dtype, order, copy, force_all_finite, ensure_2d, allow_nd, ensure_min_samples, ensure_min_features, estimator, input_name)\u001b[0m\n\u001b[1;32m    929\u001b[0m         \u001b[0mn_samples\u001b[0m \u001b[0;34m=\u001b[0m \u001b[0m_num_samples\u001b[0m\u001b[0;34m(\u001b[0m\u001b[0marray\u001b[0m\u001b[0;34m)\u001b[0m\u001b[0;34m\u001b[0m\u001b[0;34m\u001b[0m\u001b[0m\n\u001b[1;32m    930\u001b[0m         \u001b[0;32mif\u001b[0m \u001b[0mn_samples\u001b[0m \u001b[0;34m<\u001b[0m \u001b[0mensure_min_samples\u001b[0m\u001b[0;34m:\u001b[0m\u001b[0;34m\u001b[0m\u001b[0;34m\u001b[0m\u001b[0m\n\u001b[0;32m--> 931\u001b[0;31m             raise ValueError(\n\u001b[0m\u001b[1;32m    932\u001b[0m                 \u001b[0;34m\"Found array with %d sample(s) (shape=%s) while a\"\u001b[0m\u001b[0;34m\u001b[0m\u001b[0;34m\u001b[0m\u001b[0m\n\u001b[1;32m    933\u001b[0m                 \u001b[0;34m\" minimum of %d is required%s.\"\u001b[0m\u001b[0;34m\u001b[0m\u001b[0;34m\u001b[0m\u001b[0m\n",
            "\u001b[0;31mValueError\u001b[0m: Found array with 0 sample(s) (shape=(0,)) while a minimum of 1 is required."
          ]
        }
      ]
    },
    {
      "cell_type": "code",
      "source": [
        "# Show for a specific item"
      ],
      "metadata": {
        "id": "tCxc_BNDvTJ0"
      },
      "execution_count": null,
      "outputs": []
    },
    {
      "cell_type": "markdown",
      "source": [
        "#### Baseline model"
      ],
      "metadata": {
        "id": "lLBPzX-v0MBo"
      }
    },
    {
      "cell_type": "code",
      "source": [
        "import pandas as pd\n",
        "\n",
        "# Assuming you have a time series stored in a pandas DataFrame called 'data' with a column named 'value'\n",
        "\n",
        "# Set the window size for the moving average\n",
        "window_size = 4\n",
        "\n",
        "# Calculate the moving average\n",
        "sales_prp_for_baseline[\"moving_average_prediction\"] = sales_prp_for_baseline['amount'].rolling(window=window_size).mean()\n",
        "sales_prp_for_baseline = sales_prp_for_baseline.sort_values(\"timeStamp\")\n",
        "\n",
        "# Print the moving average\n",
        "baseline_prediction = sales_prp_for_baseline[[\"timeStamp\", \"moving_average_prediction\", \"amount\"]]"
      ],
      "metadata": {
        "id": "XFckcc3D0_ys"
      },
      "execution_count": 172,
      "outputs": []
    },
    {
      "cell_type": "code",
      "source": [
        "train_size = int(len(sales_prp) * 0.8)\n",
        "baseline_prediction = baseline_prediction[train_size:]\n",
        "baseline_prediction = baseline_prediction.reset_index()\n",
        "baseline_prediction = baseline_prediction[[\"moving_average_prediction\", \"amount\"]]"
      ],
      "metadata": {
        "id": "3vxKAjUS1mET"
      },
      "execution_count": 173,
      "outputs": []
    },
    {
      "cell_type": "code",
      "source": [
        "\n",
        "baseline_prediction"
      ],
      "metadata": {
        "colab": {
          "base_uri": "https://localhost:8080/",
          "height": 424
        },
        "id": "qYkM-rTU16ur",
        "outputId": "12c99146-1191-4118-8b98-62d62e61acd1"
      },
      "execution_count": 174,
      "outputs": [
        {
          "output_type": "execute_result",
          "data": {
            "text/plain": [
              "       moving_average_prediction     amount\n",
              "0                      63.380000   0.500000\n",
              "1                      65.737500  11.950000\n",
              "2                      70.612500  20.000000\n",
              "3                      13.112500  20.000000\n",
              "4                      16.207500  12.880000\n",
              "...                          ...        ...\n",
              "54085                  21.097500  35.690000\n",
              "54086                  24.422500  16.000000\n",
              "54087                  22.422500  15.000000\n",
              "54088                  18.885000   8.850000\n",
              "54089                  14.655412  18.771647\n",
              "\n",
              "[54090 rows x 2 columns]"
            ],
            "text/html": [
              "\n",
              "  <div id=\"df-fbe6e092-c0cb-4393-81cb-638afb4bc3aa\">\n",
              "    <div class=\"colab-df-container\">\n",
              "      <div>\n",
              "<style scoped>\n",
              "    .dataframe tbody tr th:only-of-type {\n",
              "        vertical-align: middle;\n",
              "    }\n",
              "\n",
              "    .dataframe tbody tr th {\n",
              "        vertical-align: top;\n",
              "    }\n",
              "\n",
              "    .dataframe thead th {\n",
              "        text-align: right;\n",
              "    }\n",
              "</style>\n",
              "<table border=\"1\" class=\"dataframe\">\n",
              "  <thead>\n",
              "    <tr style=\"text-align: right;\">\n",
              "      <th></th>\n",
              "      <th>moving_average_prediction</th>\n",
              "      <th>amount</th>\n",
              "    </tr>\n",
              "  </thead>\n",
              "  <tbody>\n",
              "    <tr>\n",
              "      <th>0</th>\n",
              "      <td>63.380000</td>\n",
              "      <td>0.500000</td>\n",
              "    </tr>\n",
              "    <tr>\n",
              "      <th>1</th>\n",
              "      <td>65.737500</td>\n",
              "      <td>11.950000</td>\n",
              "    </tr>\n",
              "    <tr>\n",
              "      <th>2</th>\n",
              "      <td>70.612500</td>\n",
              "      <td>20.000000</td>\n",
              "    </tr>\n",
              "    <tr>\n",
              "      <th>3</th>\n",
              "      <td>13.112500</td>\n",
              "      <td>20.000000</td>\n",
              "    </tr>\n",
              "    <tr>\n",
              "      <th>4</th>\n",
              "      <td>16.207500</td>\n",
              "      <td>12.880000</td>\n",
              "    </tr>\n",
              "    <tr>\n",
              "      <th>...</th>\n",
              "      <td>...</td>\n",
              "      <td>...</td>\n",
              "    </tr>\n",
              "    <tr>\n",
              "      <th>54085</th>\n",
              "      <td>21.097500</td>\n",
              "      <td>35.690000</td>\n",
              "    </tr>\n",
              "    <tr>\n",
              "      <th>54086</th>\n",
              "      <td>24.422500</td>\n",
              "      <td>16.000000</td>\n",
              "    </tr>\n",
              "    <tr>\n",
              "      <th>54087</th>\n",
              "      <td>22.422500</td>\n",
              "      <td>15.000000</td>\n",
              "    </tr>\n",
              "    <tr>\n",
              "      <th>54088</th>\n",
              "      <td>18.885000</td>\n",
              "      <td>8.850000</td>\n",
              "    </tr>\n",
              "    <tr>\n",
              "      <th>54089</th>\n",
              "      <td>14.655412</td>\n",
              "      <td>18.771647</td>\n",
              "    </tr>\n",
              "  </tbody>\n",
              "</table>\n",
              "<p>54090 rows × 2 columns</p>\n",
              "</div>\n",
              "      <button class=\"colab-df-convert\" onclick=\"convertToInteractive('df-fbe6e092-c0cb-4393-81cb-638afb4bc3aa')\"\n",
              "              title=\"Convert this dataframe to an interactive table.\"\n",
              "              style=\"display:none;\">\n",
              "        \n",
              "  <svg xmlns=\"http://www.w3.org/2000/svg\" height=\"24px\"viewBox=\"0 0 24 24\"\n",
              "       width=\"24px\">\n",
              "    <path d=\"M0 0h24v24H0V0z\" fill=\"none\"/>\n",
              "    <path d=\"M18.56 5.44l.94 2.06.94-2.06 2.06-.94-2.06-.94-.94-2.06-.94 2.06-2.06.94zm-11 1L8.5 8.5l.94-2.06 2.06-.94-2.06-.94L8.5 2.5l-.94 2.06-2.06.94zm10 10l.94 2.06.94-2.06 2.06-.94-2.06-.94-.94-2.06-.94 2.06-2.06.94z\"/><path d=\"M17.41 7.96l-1.37-1.37c-.4-.4-.92-.59-1.43-.59-.52 0-1.04.2-1.43.59L10.3 9.45l-7.72 7.72c-.78.78-.78 2.05 0 2.83L4 21.41c.39.39.9.59 1.41.59.51 0 1.02-.2 1.41-.59l7.78-7.78 2.81-2.81c.8-.78.8-2.07 0-2.86zM5.41 20L4 18.59l7.72-7.72 1.47 1.35L5.41 20z\"/>\n",
              "  </svg>\n",
              "      </button>\n",
              "      \n",
              "  <style>\n",
              "    .colab-df-container {\n",
              "      display:flex;\n",
              "      flex-wrap:wrap;\n",
              "      gap: 12px;\n",
              "    }\n",
              "\n",
              "    .colab-df-convert {\n",
              "      background-color: #E8F0FE;\n",
              "      border: none;\n",
              "      border-radius: 50%;\n",
              "      cursor: pointer;\n",
              "      display: none;\n",
              "      fill: #1967D2;\n",
              "      height: 32px;\n",
              "      padding: 0 0 0 0;\n",
              "      width: 32px;\n",
              "    }\n",
              "\n",
              "    .colab-df-convert:hover {\n",
              "      background-color: #E2EBFA;\n",
              "      box-shadow: 0px 1px 2px rgba(60, 64, 67, 0.3), 0px 1px 3px 1px rgba(60, 64, 67, 0.15);\n",
              "      fill: #174EA6;\n",
              "    }\n",
              "\n",
              "    [theme=dark] .colab-df-convert {\n",
              "      background-color: #3B4455;\n",
              "      fill: #D2E3FC;\n",
              "    }\n",
              "\n",
              "    [theme=dark] .colab-df-convert:hover {\n",
              "      background-color: #434B5C;\n",
              "      box-shadow: 0px 1px 3px 1px rgba(0, 0, 0, 0.15);\n",
              "      filter: drop-shadow(0px 1px 2px rgba(0, 0, 0, 0.3));\n",
              "      fill: #FFFFFF;\n",
              "    }\n",
              "  </style>\n",
              "\n",
              "      <script>\n",
              "        const buttonEl =\n",
              "          document.querySelector('#df-fbe6e092-c0cb-4393-81cb-638afb4bc3aa button.colab-df-convert');\n",
              "        buttonEl.style.display =\n",
              "          google.colab.kernel.accessAllowed ? 'block' : 'none';\n",
              "\n",
              "        async function convertToInteractive(key) {\n",
              "          const element = document.querySelector('#df-fbe6e092-c0cb-4393-81cb-638afb4bc3aa');\n",
              "          const dataTable =\n",
              "            await google.colab.kernel.invokeFunction('convertToInteractive',\n",
              "                                                     [key], {});\n",
              "          if (!dataTable) return;\n",
              "\n",
              "          const docLinkHtml = 'Like what you see? Visit the ' +\n",
              "            '<a target=\"_blank\" href=https://colab.research.google.com/notebooks/data_table.ipynb>data table notebook</a>'\n",
              "            + ' to learn more about interactive tables.';\n",
              "          element.innerHTML = '';\n",
              "          dataTable['output_type'] = 'display_data';\n",
              "          await google.colab.output.renderOutput(dataTable, element);\n",
              "          const docLink = document.createElement('div');\n",
              "          docLink.innerHTML = docLinkHtml;\n",
              "          element.appendChild(docLink);\n",
              "        }\n",
              "      </script>\n",
              "    </div>\n",
              "  </div>\n",
              "  "
            ]
          },
          "metadata": {},
          "execution_count": 174
        }
      ]
    },
    {
      "cell_type": "code",
      "source": [
        "import pandas as pd\n",
        "import matplotlib.pyplot as plt\n",
        "\n",
        "# Plot the data using a line plot\n",
        "baseline_prediction[:200].plot(kind='line')\n",
        "\n",
        "# Add labels and title to the plot\n",
        "plt.xlabel('Index')\n",
        "plt.ylabel('price')\n",
        "plt.title('Line Plot of y_test_pred and y_test')\n",
        "\n",
        "# Display the plot\n",
        "plt.show()"
      ],
      "metadata": {
        "colab": {
          "base_uri": "https://localhost:8080/",
          "height": 472
        },
        "id": "0wrd-ccs0_qL",
        "outputId": "28b47150-c7dd-4cc8-b31e-0f227cfd73fc"
      },
      "execution_count": 176,
      "outputs": [
        {
          "output_type": "display_data",
          "data": {
            "text/plain": [
              "<Figure size 640x480 with 1 Axes>"
            ],
            "image/png": "[encoded data removed]"
          },
          "metadata": {}
        }
      ]
    },
    {
      "cell_type": "code",
      "source": [
        "from sklearn.metrics import mean_absolute_error\n",
        "\n",
        "# Assuming you have the y_test_pred and y_test variables\n",
        "mae_baseline = mean_absolute_error(baseline_prediction[\"moving_average_prediction\"], baseline_prediction[\"amount\"])\n",
        "\n",
        "# Print the MAE\n",
        "print(\"Mean Absolute Error (MAE):\", mae_baseline)"
      ],
      "metadata": {
        "colab": {
          "base_uri": "https://localhost:8080/"
        },
        "id": "ECoOxLlCwbQQ",
        "outputId": "27d62d9a-afa5-44c5-a218-f70e9dd4a3d8"
      },
      "execution_count": 178,
      "outputs": [
        {
          "output_type": "stream",
          "name": "stdout",
          "text": [
            "Mean Absolute Error (MAE): 64.6098618332896\n"
          ]
        }
      ]
    }
  ]
}