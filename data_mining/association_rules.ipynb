{
  "nbformat": 4,
  "nbformat_minor": 0,
  "metadata": {
    "colab": {
      "name": "association rules.ipynb",
      "provenance": [],
      "collapsed_sections": [],
      "mount_file_id": "1uFudcsGxm5tDRCxdvgCp_9GoUYtYS1Kc",
      "authorship_tag": "ABX9TyPZwSUrAMizzG8NglIemzLm",
      "include_colab_link": true
    },
    "kernelspec": {
      "name": "python3",
      "display_name": "Python 3"
    },
    "language_info": {
      "name": "python"
    }
  },
  "cells": [
    {
      "cell_type": "markdown",
      "metadata": {
        "id": "view-in-github",
        "colab_type": "text"
      },
      "source": [
        "<a href=\"https://colab.research.google.com/github/slavyolov/Algorithms/blob/main/data_mining/association_rules.ipynb\" target=\"_parent\"><img src=\"https://colab.research.google.com/assets/colab-badge.svg\" alt=\"Open In Colab\"/></a>"
      ]
    },
    {
      "cell_type": "markdown",
      "source": [
        "## Mount google drive and setup working directory"
      ],
      "metadata": {
        "id": "3AE5tOob7OvN"
      }
    },
    {
      "cell_type": "code",
      "source": [
        "#  mount your Google drive\n",
        "from google.colab import drive\n",
        "drive.mount('/content/Python_files', force_remount=True)"
      ],
      "metadata": {
        "colab": {
          "base_uri": "https://localhost:8080/"
        },
        "id": "4BG5a7qO4VJD",
        "outputId": "6a5c3a91-1bf1-443a-c7ba-702021185a74"
      },
      "execution_count": 4,
      "outputs": [
        {
          "output_type": "stream",
          "name": "stdout",
          "text": [
            "Mounted at /content/Python_files\n"
          ]
        }
      ]
    },
    {
      "cell_type": "code",
      "source": [
        "# Change working directory\n",
        "%cd /content/Python_files/MyDrive/Python_files"
      ],
      "metadata": {
        "colab": {
          "base_uri": "https://localhost:8080/"
        },
        "id": "QvPOXy9I6lUf",
        "outputId": "9aa401cd-eef0-4b86-b0c2-1df0bf7ce457"
      },
      "execution_count": 26,
      "outputs": [
        {
          "output_type": "stream",
          "name": "stdout",
          "text": [
            "/content/Python_files/MyDrive/Python_files\n"
          ]
        }
      ]
    },
    {
      "cell_type": "code",
      "source": [
        "!ls"
      ],
      "metadata": {
        "colab": {
          "base_uri": "https://localhost:8080/"
        },
        "id": "Ukukn-Bq4eEN",
        "outputId": "0e09e062-c153-45bd-9e72-50e23ce92852"
      },
      "execution_count": 27,
      "outputs": [
        {
          "output_type": "stream",
          "name": "stdout",
          "text": [
            "barcode_reader.py  Data  YOLOv3_course_or\n"
          ]
        }
      ]
    },
    {
      "cell_type": "markdown",
      "source": [
        "## Install packages"
      ],
      "metadata": {
        "id": "xieE5OQc7Rl0"
      }
    },
    {
      "cell_type": "code",
      "execution_count": null,
      "metadata": {
        "colab": {
          "base_uri": "https://localhost:8080/"
        },
        "id": "IenEApqczgSU",
        "outputId": "64278581-23f4-4f05-c466-4a8a992ffa36"
      },
      "outputs": [
        {
          "output_type": "stream",
          "name": "stdout",
          "text": [
            "Requirement already satisfied: mlxtend==0.19.0 in /usr/local/lib/python3.7/dist-packages (0.19.0)\n",
            "Requirement already satisfied: scipy>=1.2.1 in /usr/local/lib/python3.7/dist-packages (from mlxtend==0.19.0) (1.4.1)\n",
            "Requirement already satisfied: setuptools in /usr/local/lib/python3.7/dist-packages (from mlxtend==0.19.0) (57.4.0)\n",
            "Requirement already satisfied: pandas>=0.24.2 in /usr/local/lib/python3.7/dist-packages (from mlxtend==0.19.0) (1.3.5)\n",
            "Requirement already satisfied: numpy>=1.16.2 in /usr/local/lib/python3.7/dist-packages (from mlxtend==0.19.0) (1.21.5)\n",
            "Requirement already satisfied: scikit-learn>=0.20.3 in /usr/local/lib/python3.7/dist-packages (from mlxtend==0.19.0) (1.0.2)\n",
            "Requirement already satisfied: joblib>=0.13.2 in /usr/local/lib/python3.7/dist-packages (from mlxtend==0.19.0) (1.1.0)\n",
            "Requirement already satisfied: matplotlib>=3.0.0 in /usr/local/lib/python3.7/dist-packages (from mlxtend==0.19.0) (3.2.2)\n",
            "Requirement already satisfied: pyparsing!=2.0.4,!=2.1.2,!=2.1.6,>=2.0.1 in /usr/local/lib/python3.7/dist-packages (from matplotlib>=3.0.0->mlxtend==0.19.0) (3.0.7)\n",
            "Requirement already satisfied: cycler>=0.10 in /usr/local/lib/python3.7/dist-packages (from matplotlib>=3.0.0->mlxtend==0.19.0) (0.11.0)\n",
            "Requirement already satisfied: kiwisolver>=1.0.1 in /usr/local/lib/python3.7/dist-packages (from matplotlib>=3.0.0->mlxtend==0.19.0) (1.4.0)\n",
            "Requirement already satisfied: python-dateutil>=2.1 in /usr/local/lib/python3.7/dist-packages (from matplotlib>=3.0.0->mlxtend==0.19.0) (2.8.2)\n",
            "Requirement already satisfied: typing-extensions in /usr/local/lib/python3.7/dist-packages (from kiwisolver>=1.0.1->matplotlib>=3.0.0->mlxtend==0.19.0) (3.10.0.2)\n",
            "Requirement already satisfied: pytz>=2017.3 in /usr/local/lib/python3.7/dist-packages (from pandas>=0.24.2->mlxtend==0.19.0) (2018.9)\n",
            "Requirement already satisfied: six>=1.5 in /usr/local/lib/python3.7/dist-packages (from python-dateutil>=2.1->matplotlib>=3.0.0->mlxtend==0.19.0) (1.15.0)\n",
            "Requirement already satisfied: threadpoolctl>=2.0.0 in /usr/local/lib/python3.7/dist-packages (from scikit-learn>=0.20.3->mlxtend==0.19.0) (3.1.0)\n"
          ]
        }
      ],
      "source": [
        "!pip install mlxtend==0.19.0"
      ]
    },
    {
      "cell_type": "markdown",
      "source": [
        "## Package imports"
      ],
      "metadata": {
        "id": "K7ewbXqr7XFN"
      }
    },
    {
      "cell_type": "code",
      "source": [
        "import pandas as pd\n",
        "import numpy as np\n",
        "from mlxtend.preprocessing import TransactionEncoder\n",
        "from mlxtend.frequent_patterns import fpgrowth, association_rules "
      ],
      "metadata": {
        "id": "v4L_8pPczn3w"
      },
      "execution_count": 31,
      "outputs": []
    },
    {
      "cell_type": "markdown",
      "source": [
        "## Data \n",
        "- https://www.kaggle.com/datasets/devchauhan1/market-basket-optimisationcsv\n",
        "\n",
        "! the data was uploaded manually from the above loink to the google drive \"/content/Python_files/MyDrive/Python_files\""
      ],
      "metadata": {
        "id": "nQvqFdbk3bWG"
      }
    },
    {
      "cell_type": "code",
      "source": [
        "data = pd.read_csv(\"Data/Market_Basket_Optimisation.csv\", header=None)\n",
        "print(data.shape)"
      ],
      "metadata": {
        "id": "GcuGw0hD2Hlz",
        "colab": {
          "base_uri": "https://localhost:8080/"
        },
        "outputId": "6c84a3f0-550c-43ce-d233-6aff0d4d914a"
      },
      "execution_count": 29,
      "outputs": [
        {
          "output_type": "stream",
          "name": "stdout",
          "text": [
            "(7501, 20)\n"
          ]
        }
      ]
    },
    {
      "cell_type": "code",
      "source": [
        "data.head()"
      ],
      "metadata": {
        "colab": {
          "base_uri": "https://localhost:8080/",
          "height": 322
        },
        "id": "SzvLKk6E7jwf",
        "outputId": "b56a2969-5732-4ec5-9d6c-33d2d5b3dda4"
      },
      "execution_count": 30,
      "outputs": [
        {
          "output_type": "execute_result",
          "data": {
            "text/plain": [
              "              0          1           2                 3             4   \\\n",
              "0         shrimp    almonds     avocado    vegetables mix  green grapes   \n",
              "1        burgers  meatballs        eggs               NaN           NaN   \n",
              "2        chutney        NaN         NaN               NaN           NaN   \n",
              "3         turkey    avocado         NaN               NaN           NaN   \n",
              "4  mineral water       milk  energy bar  whole wheat rice     green tea   \n",
              "\n",
              "                 5     6               7             8             9   \\\n",
              "0  whole weat flour  yams  cottage cheese  energy drink  tomato juice   \n",
              "1               NaN   NaN             NaN           NaN           NaN   \n",
              "2               NaN   NaN             NaN           NaN           NaN   \n",
              "3               NaN   NaN             NaN           NaN           NaN   \n",
              "4               NaN   NaN             NaN           NaN           NaN   \n",
              "\n",
              "               10         11     12     13             14      15  \\\n",
              "0  low fat yogurt  green tea  honey  salad  mineral water  salmon   \n",
              "1             NaN        NaN    NaN    NaN            NaN     NaN   \n",
              "2             NaN        NaN    NaN    NaN            NaN     NaN   \n",
              "3             NaN        NaN    NaN    NaN            NaN     NaN   \n",
              "4             NaN        NaN    NaN    NaN            NaN     NaN   \n",
              "\n",
              "                  16               17       18         19  \n",
              "0  antioxydant juice  frozen smoothie  spinach  olive oil  \n",
              "1                NaN              NaN      NaN        NaN  \n",
              "2                NaN              NaN      NaN        NaN  \n",
              "3                NaN              NaN      NaN        NaN  \n",
              "4                NaN              NaN      NaN        NaN  "
            ],
            "text/html": [
              "\n",
              "  <div id=\"df-5812e5c0-9c99-4889-8a73-0446e16736ee\">\n",
              "    <div class=\"colab-df-container\">\n",
              "      <div>\n",
              "<style scoped>\n",
              "    .dataframe tbody tr th:only-of-type {\n",
              "        vertical-align: middle;\n",
              "    }\n",
              "\n",
              "    .dataframe tbody tr th {\n",
              "        vertical-align: top;\n",
              "    }\n",
              "\n",
              "    .dataframe thead th {\n",
              "        text-align: right;\n",
              "    }\n",
              "</style>\n",
              "<table border=\"1\" class=\"dataframe\">\n",
              "  <thead>\n",
              "    <tr style=\"text-align: right;\">\n",
              "      <th></th>\n",
              "      <th>0</th>\n",
              "      <th>1</th>\n",
              "      <th>2</th>\n",
              "      <th>3</th>\n",
              "      <th>4</th>\n",
              "      <th>5</th>\n",
              "      <th>6</th>\n",
              "      <th>7</th>\n",
              "      <th>8</th>\n",
              "      <th>9</th>\n",
              "      <th>10</th>\n",
              "      <th>11</th>\n",
              "      <th>12</th>\n",
              "      <th>13</th>\n",
              "      <th>14</th>\n",
              "      <th>15</th>\n",
              "      <th>16</th>\n",
              "      <th>17</th>\n",
              "      <th>18</th>\n",
              "      <th>19</th>\n",
              "    </tr>\n",
              "  </thead>\n",
              "  <tbody>\n",
              "    <tr>\n",
              "      <th>0</th>\n",
              "      <td>shrimp</td>\n",
              "      <td>almonds</td>\n",
              "      <td>avocado</td>\n",
              "      <td>vegetables mix</td>\n",
              "      <td>green grapes</td>\n",
              "      <td>whole weat flour</td>\n",
              "      <td>yams</td>\n",
              "      <td>cottage cheese</td>\n",
              "      <td>energy drink</td>\n",
              "      <td>tomato juice</td>\n",
              "      <td>low fat yogurt</td>\n",
              "      <td>green tea</td>\n",
              "      <td>honey</td>\n",
              "      <td>salad</td>\n",
              "      <td>mineral water</td>\n",
              "      <td>salmon</td>\n",
              "      <td>antioxydant juice</td>\n",
              "      <td>frozen smoothie</td>\n",
              "      <td>spinach</td>\n",
              "      <td>olive oil</td>\n",
              "    </tr>\n",
              "    <tr>\n",
              "      <th>1</th>\n",
              "      <td>burgers</td>\n",
              "      <td>meatballs</td>\n",
              "      <td>eggs</td>\n",
              "      <td>NaN</td>\n",
              "      <td>NaN</td>\n",
              "      <td>NaN</td>\n",
              "      <td>NaN</td>\n",
              "      <td>NaN</td>\n",
              "      <td>NaN</td>\n",
              "      <td>NaN</td>\n",
              "      <td>NaN</td>\n",
              "      <td>NaN</td>\n",
              "      <td>NaN</td>\n",
              "      <td>NaN</td>\n",
              "      <td>NaN</td>\n",
              "      <td>NaN</td>\n",
              "      <td>NaN</td>\n",
              "      <td>NaN</td>\n",
              "      <td>NaN</td>\n",
              "      <td>NaN</td>\n",
              "    </tr>\n",
              "    <tr>\n",
              "      <th>2</th>\n",
              "      <td>chutney</td>\n",
              "      <td>NaN</td>\n",
              "      <td>NaN</td>\n",
              "      <td>NaN</td>\n",
              "      <td>NaN</td>\n",
              "      <td>NaN</td>\n",
              "      <td>NaN</td>\n",
              "      <td>NaN</td>\n",
              "      <td>NaN</td>\n",
              "      <td>NaN</td>\n",
              "      <td>NaN</td>\n",
              "      <td>NaN</td>\n",
              "      <td>NaN</td>\n",
              "      <td>NaN</td>\n",
              "      <td>NaN</td>\n",
              "      <td>NaN</td>\n",
              "      <td>NaN</td>\n",
              "      <td>NaN</td>\n",
              "      <td>NaN</td>\n",
              "      <td>NaN</td>\n",
              "    </tr>\n",
              "    <tr>\n",
              "      <th>3</th>\n",
              "      <td>turkey</td>\n",
              "      <td>avocado</td>\n",
              "      <td>NaN</td>\n",
              "      <td>NaN</td>\n",
              "      <td>NaN</td>\n",
              "      <td>NaN</td>\n",
              "      <td>NaN</td>\n",
              "      <td>NaN</td>\n",
              "      <td>NaN</td>\n",
              "      <td>NaN</td>\n",
              "      <td>NaN</td>\n",
              "      <td>NaN</td>\n",
              "      <td>NaN</td>\n",
              "      <td>NaN</td>\n",
              "      <td>NaN</td>\n",
              "      <td>NaN</td>\n",
              "      <td>NaN</td>\n",
              "      <td>NaN</td>\n",
              "      <td>NaN</td>\n",
              "      <td>NaN</td>\n",
              "    </tr>\n",
              "    <tr>\n",
              "      <th>4</th>\n",
              "      <td>mineral water</td>\n",
              "      <td>milk</td>\n",
              "      <td>energy bar</td>\n",
              "      <td>whole wheat rice</td>\n",
              "      <td>green tea</td>\n",
              "      <td>NaN</td>\n",
              "      <td>NaN</td>\n",
              "      <td>NaN</td>\n",
              "      <td>NaN</td>\n",
              "      <td>NaN</td>\n",
              "      <td>NaN</td>\n",
              "      <td>NaN</td>\n",
              "      <td>NaN</td>\n",
              "      <td>NaN</td>\n",
              "      <td>NaN</td>\n",
              "      <td>NaN</td>\n",
              "      <td>NaN</td>\n",
              "      <td>NaN</td>\n",
              "      <td>NaN</td>\n",
              "      <td>NaN</td>\n",
              "    </tr>\n",
              "  </tbody>\n",
              "</table>\n",
              "</div>\n",
              "      <button class=\"colab-df-convert\" onclick=\"convertToInteractive('df-5812e5c0-9c99-4889-8a73-0446e16736ee')\"\n",
              "              title=\"Convert this dataframe to an interactive table.\"\n",
              "              style=\"display:none;\">\n",
              "        \n",
              "  <svg xmlns=\"http://www.w3.org/2000/svg\" height=\"24px\"viewBox=\"0 0 24 24\"\n",
              "       width=\"24px\">\n",
              "    <path d=\"M0 0h24v24H0V0z\" fill=\"none\"/>\n",
              "    <path d=\"M18.56 5.44l.94 2.06.94-2.06 2.06-.94-2.06-.94-.94-2.06-.94 2.06-2.06.94zm-11 1L8.5 8.5l.94-2.06 2.06-.94-2.06-.94L8.5 2.5l-.94 2.06-2.06.94zm10 10l.94 2.06.94-2.06 2.06-.94-2.06-.94-.94-2.06-.94 2.06-2.06.94z\"/><path d=\"M17.41 7.96l-1.37-1.37c-.4-.4-.92-.59-1.43-.59-.52 0-1.04.2-1.43.59L10.3 9.45l-7.72 7.72c-.78.78-.78 2.05 0 2.83L4 21.41c.39.39.9.59 1.41.59.51 0 1.02-.2 1.41-.59l7.78-7.78 2.81-2.81c.8-.78.8-2.07 0-2.86zM5.41 20L4 18.59l7.72-7.72 1.47 1.35L5.41 20z\"/>\n",
              "  </svg>\n",
              "      </button>\n",
              "      \n",
              "  <style>\n",
              "    .colab-df-container {\n",
              "      display:flex;\n",
              "      flex-wrap:wrap;\n",
              "      gap: 12px;\n",
              "    }\n",
              "\n",
              "    .colab-df-convert {\n",
              "      background-color: #E8F0FE;\n",
              "      border: none;\n",
              "      border-radius: 50%;\n",
              "      cursor: pointer;\n",
              "      display: none;\n",
              "      fill: #1967D2;\n",
              "      height: 32px;\n",
              "      padding: 0 0 0 0;\n",
              "      width: 32px;\n",
              "    }\n",
              "\n",
              "    .colab-df-convert:hover {\n",
              "      background-color: #E2EBFA;\n",
              "      box-shadow: 0px 1px 2px rgba(60, 64, 67, 0.3), 0px 1px 3px 1px rgba(60, 64, 67, 0.15);\n",
              "      fill: #174EA6;\n",
              "    }\n",
              "\n",
              "    [theme=dark] .colab-df-convert {\n",
              "      background-color: #3B4455;\n",
              "      fill: #D2E3FC;\n",
              "    }\n",
              "\n",
              "    [theme=dark] .colab-df-convert:hover {\n",
              "      background-color: #434B5C;\n",
              "      box-shadow: 0px 1px 3px 1px rgba(0, 0, 0, 0.15);\n",
              "      filter: drop-shadow(0px 1px 2px rgba(0, 0, 0, 0.3));\n",
              "      fill: #FFFFFF;\n",
              "    }\n",
              "  </style>\n",
              "\n",
              "      <script>\n",
              "        const buttonEl =\n",
              "          document.querySelector('#df-5812e5c0-9c99-4889-8a73-0446e16736ee button.colab-df-convert');\n",
              "        buttonEl.style.display =\n",
              "          google.colab.kernel.accessAllowed ? 'block' : 'none';\n",
              "\n",
              "        async function convertToInteractive(key) {\n",
              "          const element = document.querySelector('#df-5812e5c0-9c99-4889-8a73-0446e16736ee');\n",
              "          const dataTable =\n",
              "            await google.colab.kernel.invokeFunction('convertToInteractive',\n",
              "                                                     [key], {});\n",
              "          if (!dataTable) return;\n",
              "\n",
              "          const docLinkHtml = 'Like what you see? Visit the ' +\n",
              "            '<a target=\"_blank\" href=https://colab.research.google.com/notebooks/data_table.ipynb>data table notebook</a>'\n",
              "            + ' to learn more about interactive tables.';\n",
              "          element.innerHTML = '';\n",
              "          dataTable['output_type'] = 'display_data';\n",
              "          await google.colab.output.renderOutput(dataTable, element);\n",
              "          const docLink = document.createElement('div');\n",
              "          docLink.innerHTML = docLinkHtml;\n",
              "          element.appendChild(docLink);\n",
              "        }\n",
              "      </script>\n",
              "    </div>\n",
              "  </div>\n",
              "  "
            ]
          },
          "metadata": {},
          "execution_count": 30
        }
      ]
    },
    {
      "cell_type": "markdown",
      "source": [
        "## Data Pre-Processing\n",
        "\n",
        "\n",
        "In order to be able to use apriori algorithm and get most frequent itemsets, we have to transform our dataset into a 1 – 0 matrix where rows are transactions and columns are products. In that matrix, “1” should be encoded if the product has been bought on that transaction and “0” should be encoded if the product has not been bought on that transaction. This preprocessing is required for use of the algorithm.\n",
        "\n",
        "http://rasbt.github.io/mlxtend/user_guide/frequent_patterns/apriori/\n",
        "http://rasbt.github.io/mlxtend/user_guide/preprocessing/TransactionEncoder/\n"
      ],
      "metadata": {
        "id": "o3bfEp_m9h3z"
      }
    },
    {
      "cell_type": "code",
      "source": [
        "# Transform Every Transaction to Seperate List & Gather Them into Numpy Array\n",
        "\n",
        "transaction_l = []\n",
        "for i in range(data.shape[0]):\n",
        "    transaction_l.append([str(data.values[i,j]) for j in range(data.shape[1])])\n",
        "    \n",
        "transaction_arr = np.array(transaction_l)\n",
        "\n",
        "print(type(transaction_arr))\n",
        "print(transaction_arr)"
      ],
      "metadata": {
        "colab": {
          "base_uri": "https://localhost:8080/"
        },
        "id": "_A9kLqrG8I9C",
        "outputId": "d5a1b849-2cde-485d-d648-db3680acf5ec"
      },
      "execution_count": 33,
      "outputs": [
        {
          "output_type": "stream",
          "name": "stdout",
          "text": [
            "<class 'numpy.ndarray'>\n",
            "[['shrimp' 'almonds' 'avocado' ... 'frozen smoothie' 'spinach'\n",
            "  'olive oil']\n",
            " ['burgers' 'meatballs' 'eggs' ... 'nan' 'nan' 'nan']\n",
            " ['chutney' 'nan' 'nan' ... 'nan' 'nan' 'nan']\n",
            " ...\n",
            " ['chicken' 'nan' 'nan' ... 'nan' 'nan' 'nan']\n",
            " ['escalope' 'green tea' 'nan' ... 'nan' 'nan' 'nan']\n",
            " ['eggs' 'frozen smoothie' 'yogurt cake' ... 'nan' 'nan' 'nan']]\n"
          ]
        }
      ]
    },
    {
      "cell_type": "code",
      "source": [
        "te = TransactionEncoder()\n",
        "te_ary = te.fit(transaction_arr).transform(transaction_arr)\n",
        "df_train = pd.DataFrame(te_ary, columns=te.columns_)\n",
        "df_train = df_train.drop(['nan'], axis=1)\n",
        "\n",
        "print(type(te_ary))\n",
        "df_train.head()\n",
        "\n",
        "## There are 120 columns/features at the moment. ('nan' feature removed)"
      ],
      "metadata": {
        "colab": {
          "base_uri": "https://localhost:8080/",
          "height": 353
        },
        "id": "vyEXhZDN8prV",
        "outputId": "cf87354f-ebec-4325-b776-9c7c9761a2f0"
      },
      "execution_count": 51,
      "outputs": [
        {
          "output_type": "stream",
          "name": "stdout",
          "text": [
            "<class 'numpy.ndarray'>\n"
          ]
        },
        {
          "output_type": "execute_result",
          "data": {
            "text/plain": [
              "    asparagus  almonds  antioxydant juice  asparagus  avocado  babies food  \\\n",
              "0       False     True               True      False     True        False   \n",
              "1       False    False              False      False    False        False   \n",
              "2       False    False              False      False    False        False   \n",
              "3       False    False              False      False     True        False   \n",
              "4       False    False              False      False    False        False   \n",
              "\n",
              "   bacon  barbecue sauce  black tea  blueberries  ...  turkey  vegetables mix  \\\n",
              "0  False           False      False        False  ...   False            True   \n",
              "1  False           False      False        False  ...   False           False   \n",
              "2  False           False      False        False  ...   False           False   \n",
              "3  False           False      False        False  ...    True           False   \n",
              "4  False           False      False        False  ...   False           False   \n",
              "\n",
              "   water spray  white wine  whole weat flour  whole wheat pasta  \\\n",
              "0        False       False              True              False   \n",
              "1        False       False             False              False   \n",
              "2        False       False             False              False   \n",
              "3        False       False             False              False   \n",
              "4        False       False             False              False   \n",
              "\n",
              "   whole wheat rice   yams  yogurt cake  zucchini  \n",
              "0             False   True        False     False  \n",
              "1             False  False        False     False  \n",
              "2             False  False        False     False  \n",
              "3             False  False        False     False  \n",
              "4              True  False        False     False  \n",
              "\n",
              "[5 rows x 120 columns]"
            ],
            "text/html": [
              "\n",
              "  <div id=\"df-57aa1c07-1764-4d85-8d70-cd91f51bde6a\">\n",
              "    <div class=\"colab-df-container\">\n",
              "      <div>\n",
              "<style scoped>\n",
              "    .dataframe tbody tr th:only-of-type {\n",
              "        vertical-align: middle;\n",
              "    }\n",
              "\n",
              "    .dataframe tbody tr th {\n",
              "        vertical-align: top;\n",
              "    }\n",
              "\n",
              "    .dataframe thead th {\n",
              "        text-align: right;\n",
              "    }\n",
              "</style>\n",
              "<table border=\"1\" class=\"dataframe\">\n",
              "  <thead>\n",
              "    <tr style=\"text-align: right;\">\n",
              "      <th></th>\n",
              "      <th>asparagus</th>\n",
              "      <th>almonds</th>\n",
              "      <th>antioxydant juice</th>\n",
              "      <th>asparagus</th>\n",
              "      <th>avocado</th>\n",
              "      <th>babies food</th>\n",
              "      <th>bacon</th>\n",
              "      <th>barbecue sauce</th>\n",
              "      <th>black tea</th>\n",
              "      <th>blueberries</th>\n",
              "      <th>...</th>\n",
              "      <th>turkey</th>\n",
              "      <th>vegetables mix</th>\n",
              "      <th>water spray</th>\n",
              "      <th>white wine</th>\n",
              "      <th>whole weat flour</th>\n",
              "      <th>whole wheat pasta</th>\n",
              "      <th>whole wheat rice</th>\n",
              "      <th>yams</th>\n",
              "      <th>yogurt cake</th>\n",
              "      <th>zucchini</th>\n",
              "    </tr>\n",
              "  </thead>\n",
              "  <tbody>\n",
              "    <tr>\n",
              "      <th>0</th>\n",
              "      <td>False</td>\n",
              "      <td>True</td>\n",
              "      <td>True</td>\n",
              "      <td>False</td>\n",
              "      <td>True</td>\n",
              "      <td>False</td>\n",
              "      <td>False</td>\n",
              "      <td>False</td>\n",
              "      <td>False</td>\n",
              "      <td>False</td>\n",
              "      <td>...</td>\n",
              "      <td>False</td>\n",
              "      <td>True</td>\n",
              "      <td>False</td>\n",
              "      <td>False</td>\n",
              "      <td>True</td>\n",
              "      <td>False</td>\n",
              "      <td>False</td>\n",
              "      <td>True</td>\n",
              "      <td>False</td>\n",
              "      <td>False</td>\n",
              "    </tr>\n",
              "    <tr>\n",
              "      <th>1</th>\n",
              "      <td>False</td>\n",
              "      <td>False</td>\n",
              "      <td>False</td>\n",
              "      <td>False</td>\n",
              "      <td>False</td>\n",
              "      <td>False</td>\n",
              "      <td>False</td>\n",
              "      <td>False</td>\n",
              "      <td>False</td>\n",
              "      <td>False</td>\n",
              "      <td>...</td>\n",
              "      <td>False</td>\n",
              "      <td>False</td>\n",
              "      <td>False</td>\n",
              "      <td>False</td>\n",
              "      <td>False</td>\n",
              "      <td>False</td>\n",
              "      <td>False</td>\n",
              "      <td>False</td>\n",
              "      <td>False</td>\n",
              "      <td>False</td>\n",
              "    </tr>\n",
              "    <tr>\n",
              "      <th>2</th>\n",
              "      <td>False</td>\n",
              "      <td>False</td>\n",
              "      <td>False</td>\n",
              "      <td>False</td>\n",
              "      <td>False</td>\n",
              "      <td>False</td>\n",
              "      <td>False</td>\n",
              "      <td>False</td>\n",
              "      <td>False</td>\n",
              "      <td>False</td>\n",
              "      <td>...</td>\n",
              "      <td>False</td>\n",
              "      <td>False</td>\n",
              "      <td>False</td>\n",
              "      <td>False</td>\n",
              "      <td>False</td>\n",
              "      <td>False</td>\n",
              "      <td>False</td>\n",
              "      <td>False</td>\n",
              "      <td>False</td>\n",
              "      <td>False</td>\n",
              "    </tr>\n",
              "    <tr>\n",
              "      <th>3</th>\n",
              "      <td>False</td>\n",
              "      <td>False</td>\n",
              "      <td>False</td>\n",
              "      <td>False</td>\n",
              "      <td>True</td>\n",
              "      <td>False</td>\n",
              "      <td>False</td>\n",
              "      <td>False</td>\n",
              "      <td>False</td>\n",
              "      <td>False</td>\n",
              "      <td>...</td>\n",
              "      <td>True</td>\n",
              "      <td>False</td>\n",
              "      <td>False</td>\n",
              "      <td>False</td>\n",
              "      <td>False</td>\n",
              "      <td>False</td>\n",
              "      <td>False</td>\n",
              "      <td>False</td>\n",
              "      <td>False</td>\n",
              "      <td>False</td>\n",
              "    </tr>\n",
              "    <tr>\n",
              "      <th>4</th>\n",
              "      <td>False</td>\n",
              "      <td>False</td>\n",
              "      <td>False</td>\n",
              "      <td>False</td>\n",
              "      <td>False</td>\n",
              "      <td>False</td>\n",
              "      <td>False</td>\n",
              "      <td>False</td>\n",
              "      <td>False</td>\n",
              "      <td>False</td>\n",
              "      <td>...</td>\n",
              "      <td>False</td>\n",
              "      <td>False</td>\n",
              "      <td>False</td>\n",
              "      <td>False</td>\n",
              "      <td>False</td>\n",
              "      <td>False</td>\n",
              "      <td>True</td>\n",
              "      <td>False</td>\n",
              "      <td>False</td>\n",
              "      <td>False</td>\n",
              "    </tr>\n",
              "  </tbody>\n",
              "</table>\n",
              "<p>5 rows × 120 columns</p>\n",
              "</div>\n",
              "      <button class=\"colab-df-convert\" onclick=\"convertToInteractive('df-57aa1c07-1764-4d85-8d70-cd91f51bde6a')\"\n",
              "              title=\"Convert this dataframe to an interactive table.\"\n",
              "              style=\"display:none;\">\n",
              "        \n",
              "  <svg xmlns=\"http://www.w3.org/2000/svg\" height=\"24px\"viewBox=\"0 0 24 24\"\n",
              "       width=\"24px\">\n",
              "    <path d=\"M0 0h24v24H0V0z\" fill=\"none\"/>\n",
              "    <path d=\"M18.56 5.44l.94 2.06.94-2.06 2.06-.94-2.06-.94-.94-2.06-.94 2.06-2.06.94zm-11 1L8.5 8.5l.94-2.06 2.06-.94-2.06-.94L8.5 2.5l-.94 2.06-2.06.94zm10 10l.94 2.06.94-2.06 2.06-.94-2.06-.94-.94-2.06-.94 2.06-2.06.94z\"/><path d=\"M17.41 7.96l-1.37-1.37c-.4-.4-.92-.59-1.43-.59-.52 0-1.04.2-1.43.59L10.3 9.45l-7.72 7.72c-.78.78-.78 2.05 0 2.83L4 21.41c.39.39.9.59 1.41.59.51 0 1.02-.2 1.41-.59l7.78-7.78 2.81-2.81c.8-.78.8-2.07 0-2.86zM5.41 20L4 18.59l7.72-7.72 1.47 1.35L5.41 20z\"/>\n",
              "  </svg>\n",
              "      </button>\n",
              "      \n",
              "  <style>\n",
              "    .colab-df-container {\n",
              "      display:flex;\n",
              "      flex-wrap:wrap;\n",
              "      gap: 12px;\n",
              "    }\n",
              "\n",
              "    .colab-df-convert {\n",
              "      background-color: #E8F0FE;\n",
              "      border: none;\n",
              "      border-radius: 50%;\n",
              "      cursor: pointer;\n",
              "      display: none;\n",
              "      fill: #1967D2;\n",
              "      height: 32px;\n",
              "      padding: 0 0 0 0;\n",
              "      width: 32px;\n",
              "    }\n",
              "\n",
              "    .colab-df-convert:hover {\n",
              "      background-color: #E2EBFA;\n",
              "      box-shadow: 0px 1px 2px rgba(60, 64, 67, 0.3), 0px 1px 3px 1px rgba(60, 64, 67, 0.15);\n",
              "      fill: #174EA6;\n",
              "    }\n",
              "\n",
              "    [theme=dark] .colab-df-convert {\n",
              "      background-color: #3B4455;\n",
              "      fill: #D2E3FC;\n",
              "    }\n",
              "\n",
              "    [theme=dark] .colab-df-convert:hover {\n",
              "      background-color: #434B5C;\n",
              "      box-shadow: 0px 1px 3px 1px rgba(0, 0, 0, 0.15);\n",
              "      filter: drop-shadow(0px 1px 2px rgba(0, 0, 0, 0.3));\n",
              "      fill: #FFFFFF;\n",
              "    }\n",
              "  </style>\n",
              "\n",
              "      <script>\n",
              "        const buttonEl =\n",
              "          document.querySelector('#df-57aa1c07-1764-4d85-8d70-cd91f51bde6a button.colab-df-convert');\n",
              "        buttonEl.style.display =\n",
              "          google.colab.kernel.accessAllowed ? 'block' : 'none';\n",
              "\n",
              "        async function convertToInteractive(key) {\n",
              "          const element = document.querySelector('#df-57aa1c07-1764-4d85-8d70-cd91f51bde6a');\n",
              "          const dataTable =\n",
              "            await google.colab.kernel.invokeFunction('convertToInteractive',\n",
              "                                                     [key], {});\n",
              "          if (!dataTable) return;\n",
              "\n",
              "          const docLinkHtml = 'Like what you see? Visit the ' +\n",
              "            '<a target=\"_blank\" href=https://colab.research.google.com/notebooks/data_table.ipynb>data table notebook</a>'\n",
              "            + ' to learn more about interactive tables.';\n",
              "          element.innerHTML = '';\n",
              "          dataTable['output_type'] = 'display_data';\n",
              "          await google.colab.output.renderOutput(dataTable, element);\n",
              "          const docLink = document.createElement('div');\n",
              "          docLink.innerHTML = docLinkHtml;\n",
              "          element.appendChild(docLink);\n",
              "        }\n",
              "      </script>\n",
              "    </div>\n",
              "  </div>\n",
              "  "
            ]
          },
          "metadata": {},
          "execution_count": 51
        }
      ]
    },
    {
      "cell_type": "code",
      "source": [
        "# FP growth algorithm\n",
        "model_result = fpgrowth(df_train, min_support=0.0005, use_colnames=True)\n",
        "print(model_result)"
      ],
      "metadata": {
        "id": "cq39J3ji0QNe",
        "colab": {
          "base_uri": "https://localhost:8080/"
        },
        "outputId": "bd945f69-83c6-4a93-ef27-4f8400c1f650"
      },
      "execution_count": 52,
      "outputs": [
        {
          "output_type": "stream",
          "name": "stdout",
          "text": [
            "        support                                          itemsets\n",
            "0      0.238368                                   (mineral water)\n",
            "1      0.132116                                       (green tea)\n",
            "2      0.076523                                  (low fat yogurt)\n",
            "3      0.071457                                          (shrimp)\n",
            "4      0.065858                                       (olive oil)\n",
            "...         ...                                               ...\n",
            "21125  0.000533                 (chocolate, ground beef, oatmeal)\n",
            "21126  0.000533  (chocolate, ground beef, mineral water, oatmeal)\n",
            "21127  0.000533                   (spaghetti, green tea, oatmeal)\n",
            "21128  0.000533               (spaghetti, mineral water, oatmeal)\n",
            "21129  0.000533                                (spaghetti, cream)\n",
            "\n",
            "[21130 rows x 2 columns]\n"
          ]
        }
      ]
    },
    {
      "cell_type": "markdown",
      "source": [
        ""
      ],
      "metadata": {
        "id": "KA3XgLLwznoH"
      }
    },
    {
      "cell_type": "code",
      "source": [
        "# Associations\n",
        "# ! do not use lift if we use Kulcynski distance !\n",
        "assoc_rules = association_rules(model_result, metric=\"confidence\", min_threshold=0.0001)\n",
        "print(len(assoc_rules))"
      ],
      "metadata": {
        "colab": {
          "base_uri": "https://localhost:8080/"
        },
        "id": "SDlyxcS9_Vnk",
        "outputId": "ca4d266c-d277-41a8-f620-29a80369eeb4"
      },
      "execution_count": 53,
      "outputs": [
        {
          "output_type": "stream",
          "name": "stdout",
          "text": [
            "198860\n"
          ]
        }
      ]
    },
    {
      "cell_type": "code",
      "source": [
        "# Display of the output results\n",
        "\n",
        "assoc_rules_final = assoc_rules.copy(deep=True)\n",
        "\n",
        "# STEP 0 : filter only 1:1 cases (antecedents : consequents)\n",
        "assoc_rules_final = assoc_rules_final[assoc_rules['antecedents'].str.len() < 2]\n",
        "assoc_rules_final = assoc_rules_final[assoc_rules['consequents'].str.len() < 2]\n",
        "print(len(assoc_rules_final))\n",
        "print(assoc_rules_final.info())\n",
        "assoc_rules_final.head()"
      ],
      "metadata": {
        "colab": {
          "base_uri": "https://localhost:8080/",
          "height": 596
        },
        "id": "cJaFa33V_vCP",
        "outputId": "75fdf3ee-9eff-43a3-e851-e6c744db89f2"
      },
      "execution_count": 59,
      "outputs": [
        {
          "output_type": "stream",
          "name": "stdout",
          "text": [
            "6498\n",
            "<class 'pandas.core.frame.DataFrame'>\n",
            "Int64Index: 6498 entries, 0 to 198859\n",
            "Data columns (total 9 columns):\n",
            " #   Column              Non-Null Count  Dtype  \n",
            "---  ------              --------------  -----  \n",
            " 0   antecedents         6498 non-null   object \n",
            " 1   consequents         6498 non-null   object \n",
            " 2   antecedent support  6498 non-null   float64\n",
            " 3   consequent support  6498 non-null   float64\n",
            " 4   support             6498 non-null   float64\n",
            " 5   confidence          6498 non-null   float64\n",
            " 6   lift                6498 non-null   float64\n",
            " 7   leverage            6498 non-null   float64\n",
            " 8   conviction          6498 non-null   float64\n",
            "dtypes: float64(7), object(2)\n",
            "memory usage: 507.7+ KB\n",
            "None\n"
          ]
        },
        {
          "output_type": "stream",
          "name": "stderr",
          "text": [
            "/usr/local/lib/python3.7/dist-packages/ipykernel_launcher.py:7: UserWarning: Boolean Series key will be reindexed to match DataFrame index.\n",
            "  import sys\n"
          ]
        },
        {
          "output_type": "execute_result",
          "data": {
            "text/plain": [
              "       antecedents      consequents  antecedent support  consequent support  \\\n",
              "0      (green tea)  (mineral water)            0.132116            0.238368   \n",
              "1  (mineral water)      (green tea)            0.238368            0.132116   \n",
              "2      (spaghetti)      (green tea)            0.174110            0.132116   \n",
              "3      (green tea)      (spaghetti)            0.132116            0.174110   \n",
              "4   (french fries)      (green tea)            0.170911            0.132116   \n",
              "\n",
              "    support  confidence      lift  leverage  conviction  \n",
              "0  0.031063    0.235116  0.986357 -0.000430    0.995748  \n",
              "1  0.031063    0.130313  0.986357 -0.000430    0.997927  \n",
              "2  0.026530    0.152374  1.153335  0.003527    1.023900  \n",
              "3  0.026530    0.200807  1.153335  0.003527    1.033405  \n",
              "4  0.028530    0.166927  1.263488  0.005950    1.041786  "
            ],
            "text/html": [
              "\n",
              "  <div id=\"df-f3c768bb-1079-4e5a-88a1-50934976d121\">\n",
              "    <div class=\"colab-df-container\">\n",
              "      <div>\n",
              "<style scoped>\n",
              "    .dataframe tbody tr th:only-of-type {\n",
              "        vertical-align: middle;\n",
              "    }\n",
              "\n",
              "    .dataframe tbody tr th {\n",
              "        vertical-align: top;\n",
              "    }\n",
              "\n",
              "    .dataframe thead th {\n",
              "        text-align: right;\n",
              "    }\n",
              "</style>\n",
              "<table border=\"1\" class=\"dataframe\">\n",
              "  <thead>\n",
              "    <tr style=\"text-align: right;\">\n",
              "      <th></th>\n",
              "      <th>antecedents</th>\n",
              "      <th>consequents</th>\n",
              "      <th>antecedent support</th>\n",
              "      <th>consequent support</th>\n",
              "      <th>support</th>\n",
              "      <th>confidence</th>\n",
              "      <th>lift</th>\n",
              "      <th>leverage</th>\n",
              "      <th>conviction</th>\n",
              "    </tr>\n",
              "  </thead>\n",
              "  <tbody>\n",
              "    <tr>\n",
              "      <th>0</th>\n",
              "      <td>(green tea)</td>\n",
              "      <td>(mineral water)</td>\n",
              "      <td>0.132116</td>\n",
              "      <td>0.238368</td>\n",
              "      <td>0.031063</td>\n",
              "      <td>0.235116</td>\n",
              "      <td>0.986357</td>\n",
              "      <td>-0.000430</td>\n",
              "      <td>0.995748</td>\n",
              "    </tr>\n",
              "    <tr>\n",
              "      <th>1</th>\n",
              "      <td>(mineral water)</td>\n",
              "      <td>(green tea)</td>\n",
              "      <td>0.238368</td>\n",
              "      <td>0.132116</td>\n",
              "      <td>0.031063</td>\n",
              "      <td>0.130313</td>\n",
              "      <td>0.986357</td>\n",
              "      <td>-0.000430</td>\n",
              "      <td>0.997927</td>\n",
              "    </tr>\n",
              "    <tr>\n",
              "      <th>2</th>\n",
              "      <td>(spaghetti)</td>\n",
              "      <td>(green tea)</td>\n",
              "      <td>0.174110</td>\n",
              "      <td>0.132116</td>\n",
              "      <td>0.026530</td>\n",
              "      <td>0.152374</td>\n",
              "      <td>1.153335</td>\n",
              "      <td>0.003527</td>\n",
              "      <td>1.023900</td>\n",
              "    </tr>\n",
              "    <tr>\n",
              "      <th>3</th>\n",
              "      <td>(green tea)</td>\n",
              "      <td>(spaghetti)</td>\n",
              "      <td>0.132116</td>\n",
              "      <td>0.174110</td>\n",
              "      <td>0.026530</td>\n",
              "      <td>0.200807</td>\n",
              "      <td>1.153335</td>\n",
              "      <td>0.003527</td>\n",
              "      <td>1.033405</td>\n",
              "    </tr>\n",
              "    <tr>\n",
              "      <th>4</th>\n",
              "      <td>(french fries)</td>\n",
              "      <td>(green tea)</td>\n",
              "      <td>0.170911</td>\n",
              "      <td>0.132116</td>\n",
              "      <td>0.028530</td>\n",
              "      <td>0.166927</td>\n",
              "      <td>1.263488</td>\n",
              "      <td>0.005950</td>\n",
              "      <td>1.041786</td>\n",
              "    </tr>\n",
              "  </tbody>\n",
              "</table>\n",
              "</div>\n",
              "      <button class=\"colab-df-convert\" onclick=\"convertToInteractive('df-f3c768bb-1079-4e5a-88a1-50934976d121')\"\n",
              "              title=\"Convert this dataframe to an interactive table.\"\n",
              "              style=\"display:none;\">\n",
              "        \n",
              "  <svg xmlns=\"http://www.w3.org/2000/svg\" height=\"24px\"viewBox=\"0 0 24 24\"\n",
              "       width=\"24px\">\n",
              "    <path d=\"M0 0h24v24H0V0z\" fill=\"none\"/>\n",
              "    <path d=\"M18.56 5.44l.94 2.06.94-2.06 2.06-.94-2.06-.94-.94-2.06-.94 2.06-2.06.94zm-11 1L8.5 8.5l.94-2.06 2.06-.94-2.06-.94L8.5 2.5l-.94 2.06-2.06.94zm10 10l.94 2.06.94-2.06 2.06-.94-2.06-.94-.94-2.06-.94 2.06-2.06.94z\"/><path d=\"M17.41 7.96l-1.37-1.37c-.4-.4-.92-.59-1.43-.59-.52 0-1.04.2-1.43.59L10.3 9.45l-7.72 7.72c-.78.78-.78 2.05 0 2.83L4 21.41c.39.39.9.59 1.41.59.51 0 1.02-.2 1.41-.59l7.78-7.78 2.81-2.81c.8-.78.8-2.07 0-2.86zM5.41 20L4 18.59l7.72-7.72 1.47 1.35L5.41 20z\"/>\n",
              "  </svg>\n",
              "      </button>\n",
              "      \n",
              "  <style>\n",
              "    .colab-df-container {\n",
              "      display:flex;\n",
              "      flex-wrap:wrap;\n",
              "      gap: 12px;\n",
              "    }\n",
              "\n",
              "    .colab-df-convert {\n",
              "      background-color: #E8F0FE;\n",
              "      border: none;\n",
              "      border-radius: 50%;\n",
              "      cursor: pointer;\n",
              "      display: none;\n",
              "      fill: #1967D2;\n",
              "      height: 32px;\n",
              "      padding: 0 0 0 0;\n",
              "      width: 32px;\n",
              "    }\n",
              "\n",
              "    .colab-df-convert:hover {\n",
              "      background-color: #E2EBFA;\n",
              "      box-shadow: 0px 1px 2px rgba(60, 64, 67, 0.3), 0px 1px 3px 1px rgba(60, 64, 67, 0.15);\n",
              "      fill: #174EA6;\n",
              "    }\n",
              "\n",
              "    [theme=dark] .colab-df-convert {\n",
              "      background-color: #3B4455;\n",
              "      fill: #D2E3FC;\n",
              "    }\n",
              "\n",
              "    [theme=dark] .colab-df-convert:hover {\n",
              "      background-color: #434B5C;\n",
              "      box-shadow: 0px 1px 3px 1px rgba(0, 0, 0, 0.15);\n",
              "      filter: drop-shadow(0px 1px 2px rgba(0, 0, 0, 0.3));\n",
              "      fill: #FFFFFF;\n",
              "    }\n",
              "  </style>\n",
              "\n",
              "      <script>\n",
              "        const buttonEl =\n",
              "          document.querySelector('#df-f3c768bb-1079-4e5a-88a1-50934976d121 button.colab-df-convert');\n",
              "        buttonEl.style.display =\n",
              "          google.colab.kernel.accessAllowed ? 'block' : 'none';\n",
              "\n",
              "        async function convertToInteractive(key) {\n",
              "          const element = document.querySelector('#df-f3c768bb-1079-4e5a-88a1-50934976d121');\n",
              "          const dataTable =\n",
              "            await google.colab.kernel.invokeFunction('convertToInteractive',\n",
              "                                                     [key], {});\n",
              "          if (!dataTable) return;\n",
              "\n",
              "          const docLinkHtml = 'Like what you see? Visit the ' +\n",
              "            '<a target=\"_blank\" href=https://colab.research.google.com/notebooks/data_table.ipynb>data table notebook</a>'\n",
              "            + ' to learn more about interactive tables.';\n",
              "          element.innerHTML = '';\n",
              "          dataTable['output_type'] = 'display_data';\n",
              "          await google.colab.output.renderOutput(dataTable, element);\n",
              "          const docLink = document.createElement('div');\n",
              "          docLink.innerHTML = docLinkHtml;\n",
              "          element.appendChild(docLink);\n",
              "        }\n",
              "      </script>\n",
              "    </div>\n",
              "  </div>\n",
              "  "
            ]
          },
          "metadata": {},
          "execution_count": 59
        }
      ]
    },
    {
      "cell_type": "code",
      "source": [
        "# STEP 1 : Convert the frozensets to string\n",
        "change_cols = ['antecedents', 'consequents']\n",
        "\n",
        "# 1) frozenset to set; 2) set to string\n",
        "for col in change_cols:\n",
        "    assoc_rules_final[col] = assoc_rules_final[col].apply(set)\n",
        "    assoc_rules_final[col] = assoc_rules_final[col].apply(lambda x: ','.join(map(str, x)))\n",
        "\n",
        "print(assoc_rules_final.info())"
      ],
      "metadata": {
        "colab": {
          "base_uri": "https://localhost:8080/"
        },
        "id": "aklPC2qeBRcd",
        "outputId": "64588aab-f143-4b33-b3df-f6c418fcded8"
      },
      "execution_count": 60,
      "outputs": [
        {
          "output_type": "stream",
          "name": "stdout",
          "text": [
            "<class 'pandas.core.frame.DataFrame'>\n",
            "Int64Index: 6498 entries, 0 to 198859\n",
            "Data columns (total 9 columns):\n",
            " #   Column              Non-Null Count  Dtype  \n",
            "---  ------              --------------  -----  \n",
            " 0   antecedents         6498 non-null   object \n",
            " 1   consequents         6498 non-null   object \n",
            " 2   antecedent support  6498 non-null   float64\n",
            " 3   consequent support  6498 non-null   float64\n",
            " 4   support             6498 non-null   float64\n",
            " 5   confidence          6498 non-null   float64\n",
            " 6   lift                6498 non-null   float64\n",
            " 7   leverage            6498 non-null   float64\n",
            " 8   conviction          6498 non-null   float64\n",
            "dtypes: float64(7), object(2)\n",
            "memory usage: 507.7+ KB\n",
            "None\n"
          ]
        }
      ]
    },
    {
      "cell_type": "code",
      "source": [
        "# STEP 2 : Calculate 'Kulczynski'\n",
        "assoc_rules_final['kulczynski'] = 0.5 * ((assoc_rules_final['support'] / assoc_rules_final['antecedent support']) +\n",
        "                                          (assoc_rules_final['support'] / assoc_rules_final['consequent support'])\n",
        "                                          )"
      ],
      "metadata": {
        "id": "9YLONTDxBeKK"
      },
      "execution_count": 61,
      "outputs": []
    },
    {
      "cell_type": "code",
      "source": [
        "# STEP 3 : Calculate IR\n",
        "assoc_rules_final['IR'] = np.abs(assoc_rules_final['antecedent support'] -\n",
        "                                  assoc_rules_final['consequent support']\n",
        "                                  ) / (assoc_rules_final['antecedent support'] +\n",
        "                                      assoc_rules_final['consequent support'] -\n",
        "                                      assoc_rules_final['support']\n",
        "                                      )"
      ],
      "metadata": {
        "id": "3geba7tCBpTi"
      },
      "execution_count": 62,
      "outputs": []
    },
    {
      "cell_type": "code",
      "source": [
        "# STEP 4 : Transaction number\n",
        "assoc_rules_final['total_transactions'] = len(df_train)\n",
        "assoc_rules_final['antecedent_trans_count'] = assoc_rules_final['antecedent support'] * \\\n",
        "                                              assoc_rules_final['total_transactions']\n",
        "assoc_rules_final['consequent_trans_count'] = assoc_rules_final['consequent support'] * \\\n",
        "                                              assoc_rules_final['total_transactions']\n",
        "assoc_rules_final['both_AC_count'] = assoc_rules_final['support'] * \\\n",
        "                                      assoc_rules_final['total_transactions']"
      ],
      "metadata": {
        "id": "Kw8EgRgbBuXh"
      },
      "execution_count": 63,
      "outputs": []
    },
    {
      "cell_type": "code",
      "source": [
        "# STEP 5 : cosine / harmonized lift\n",
        "# The cosine measure can be viewed as a harmonized lift measure: The two formulae are similar except that for cosine,\n",
        "# the square root is taken on the product of the probabilities of A and B. This is an important difference,\n",
        "# however, because by taking the square root,the cosine value is only influenced by the supports of A,B, and A∪B,\n",
        "# and not by the total number of transactions\n",
        "\n",
        "assoc_rules_final['cosine'] = ((assoc_rules_final['support'] / assoc_rules_final['antecedent support']) *\n",
        "                                (assoc_rules_final['support'] / assoc_rules_final['consequent support'])\n",
        "                                ) ** 0.5\n",
        "print(assoc_rules_final.head(5).to_markdown())"
      ],
      "metadata": {
        "colab": {
          "base_uri": "https://localhost:8080/"
        },
        "id": "8pCR1ocVB0KH",
        "outputId": "a862d918-750d-4dba-c440-f9fa29b486e7"
      },
      "execution_count": 64,
      "outputs": [
        {
          "output_type": "stream",
          "name": "stdout",
          "text": [
            "|    | antecedents   | consequents   |   antecedent support |   consequent support |   support |   confidence |     lift |     leverage |   conviction |   kulczynski |       IR |   total_transactions |   antecedent_trans_count |   consequent_trans_count |   both_AC_count |   cosine |\n",
            "|---:|:--------------|:--------------|---------------------:|---------------------:|----------:|-------------:|---------:|-------------:|-------------:|-------------:|---------:|---------------------:|-------------------------:|-------------------------:|----------------:|---------:|\n",
            "|  0 | green tea     | mineral water |             0.132116 |             0.238368 | 0.0310625 |     0.235116 | 0.986357 | -0.000429663 |     0.995748 |     0.182715 | 0.31304  |                 7501 |                      991 |                     1788 |             233 | 0.175039 |\n",
            "|  1 | mineral water | green tea     |             0.238368 |             0.132116 | 0.0310625 |     0.130313 | 0.986357 | -0.000429663 |     0.997927 |     0.182715 | 0.31304  |                 7501 |                     1788 |                      991 |             233 | 0.175039 |\n",
            "|  2 | spaghetti     | green tea     |             0.17411  |             0.132116 | 0.0265298 |     0.152374 | 1.15333  |  0.00352711  |     1.0239   |     0.17659  | 0.150143 |                 7501 |                     1306 |                      991 |             199 | 0.174922 |\n",
            "|  3 | green tea     | spaghetti     |             0.132116 |             0.17411  | 0.0265298 |     0.200807 | 1.15333  |  0.00352711  |     1.03341  |     0.17659  | 0.150143 |                 7501 |                      991 |                     1306 |             199 | 0.174922 |\n",
            "|  4 | french fries  | green tea     |             0.170911 |             0.132116 | 0.0285295 |     0.166927 | 1.26349  |  0.00594956  |     1.04179  |     0.191435 | 0.141331 |                 7501 |                     1282 |                      991 |             214 | 0.18986  |\n"
          ]
        }
      ]
    },
    {
      "cell_type": "code",
      "source": [
        "# STEP 3 : Example query specific product\n",
        "assoc_rules_query = assoc_rules_final.copy(deep=True)\n",
        "\n",
        "# 0) Result\n",
        "assoc_rules_query = assoc_rules_query.sort_values(by='cosine', ascending=False)\n",
        "print(\"Top 5 associations sorted by cosine distance :\\n\")\n",
        "print(assoc_rules_query.head(5).to_markdown())\n",
        "\n",
        "print(\"\\n\\n\")\n",
        "print(\"Top 5 associations sorted by kulczynski distance :\\n\")\n",
        "assoc_rules_query = assoc_rules_query.sort_values(by='kulczynski', ascending=False)\n",
        "print(assoc_rules_query.head(5).to_markdown())\n",
        "\n",
        "print(\"\\n\\n\")\n",
        "print(\"Top 5 associations sorted by both_AC_count :\\n\")\n",
        "assoc_rules_query = assoc_rules_query.sort_values(by='both_AC_count', ascending=False)\n",
        "print(assoc_rules_query.head(5).to_markdown())"
      ],
      "metadata": {
        "colab": {
          "base_uri": "https://localhost:8080/"
        },
        "id": "QzmDarvtCL4a",
        "outputId": "bcd91361-3122-4da8-800c-0cca83331e6d"
      },
      "execution_count": 77,
      "outputs": [
        {
          "output_type": "stream",
          "name": "stdout",
          "text": [
            "Top 5 associations sorted by cosine distance :\n",
            "\n",
            "|        | antecedents   | consequents   |   antecedent support |   consequent support |   support |   confidence |    lift |   leverage |   conviction |   kulczynski |       IR |   total_transactions |   antecedent_trans_count |   consequent_trans_count |   both_AC_count |   cosine |\n",
            "|-------:|:--------------|:--------------|---------------------:|---------------------:|----------:|-------------:|--------:|-----------:|-------------:|-------------:|---------:|---------------------:|-------------------------:|-------------------------:|----------------:|---------:|\n",
            "| 150963 | spaghetti     | ground beef   |            0.17411   |            0.0982536 | 0.0391948 |     0.225115 | 2.29116 |  0.0220878 |      1.16372 |     0.312015 | 0.325329 |                 7501 |                     1306 |                      737 |             294 | 0.299669 |\n",
            "| 150962 | ground beef   | spaghetti     |            0.0982536 |            0.17411   | 0.0391948 |     0.398915 | 2.29116 |  0.0220878 |      1.374   |     0.312015 | 0.325329 |                 7501 |                      737 |                     1306 |             294 | 0.299669 |\n",
            "|  87699 | mineral water | spaghetti     |            0.238368  |            0.17411   | 0.0597254 |     0.250559 | 1.43909 |  0.0182231 |      1.10201 |     0.296796 | 0.182162 |                 7501 |                     1788 |                     1306 |             448 | 0.293172 |\n",
            "|  87698 | spaghetti     | mineral water |            0.17411   |            0.238368  | 0.0597254 |     0.343032 | 1.43909 |  0.0182231 |      1.15931 |     0.296796 | 0.182162 |                 7501 |                     1306 |                     1788 |             448 | 0.293172 |\n",
            "|  64346 | milk          | mineral water |            0.129583  |            0.238368  | 0.0479936 |     0.37037  | 1.55377 |  0.0171052 |      1.20965 |     0.285856 | 0.34     |                 7501 |                      972 |                     1788 |             360 | 0.273077 |\n",
            "\n",
            "\n",
            "\n",
            "Top 5 associations sorted by kulczynski distance :\n",
            "\n",
            "|        | antecedents   | consequents   |   antecedent support |   consequent support |   support |   confidence |    lift |   leverage |   conviction |   kulczynski |       IR |   total_transactions |   antecedent_trans_count |   consequent_trans_count |   both_AC_count |   cosine |\n",
            "|-------:|:--------------|:--------------|---------------------:|---------------------:|----------:|-------------:|--------:|-----------:|-------------:|-------------:|---------:|---------------------:|-------------------------:|-------------------------:|----------------:|---------:|\n",
            "| 150963 | spaghetti     | ground beef   |            0.17411   |            0.0982536 | 0.0391948 |     0.225115 | 2.29116 |  0.0220878 |      1.16372 |     0.312015 | 0.325329 |                 7501 |                     1306 |                      737 |             294 | 0.299669 |\n",
            "| 150962 | ground beef   | spaghetti     |            0.0982536 |            0.17411   | 0.0391948 |     0.398915 | 2.29116 |  0.0220878 |      1.374   |     0.312015 | 0.325329 |                 7501 |                      737 |                     1306 |             294 | 0.299669 |\n",
            "|  87699 | mineral water | spaghetti     |            0.238368  |            0.17411   | 0.0597254 |     0.250559 | 1.43909 |  0.0182231 |      1.10201 |     0.296796 | 0.182162 |                 7501 |                     1788 |                     1306 |             448 | 0.293172 |\n",
            "|  87698 | spaghetti     | mineral water |            0.17411   |            0.238368  | 0.0597254 |     0.343032 | 1.43909 |  0.0182231 |      1.15931 |     0.296796 | 0.182162 |                 7501 |                     1306 |                     1788 |             448 | 0.293172 |\n",
            "| 150960 | ground beef   | mineral water |            0.0982536 |            0.238368  | 0.0409279 |     0.416554 | 1.74752 |  0.0175073 |      1.3054  |     0.294127 | 0.47385  |                 7501 |                      737 |                     1788 |             307 | 0.267437 |\n",
            "\n",
            "\n",
            "\n",
            "Top 5 associations sorted by both_AC_count :\n",
            "\n",
            "|        | antecedents   | consequents   |   antecedent support |   consequent support |   support |   confidence |    lift |   leverage |   conviction |   kulczynski |       IR |   total_transactions |   antecedent_trans_count |   consequent_trans_count |   both_AC_count |   cosine |\n",
            "|-------:|:--------------|:--------------|---------------------:|---------------------:|----------:|-------------:|--------:|-----------:|-------------:|-------------:|---------:|---------------------:|-------------------------:|-------------------------:|----------------:|---------:|\n",
            "|  87699 | mineral water | spaghetti     |             0.238368 |             0.17411  | 0.0597254 |     0.250559 | 1.43909 | 0.0182231  |      1.10201 |     0.296796 | 0.182162 |                 7501 |                     1788 |                     1306 |             448 | 0.293172 |\n",
            "|  87698 | spaghetti     | mineral water |             0.17411  |             0.238368 | 0.0597254 |     0.343032 | 1.43909 | 0.0182231  |      1.15931 |     0.296796 | 0.182162 |                 7501 |                     1306 |                     1788 |             448 | 0.293172 |\n",
            "| 100182 | chocolate     | mineral water |             0.163845 |             0.238368 | 0.0526596 |     0.3214   | 1.34833 | 0.0136042  |      1.12236 |     0.271158 | 0.213196 |                 7501 |                     1229 |                     1788 |             395 | 0.266463 |\n",
            "| 100183 | mineral water | chocolate     |             0.238368 |             0.163845 | 0.0526596 |     0.220917 | 1.34833 | 0.0136042  |      1.07326 |     0.271158 | 0.213196 |                 7501 |                     1788 |                     1229 |             395 | 0.266463 |\n",
            "|  52177 | mineral water | eggs          |             0.238368 |             0.179709 | 0.0509265 |     0.213647 | 1.18884 | 0.00808954 |      1.04316 |     0.248515 | 0.159768 |                 7501 |                     1788 |                     1348 |             382 | 0.246056 |\n"
          ]
        }
      ]
    }
  ]
}