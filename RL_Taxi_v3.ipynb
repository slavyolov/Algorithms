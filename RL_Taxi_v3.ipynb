{
  "nbformat": 4,
  "nbformat_minor": 0,
  "metadata": {
    "colab": {
      "provenance": [],
      "toc_visible": true,
      "authorship_tag": "ABX9TyORQXbdDmC/WQhImPqdmxGD",
      "include_colab_link": true
    },
    "kernelspec": {
      "name": "python3",
      "display_name": "Python 3"
    },
    "language_info": {
      "name": "python"
    }
  },
  "cells": [
    {
      "cell_type": "markdown",
      "metadata": {
        "id": "view-in-github",
        "colab_type": "text"
      },
      "source": [
        "<a href=\"https://colab.research.google.com/github/slavyolov/Algorithms/blob/main/RL_Taxi_v3.ipynb\" target=\"_parent\"><img src=\"https://colab.research.google.com/assets/colab-badge.svg\" alt=\"Open In Colab\"/></a>"
      ]
    },
    {
      "cell_type": "markdown",
      "source": [
        "# Taxi case background 🚕\n",
        "\n",
        "Please read the page for general information about the environment : https://www.gymlibrary.dev/environments/toy_text/taxi/\n",
        "\n",
        "\n",
        "**Actions and observations**\n",
        "*   **Action Space** : Discrete(6)\n",
        "*   **Observation Space** :Discrete(500)\n",
        "\n",
        "\n",
        "**Rewards**\n",
        "* -1 per step unless other reward is triggered.\n",
        "*   +20 delivering passenger.\n",
        "*   -10 executing “pickup” and “drop-off” actions illegally.\n",
        "\n",
        "\n",
        "\n",
        "\n",
        "\n"
      ],
      "metadata": {
        "id": "bo5_rNtV_Qhf"
      }
    },
    {
      "cell_type": "markdown",
      "source": [
        "# Setup the environment"
      ],
      "metadata": {
        "id": "OpS4vg6tCHDe"
      }
    },
    {
      "cell_type": "code",
      "source": [
        "!pip install cmake 'gym[atari]' scipy"
      ],
      "metadata": {
        "colab": {
          "base_uri": "https://localhost:8080/"
        },
        "id": "MVh5TIe1BMRQ",
        "outputId": "37ab43e4-a90c-4b6a-b9ea-feee468272c2"
      },
      "execution_count": 1,
      "outputs": [
        {
          "output_type": "stream",
          "name": "stdout",
          "text": [
            "Requirement already satisfied: cmake in /usr/local/lib/python3.10/dist-packages (3.25.2)\n",
            "Requirement already satisfied: gym[atari] in /usr/local/lib/python3.10/dist-packages (0.25.2)\n",
            "Requirement already satisfied: scipy in /usr/local/lib/python3.10/dist-packages (1.10.1)\n",
            "Requirement already satisfied: numpy>=1.18.0 in /usr/local/lib/python3.10/dist-packages (from gym[atari]) (1.22.4)\n",
            "Requirement already satisfied: cloudpickle>=1.2.0 in /usr/local/lib/python3.10/dist-packages (from gym[atari]) (2.2.1)\n",
            "Requirement already satisfied: gym-notices>=0.0.4 in /usr/local/lib/python3.10/dist-packages (from gym[atari]) (0.0.8)\n",
            "Collecting ale-py~=0.7.5 (from gym[atari])\n",
            "  Downloading ale_py-0.7.5-cp310-cp310-manylinux_2_17_x86_64.manylinux2014_x86_64.whl (1.6 MB)\n",
            "\u001b[2K     \u001b[90m━━━━━━━━━━━━━━━━━━━━━━━━━━━━━━━━━━━━━━━━\u001b[0m \u001b[32m1.6/1.6 MB\u001b[0m \u001b[31m18.1 MB/s\u001b[0m eta \u001b[36m0:00:00\u001b[0m\n",
            "\u001b[?25hRequirement already satisfied: importlib-resources in /usr/local/lib/python3.10/dist-packages (from ale-py~=0.7.5->gym[atari]) (5.12.0)\n",
            "Installing collected packages: ale-py\n",
            "Successfully installed ale-py-0.7.5\n"
          ]
        }
      ]
    },
    {
      "cell_type": "code",
      "source": [
        "import gym\n",
        "import numpy as np\n",
        "from datetime import datetime\n",
        "import time\n",
        "import matplotlib\n",
        "import matplotlib.pyplot as plt\n",
        "import numpy as np\n",
        "import datetime\n",
        "import argparse\n",
        "import random\n",
        "import time\n",
        "import gym\n",
        "import sys\n",
        "\n",
        "is_notebook = 'inline' in matplotlib.get_backend()\n",
        "\n",
        "if is_notebook:\n",
        "    from IPython import display\n",
        "\n",
        "env = gym.make(\"Taxi-v3\").env\n",
        "env.reset()\n",
        "\n",
        "print(\"Display the environment at a random state : \")\n",
        "print(env.render(mode='ansi'))"
      ],
      "metadata": {
        "colab": {
          "base_uri": "https://localhost:8080/"
        },
        "id": "DFUqyYSwBXbd",
        "outputId": "4df7ec5a-9f33-4637-bf32-8ef97973fea4"
      },
      "execution_count": 48,
      "outputs": [
        {
          "output_type": "stream",
          "name": "stdout",
          "text": [
            "Display the environment at a random state : \n",
            "+---------+\n",
            "|R: | : :\u001b[34;1mG\u001b[0m|\n",
            "| : | : : |\n",
            "| : : : : |\n",
            "| | : | : |\n",
            "|\u001b[35mY\u001b[0m| : |B:\u001b[43m \u001b[0m|\n",
            "+---------+\n",
            "\n",
            "\n"
          ]
        }
      ]
    },
    {
      "cell_type": "code",
      "source": [
        "demo_env_state = env.s"
      ],
      "metadata": {
        "id": "NVStXSTyF-sU"
      },
      "execution_count": 49,
      "outputs": []
    },
    {
      "cell_type": "code",
      "source": [
        "print(100 * \"=\")\n",
        "print('''\n",
        "There are 6 discrete deterministic actions:\n",
        "\n",
        "0: move south\n",
        "1: move north\n",
        "2: move east\n",
        "3: move west\n",
        "4: pickup passenger\n",
        "5: drop off passenger\n",
        "''')\n",
        "\n",
        "print(100 * \"=\")\n",
        "print(\"Structure of the dictionary : {action: [(probability, nextstate, reward, done)]}\")\n",
        "env.P[demo_env_state]"
      ],
      "metadata": {
        "colab": {
          "base_uri": "https://localhost:8080/"
        },
        "id": "vCmFMsMPEpVR",
        "outputId": "dcd9ec51-b36d-4605-a4b9-ced9d350e7cf"
      },
      "execution_count": 50,
      "outputs": [
        {
          "output_type": "stream",
          "name": "stdout",
          "text": [
            "====================================================================================================\n",
            "\n",
            "There are 6 discrete deterministic actions:\n",
            "\n",
            "0: move south\n",
            "1: move north\n",
            "2: move east\n",
            "3: move west\n",
            "4: pickup passenger\n",
            "5: drop off passenger\n",
            "\n",
            "====================================================================================================\n",
            "Structure of the dictionary : {action: [(probability, nextstate, reward, done)]}\n"
          ]
        },
        {
          "output_type": "execute_result",
          "data": {
            "text/plain": [
              "{0: [(1.0, 486, -1, False)],\n",
              " 1: [(1.0, 386, -1, False)],\n",
              " 2: [(1.0, 486, -1, False)],\n",
              " 3: [(1.0, 466, -1, False)],\n",
              " 4: [(1.0, 486, -10, False)],\n",
              " 5: [(1.0, 486, -10, False)]}"
            ]
          },
          "metadata": {},
          "execution_count": 50
        }
      ]
    },
    {
      "cell_type": "markdown",
      "source": [
        "# Brute force approach\n",
        "\n",
        "- Note : the environment may complete in few timesteps or in thousands.\n",
        "- Overall there is no learning from previous experience"
      ],
      "metadata": {
        "id": "bUZxnVWADdYH"
      }
    },
    {
      "cell_type": "code",
      "source": [
        "# Set environment to a random state for illustration purposes\n",
        "env.s = demo_env_state\n",
        "\n",
        "epochs = 0\n",
        "penalties, reward = 0, 0\n",
        "\n",
        "frames = [] # for animation\n",
        "\n",
        "done = False\n",
        "\n",
        "while not done:\n",
        "    action = env.action_space.sample()\n",
        "    state, reward, done, info = env.step(action)\n",
        "\n",
        "    if reward == -10:\n",
        "        penalties += 1\n",
        "\n",
        "    # Put each rendered frame into dict for animation\n",
        "    frames.append({\n",
        "        'frame': env.render(mode='ansi'),\n",
        "        'state': state,\n",
        "        'action': action,\n",
        "        'reward': reward\n",
        "        }\n",
        "    )\n",
        "\n",
        "    epochs += 1\n",
        "\n",
        "# Note : the environment may complete in few timesteps or in thousands.\n",
        "# Overall there is no learning from previous experience\n",
        "print(\"Timesteps taken: {}\".format(epochs))\n",
        "print(\"Penalties incurred: {}\".format(penalties))"
      ],
      "metadata": {
        "colab": {
          "base_uri": "https://localhost:8080/"
        },
        "id": "oEJ_GSbVDmiX",
        "outputId": "2218e227-7ff0-455d-8772-006643895dd3"
      },
      "execution_count": 59,
      "outputs": [
        {
          "output_type": "stream",
          "name": "stdout",
          "text": [
            "Timesteps taken: 500\n",
            "Penalties incurred: 148\n"
          ]
        }
      ]
    },
    {
      "cell_type": "code",
      "source": [
        "from IPython.display import clear_output\n",
        "from time import sleep\n",
        "\n",
        "def print_frames(frames):\n",
        "    for i, frame in enumerate(frames):\n",
        "        clear_output(wait=True)\n",
        "        print(frame['frame'])\n",
        "        print(f\"Timestep: {i + 1}\")\n",
        "        print(f\"State: {frame['state']}\")\n",
        "        print(f\"Action: {frame['action']}\")\n",
        "        print(f\"Reward: {frame['reward']}\")\n",
        "        sleep(.1)\n",
        "\n",
        "print_frames(frames)"
      ],
      "metadata": {
        "colab": {
          "base_uri": "https://localhost:8080/"
        },
        "id": "yRJlQxGND8kY",
        "outputId": "d23f684e-6e8e-48d2-ad9c-915dfbf33638"
      },
      "execution_count": 60,
      "outputs": [
        {
          "output_type": "stream",
          "name": "stdout",
          "text": [
            "+---------+\n",
            "|R: | : :G|\n",
            "| : | : : |\n",
            "| : : : : |\n",
            "| | : | : |\n",
            "|\u001b[35m\u001b[34;1m\u001b[43mY\u001b[0m\u001b[0m\u001b[0m| : |B: |\n",
            "+---------+\n",
            "  (Dropoff)\n",
            "\n",
            "Timestep: 500\n",
            "State: 410\n",
            "Action: 5\n",
            "Reward: 20\n"
          ]
        }
      ]
    },
    {
      "cell_type": "markdown",
      "source": [
        "# Reinforcement learning (Q learning)\n",
        "\n",
        "The Q-Learning Process\n",
        "\n",
        "1. Initialize the Q-table by all zeros.\n",
        "2. Start exploring actions: For each state, select any one among all possible actions for the current state (S).\n",
        "3. Travel to the next state (S') as a result of that action (a).\n",
        "4. For all possible actions from the state (S') select the one with the highest Q-value.\n",
        "5. Update Q-table values using the equation.\n",
        "6. Set the next state as the current state.\n",
        "7. If goal state is reached, then end and repeat the process."
      ],
      "metadata": {
        "id": "vDrFOaxIJLVg"
      }
    },
    {
      "cell_type": "code",
      "source": [
        "env.reset() # reset environment to a new, random state\n",
        "print(env.render(mode='ansi'))\n",
        "\n",
        "print(\"Action Space {}\".format(env.action_space))\n",
        "print(\"State Space {}\".format(env.observation_space))"
      ],
      "metadata": {
        "colab": {
          "base_uri": "https://localhost:8080/"
        },
        "id": "LCppItISCI8s",
        "outputId": "5be7bb9a-dd90-40f1-a597-0c1f8f1c8973"
      },
      "execution_count": 43,
      "outputs": [
        {
          "output_type": "stream",
          "name": "stdout",
          "text": [
            "+---------+\n",
            "|R: | : :G|\n",
            "| : | :\u001b[43m \u001b[0m: |\n",
            "| : : : : |\n",
            "| | : | : |\n",
            "|\u001b[34;1mY\u001b[0m| : |\u001b[35mB\u001b[0m: |\n",
            "+---------+\n",
            "\n",
            "\n",
            "Action Space Discrete(6)\n",
            "State Space Discrete(500)\n"
          ]
        }
      ]
    },
    {
      "cell_type": "code",
      "source": [
        "# Define Q table\n",
        "q_table = np.zeros([env.observation_space.n, env.action_space.n])\n",
        "print(q_table)"
      ],
      "metadata": {
        "id": "I-Yuil2TCU2Y",
        "colab": {
          "base_uri": "https://localhost:8080/"
        },
        "outputId": "96793a49-0d33-448c-a921-2761b6bfcda8"
      },
      "execution_count": 45,
      "outputs": [
        {
          "output_type": "stream",
          "name": "stdout",
          "text": [
            "[[0. 0. 0. 0. 0. 0.]\n",
            " [0. 0. 0. 0. 0. 0.]\n",
            " [0. 0. 0. 0. 0. 0.]\n",
            " ...\n",
            " [0. 0. 0. 0. 0. 0.]\n",
            " [0. 0. 0. 0. 0. 0.]\n",
            " [0. 0. 0. 0. 0. 0.]]\n"
          ]
        }
      ]
    },
    {
      "cell_type": "markdown",
      "source": [
        "### Train RL model"
      ],
      "metadata": {
        "id": "xUqND_RnPE-c"
      }
    },
    {
      "cell_type": "code",
      "source": [
        "# Plot functions to vizualise the training process\n",
        "\n",
        "def plot_durations(episode_durations: list,\n",
        "                   reward_in_episode: list,\n",
        "                   epsilon_vec: list,\n",
        "                   max_steps_per_episode: int = 100) -> None:\n",
        "    '''Plot graphs containing Epsilon, Rewards, and Steps per episode over time'''\n",
        "    lines = []\n",
        "    fig = plt.figure(1, figsize=(15, 7))\n",
        "    plt.clf()\n",
        "    ax1 = fig.add_subplot(111)\n",
        "\n",
        "    plt.title(f'Training...')\n",
        "    ax1.set_xlabel('Episode')\n",
        "    ax1.set_ylabel('Duration & Rewards')\n",
        "    ax1.set_ylim(-2 * max_steps_per_episode, max_steps_per_episode + 10)\n",
        "    ax1.plot(episode_durations, color=\"C1\", alpha=0.2)\n",
        "    ax1.plot(reward_in_episode, color=\"C2\", alpha=0.2)\n",
        "    mean_steps = moving_average(episode_durations, periods=5)\n",
        "    mean_reward = moving_average(reward_in_episode, periods=5)\n",
        "    lines.append(ax1.plot(mean_steps, label=\"steps\", color=\"C1\")[0])\n",
        "    lines.append(ax1.plot(mean_reward, label=\"rewards\", color=\"C2\")[0])\n",
        "\n",
        "    ax2 = ax1.twinx()\n",
        "    ax2.set_ylabel('Epsilon')\n",
        "    lines.append(ax2.plot(epsilon_vec, label=\"epsilon\", color=\"C3\")[0])\n",
        "    labs = [l.get_label() for l in lines]\n",
        "    ax1.legend(lines, labs, loc=3)\n",
        "\n",
        "    if is_notebook:\n",
        "        display.clear_output(wait=True)\n",
        "    else:\n",
        "        plt.show()\n",
        "    plt.pause(0.001)\n",
        "\n",
        "    return\n",
        "\n",
        "def moving_average(x: list, periods: int = 5) -> list:\n",
        "    if len(x) < periods:\n",
        "\n",
        "        return x\n",
        "\n",
        "    cumsum = np.cumsum(np.insert(x, 0, 0))\n",
        "    res = (cumsum[periods:] - cumsum[:-periods]) / periods\n",
        "\n",
        "    return np.hstack([x[:periods - 1], res])"
      ],
      "metadata": {
        "id": "5BxbmP3ZLtt6"
      },
      "execution_count": 46,
      "outputs": []
    },
    {
      "cell_type": "code",
      "source": [
        "from datetime import datetime\n",
        "\n",
        "# Training the RL agent :\n",
        "def train(env=gym.make(\"Taxi-v3\"),\n",
        "          episodes: int = 25000,\n",
        "          lr: float = 0.01,\n",
        "          gamma: float = 0.99,\n",
        "          epsilon: float = 1,\n",
        "          max_epsilon: float = 1,\n",
        "          min_epsilon: float = 0.001,\n",
        "          epsilon_decay: float = 0.01,\n",
        "          show_empty: bool = True,\n",
        "          path_table: str = \"qtable\",\n",
        "          path_graph: str = \"QLearning_graph.png\") -> tuple[float, int]:\n",
        "\n",
        "    # define the q table\n",
        "    q_table = np.zeros([env.observation_space.n, env.action_space.n])\n",
        "\n",
        "    start_date = datetime.now()\n",
        "    start_time = time.time()\n",
        "    total_reward = []\n",
        "    steps_per_episode = []\n",
        "    epsilon_vec = []\n",
        "\n",
        "    print(\"{} - Starting Training...\\n\".format(start_date))\n",
        "    start_episode = time.time()\n",
        "    for e in range(episodes):\n",
        "        state = env.reset()\n",
        "\n",
        "        done = False\n",
        "        total_reward.append(0)\n",
        "        steps_per_episode.append(0)\n",
        "        epsilon = min_epsilon + (max_epsilon - min_epsilon) * np.exp(\n",
        "            -epsilon_decay * e)\n",
        "        epsilon_vec.append(epsilon)\n",
        "        # Display random episodes\n",
        "        display_episode = random.uniform(0, 1) < 0.001\n",
        "\n",
        "        # Loop as long as the game is not over, i.e. done is not True\n",
        "        while not done:\n",
        "            if random.uniform(0, 1) < epsilon:\n",
        "                action = env.action_space.sample()  # Explore the action space\n",
        "            else:\n",
        "                action = np.argmax(q_table[state])  # Exploit learned values\n",
        "\n",
        "            # Apply the action and see what happens\n",
        "            next_state, reward, done, _ = env.step(action)\n",
        "            total_reward[e] += reward\n",
        "            steps_per_episode[e] += 1\n",
        "\n",
        "            current_value = q_table[\n",
        "                state, action]  # current Q-value for the state/action couple\n",
        "            next_max = np.max(q_table[next_state])  # next best Q-value\n",
        "\n",
        "            # Compute the new Q-value with the Bellman equation\n",
        "            q_table[state, action] = (1 - lr) * current_value + lr * (\n",
        "                reward + gamma * next_max)\n",
        "            state = next_state\n",
        "            if display_episode:\n",
        "                env.render(mode='ansi')\n",
        "\n",
        "        if e % int(episodes / 100) == 0:\n",
        "            episode_time = (time.time() - start_episode)\n",
        "            print(\n",
        "                \"[EPISODE {}/{}] - Mean reward for last {} Episodes: {} in {} steps - Mean Time Per Episode: {}\"\n",
        "                .format(e, episodes, int(episodes / 100),\n",
        "                        np.mean(total_reward[-int(episodes / 100):]),\n",
        "                        np.mean(steps_per_episode[-int(episodes / 100):]),\n",
        "                        np.round(episode_time / e, 6) if e != 0 else 0))\n",
        "\n",
        "    plot_durations(steps_per_episode,\n",
        "                   total_reward,\n",
        "                   epsilon_vec,\n",
        "                   max_steps_per_episode=200)\n",
        "    end_date = datetime.now()\n",
        "    execution_time = (time.time() - start_time)\n",
        "\n",
        "    print()\n",
        "    print(\"{} - Training Ended\".format(end_date))\n",
        "    print(\"Mean Reward: {}\".format(np.mean(total_reward)))\n",
        "    print(\"Time to train: \\n    - {}s\\n    - {}min\\n    - {}h\".format(\n",
        "        np.round(execution_time, 2), np.round(execution_time / 60, 2),\n",
        "        np.round(execution_time / 3600, 2)))\n",
        "    print(\"Mean Time Per Episode: {}\".format(\n",
        "        np.round(execution_time / len(total_reward), 6)))\n",
        "\n",
        "    if show_empty:\n",
        "        total_empty = 0\n",
        "        for i, q in enumerate(q_table):\n",
        "            if 0 in q:\n",
        "                total_empty += 1\n",
        "        print(\"Found {} empty lines in the Q Table - {}%.\".format(\n",
        "            total_empty, int((total_empty / len(q_table) * 100))))\n",
        "\n",
        "    np.save(path_table, q_table)\n",
        "    plt.show()\n",
        "    plt.savefig(path_graph)\n",
        "\n",
        "    return np.round(execution_time, 2), np.mean(total_reward)\n",
        "\n",
        "\n",
        "train(episodes=45000)"
      ],
      "metadata": {
        "colab": {
          "base_uri": "https://localhost:8080/",
          "height": 832
        },
        "id": "L-OphrPHJZBq",
        "outputId": "73850793-1d0a-49b4-ca51-b612777dfd4a"
      },
      "execution_count": 65,
      "outputs": [
        {
          "output_type": "display_data",
          "data": {
            "text/plain": [
              "<Figure size 1500x700 with 2 Axes>"
            ],
            "image/png": "[encoded data removed]"
          },
          "metadata": {}
        },
        {
          "output_type": "stream",
          "name": "stdout",
          "text": [
            "\n",
            "2023-06-28 22:40:10.787917 - Training Ended\n",
            "Mean Reward: -13.272577777777778\n",
            "Time to train: \n",
            "    - 69.09s\n",
            "    - 1.15min\n",
            "    - 0.02h\n",
            "Mean Time Per Episode: 0.001535\n",
            "Found 101 empty lines in the Q Table - 20%.\n"
          ]
        },
        {
          "output_type": "execute_result",
          "data": {
            "text/plain": [
              "(69.09, -13.272577777777778)"
            ]
          },
          "metadata": {},
          "execution_count": 65
        },
        {
          "output_type": "display_data",
          "data": {
            "text/plain": [
              "<Figure size 640x480 with 0 Axes>"
            ]
          },
          "metadata": {}
        }
      ]
    },
    {
      "cell_type": "markdown",
      "source": [
        "### Let the agent play"
      ],
      "metadata": {
        "id": "OPLTcpyQPOYx"
      }
    },
    {
      "cell_type": "markdown",
      "source": [
        "### Needed functions for the playground"
      ],
      "metadata": {
        "id": "nJ9ImqHXQxk9"
      }
    },
    {
      "cell_type": "code",
      "source": [
        "import numpy as np\n",
        "import datetime\n",
        "import argparse\n",
        "import random\n",
        "import time\n",
        "import gym\n",
        "import sys\n",
        "\n",
        "\n",
        "rl_frames = []\n",
        "\n",
        "def play(path: str = \"qtable.npy\",\n",
        "         slow: bool = False,\n",
        "         render: bool = False,\n",
        "         is_loop: bool = False,\n",
        "         is_time: bool = False) -> tuple[int, int]:\n",
        "    env = gym.make(\"Taxi-v3\").env\n",
        "\n",
        "    q_table = np.load(path)\n",
        "    done = False\n",
        "    result = 0\n",
        "    state = env.reset()\n",
        "\n",
        "    if render:\n",
        "        print(\"Initial Environnement:\")\n",
        "        env.render(mode='ansi')\n",
        "    steps = 1\n",
        "\n",
        "    while not done:\n",
        "        action = np.argmax(q_table[state])\n",
        "        next_state, reward, done, _ = env.step(action)\n",
        "\n",
        "        result += reward\n",
        "        state = next_state\n",
        "\n",
        "        if render or (random.uniform(0, 1) < 0.3 and not is_loop\n",
        "                      and not is_time):\n",
        "            print()\n",
        "            env.render(mode='ansi')\n",
        "\n",
        "        # Put each rendered frame into dict for animation\n",
        "        rl_frames.append({\n",
        "            'episode': steps,\n",
        "            'frame': env.render(mode='ansi'),\n",
        "            'state': state,\n",
        "            'action': action,\n",
        "            'reward': reward,\n",
        "            'total_reward' : result\n",
        "            })\n",
        "\n",
        "        steps += 1\n",
        "\n",
        "        if steps >= 100:\n",
        "            break\n",
        "\n",
        "        if slow:\n",
        "            input(\"Press anything to continue...\")\n",
        "            print(\"\\r\", end=\"\\r\")\n",
        "\n",
        "    if (not is_loop and not is_time):\n",
        "        print(\"[{} MOVES] - Total reward: {}\".format(steps, result))\n",
        "\n",
        "    return steps, result\n",
        "\n",
        "\n",
        "def display_data(total, total_failed, start, mean_steps, mean_result):\n",
        "    print()\n",
        "    print(\n",
        "        \"[{} LOOP DONE - {}% FAILED - {} SECONDES] - Mean Steps Per Loop: {} - Mean Reward Per Loop: {} - Mean Time Per Loop: {}\"\n",
        "        .format(total, np.round(total_failed / total * 100, 2),\n",
        "                np.round(time.time() - start, 4),\n",
        "                np.round(mean_steps / total, 2),\n",
        "                np.round(mean_result / total, 2),\n",
        "                np.round((time.time() - start) / total, 6)))\n",
        "\n",
        "\n",
        "def solve(path, mean_steps, mean_result, total_failed, slow, render, is_loop,\n",
        "          is_time):\n",
        "    steps, result = play(path=path,\n",
        "                         slow=slow,\n",
        "                         render=render,\n",
        "                         is_loop=is_loop,\n",
        "                         is_time=is_time)\n",
        "    mean_steps += steps\n",
        "    mean_result += result\n",
        "    if steps >= 100:\n",
        "        total_failed += 1\n",
        "\n",
        "    return mean_steps, mean_result, total_failed\n",
        "\n",
        "\n",
        "def error_args(args):\n",
        "    time = args.time\n",
        "    loop = args.loop\n",
        "\n",
        "    if time < 0:\n",
        "        return 1, \"Time can not be negative or null.\"\n",
        "    if loop <= 0:\n",
        "        return 1, \"Number of loop can not be negative or null\"\n",
        "\n",
        "    return 0, \"\""
      ],
      "metadata": {
        "id": "XZr8BGpYNoPV"
      },
      "execution_count": 114,
      "outputs": []
    },
    {
      "cell_type": "code",
      "source": [
        "# Let it play for 200 iterations (games)\n",
        "import time\n",
        "loop = 200\n",
        "time_ = 0\n",
        "slow = False\n",
        "render = False\n",
        "\n",
        "\n",
        "start = time.time()\n",
        "mean_steps, mean_result = 0, 0\n",
        "total_failed = 0\n",
        "is_loop = True if loop != 1 else False\n",
        "maxrt = datetime.timedelta(seconds=time_) if time_ != 0 else None\n",
        "\n",
        "if maxrt != None:\n",
        "    stop = datetime.datetime.now() + maxrt\n",
        "    total = 0\n",
        "    while datetime.datetime.now() < stop:\n",
        "        mean_steps, mean_result, total_failed = solve(\n",
        "            \"qtable.npy\", mean_steps, mean_result, total_failed, slow,\n",
        "            render, is_loop, True)\n",
        "        total += 1\n",
        "\n",
        "    display_data(total, total_failed, start, mean_steps, mean_result)\n",
        "else:\n",
        "    for l in range(loop):\n",
        "        mean_steps, mean_result, total_failed = solve(\n",
        "            \"qtable.npy\", mean_steps, mean_result, total_failed, slow,\n",
        "            render, is_loop, False)\n",
        "\n",
        "    if is_loop:\n",
        "        display_data(loop, total_failed, start, mean_steps,\n",
        "                      mean_result)"
      ],
      "metadata": {
        "colab": {
          "base_uri": "https://localhost:8080/"
        },
        "id": "h9zfDWxKPaQo",
        "outputId": "ee490b7b-6116-43c1-da43-4d95cfab27ca"
      },
      "execution_count": 110,
      "outputs": [
        {
          "output_type": "stream",
          "name": "stdout",
          "text": [
            "\n",
            "[200 LOOP DONE - 0.0% FAILED - 5.2857 SECONDES] - Mean Steps Per Loop: 13.87 - Mean Reward Per Loop: 8.13 - Mean Time Per Loop: 0.026429\n"
          ]
        }
      ]
    },
    {
      "cell_type": "markdown",
      "source": [
        "### Let it play for single game + animation"
      ],
      "metadata": {
        "id": "mMDN3-6URByz"
      }
    },
    {
      "cell_type": "code",
      "source": [
        "# Let it play for single game :\n",
        "\n",
        "rl_frames = []\n",
        "\n",
        "state, result = play()\n",
        "\n",
        "# Display the game\n",
        "def print_frames(frames):\n",
        "    for i, frame in enumerate(frames):\n",
        "        clear_output(wait=True)\n",
        "        print(frame[\"episode\"])\n",
        "        print(frame['frame'])\n",
        "        print(f\"Timestep: {i + 1}\")\n",
        "        print(f\"State: {frame['state']}\")\n",
        "        print(f\"Action: {frame['action']}\")\n",
        "        print(f\"Reward: {frame['reward']}\")\n",
        "        print(f\"Total Reward: {frame['total_reward']}\")\n",
        "        sleep(1)\n",
        "\n",
        "print_frames(frames=rl_frames)"
      ],
      "metadata": {
        "colab": {
          "base_uri": "https://localhost:8080/"
        },
        "id": "WwqD565kPwyO",
        "outputId": "5d28810f-2f6d-4fb0-ed59-30294b5be3d9"
      },
      "execution_count": 127,
      "outputs": [
        {
          "output_type": "stream",
          "name": "stdout",
          "text": [
            "14\n",
            "+---------+\n",
            "|\u001b[35m\u001b[34;1m\u001b[43mR\u001b[0m\u001b[0m\u001b[0m: | : :G|\n",
            "| : | : : |\n",
            "| : : : : |\n",
            "| | : | : |\n",
            "|Y| : |B: |\n",
            "+---------+\n",
            "  (Dropoff)\n",
            "\n",
            "Timestep: 14\n",
            "State: 0\n",
            "Action: 5\n",
            "Reward: 20\n",
            "Total Reward: 7\n"
          ]
        }
      ]
    }
  ]
}