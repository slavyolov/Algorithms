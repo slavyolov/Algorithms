{
  "nbformat": 4,
  "nbformat_minor": 0,
  "metadata": {
    "colab": {
      "provenance": [],
      "toc_visible": true,
      "authorship_tag": "ABX9TyNxY0924FMPBEO+pw908gU3",
      "include_colab_link": true
    },
    "kernelspec": {
      "name": "python3",
      "display_name": "Python 3"
    },
    "language_info": {
      "name": "python"
    }
  },
  "cells": [
    {
      "cell_type": "markdown",
      "metadata": {
        "id": "view-in-github",
        "colab_type": "text"
      },
      "source": [
        "<a href=\"https://colab.research.google.com/github/slavyolov/Algorithms/blob/main/RL_Taxi_v3.ipynb\" target=\"_parent\"><img src=\"https://colab.research.google.com/assets/colab-badge.svg\" alt=\"Open In Colab\"/></a>"
      ]
    },
    {
      "cell_type": "markdown",
      "source": [
        "# Taxi case background 🚕\n",
        "\n",
        "Please read the page for general information about the environment : https://www.gymlibrary.dev/environments/toy_text/taxi/\n",
        "\n",
        "\n",
        "**Actions and observations**\n",
        "*   **Action Space** : Discrete(6)\n",
        "*   **Observation Space** :Discrete(500)\n",
        "\n",
        "\n",
        "**Rewards**\n",
        "* -1 per step unless other reward is triggered.\n",
        "*   +20 delivering passenger.\n",
        "*   -10 executing “pickup” and “drop-off” actions illegally.\n",
        "\n",
        "\n",
        "\n",
        "\n",
        "\n"
      ],
      "metadata": {
        "id": "bo5_rNtV_Qhf"
      }
    },
    {
      "cell_type": "markdown",
      "source": [
        "# Setup the environment"
      ],
      "metadata": {
        "id": "OpS4vg6tCHDe"
      }
    },
    {
      "cell_type": "code",
      "source": [
        "!pip install cmake 'gym[atari]' scipy"
      ],
      "metadata": {
        "colab": {
          "base_uri": "https://localhost:8080/"
        },
        "id": "MVh5TIe1BMRQ",
        "outputId": "13b19d54-ad5c-402a-8ee8-ab7c869cc100"
      },
      "execution_count": 1,
      "outputs": [
        {
          "output_type": "stream",
          "name": "stdout",
          "text": [
            "Requirement already satisfied: cmake in /usr/local/lib/python3.10/dist-packages (3.25.2)\n",
            "Requirement already satisfied: gym[atari] in /usr/local/lib/python3.10/dist-packages (0.25.2)\n",
            "Requirement already satisfied: scipy in /usr/local/lib/python3.10/dist-packages (1.10.1)\n",
            "Requirement already satisfied: numpy>=1.18.0 in /usr/local/lib/python3.10/dist-packages (from gym[atari]) (1.22.4)\n",
            "Requirement already satisfied: cloudpickle>=1.2.0 in /usr/local/lib/python3.10/dist-packages (from gym[atari]) (2.2.1)\n",
            "Requirement already satisfied: gym-notices>=0.0.4 in /usr/local/lib/python3.10/dist-packages (from gym[atari]) (0.0.8)\n",
            "Requirement already satisfied: ale-py~=0.7.5 in /usr/local/lib/python3.10/dist-packages (from gym[atari]) (0.7.5)\n",
            "Requirement already satisfied: importlib-resources in /usr/local/lib/python3.10/dist-packages (from ale-py~=0.7.5->gym[atari]) (5.12.0)\n"
          ]
        }
      ]
    },
    {
      "cell_type": "code",
      "source": [
        "import gym\n",
        "import numpy as np\n",
        "from datetime import datetime\n",
        "import time\n",
        "import matplotlib\n",
        "import matplotlib.pyplot as plt\n",
        "import numpy as np\n",
        "import datetime\n",
        "import argparse\n",
        "import random\n",
        "import time\n",
        "import gym\n",
        "import sys\n",
        "\n",
        "is_notebook = 'inline' in matplotlib.get_backend()\n",
        "\n",
        "if is_notebook:\n",
        "    from IPython import display\n",
        "\n",
        "env = gym.make(\"Taxi-v3\").env\n",
        "env.reset()\n",
        "\n",
        "print(\"Display the environment at a random state : \")\n",
        "print(env.render(mode='ansi'))"
      ],
      "metadata": {
        "colab": {
          "base_uri": "https://localhost:8080/"
        },
        "id": "DFUqyYSwBXbd",
        "outputId": "00ebeb90-3722-486a-8c15-475e72467afc"
      },
      "execution_count": 2,
      "outputs": [
        {
          "output_type": "stream",
          "name": "stdout",
          "text": [
            "Display the environment at a random state : \n",
            "+---------+\n",
            "|R: | : :\u001b[34;1mG\u001b[0m|\n",
            "| : | : : |\n",
            "| : : : : |\n",
            "| | : | : |\n",
            "|Y| : |\u001b[35m\u001b[43mB\u001b[0m\u001b[0m: |\n",
            "+---------+\n",
            "\n",
            "\n"
          ]
        },
        {
          "output_type": "stream",
          "name": "stderr",
          "text": [
            "/usr/local/lib/python3.10/dist-packages/gym/core.py:317: DeprecationWarning: \u001b[33mWARN: Initializing wrapper in old step API which returns one bool instead of two. It is recommended to set `new_step_api=True` to use new step API. This will be the default behaviour in future.\u001b[0m\n",
            "  deprecation(\n",
            "/usr/local/lib/python3.10/dist-packages/gym/wrappers/step_api_compatibility.py:39: DeprecationWarning: \u001b[33mWARN: Initializing environment in old step API which returns one bool instead of two. It is recommended to set `new_step_api=True` to use new step API. This will be the default behaviour in future.\u001b[0m\n",
            "  deprecation(\n",
            "/usr/local/lib/python3.10/dist-packages/gym/core.py:43: DeprecationWarning: \u001b[33mWARN: The argument mode in render method is deprecated; use render_mode during environment initialization instead.\n",
            "See here for more information: https://www.gymlibrary.ml/content/api/\u001b[0m\n",
            "  deprecation(\n"
          ]
        }
      ]
    },
    {
      "cell_type": "code",
      "source": [
        "demo_env_state = env.s"
      ],
      "metadata": {
        "colab": {
          "base_uri": "https://localhost:8080/"
        },
        "id": "NVStXSTyF-sU",
        "outputId": "b3dafff3-0e35-453f-df93-3b3524eee145"
      },
      "execution_count": 3,
      "outputs": [
        {
          "output_type": "stream",
          "name": "stderr",
          "text": [
            "/usr/local/lib/python3.10/dist-packages/ipykernel/ipkernel.py:283: DeprecationWarning: `should_run_async` will not call `transform_cell` automatically in the future. Please pass the result to `transformed_cell` argument and any exception that happen during thetransform in `preprocessing_exc_tuple` in IPython 7.17 and above.\n",
            "  and should_run_async(code)\n"
          ]
        }
      ]
    },
    {
      "cell_type": "code",
      "source": [
        "print(100 * \"=\")\n",
        "print('''\n",
        "There are 6 discrete deterministic actions:\n",
        "\n",
        "0: move south\n",
        "1: move north\n",
        "2: move east\n",
        "3: move west\n",
        "4: pickup passenger\n",
        "5: drop off passenger\n",
        "''')\n",
        "\n",
        "print(100 * \"=\")\n",
        "print(\"Structure of the dictionary : {action: [(probability, nextstate, reward, done)]}\")\n",
        "env.P[demo_env_state]"
      ],
      "metadata": {
        "colab": {
          "base_uri": "https://localhost:8080/"
        },
        "id": "vCmFMsMPEpVR",
        "outputId": "762711d3-6b20-43ea-8ccd-946a3c3ea9a6"
      },
      "execution_count": 4,
      "outputs": [
        {
          "output_type": "stream",
          "name": "stdout",
          "text": [
            "====================================================================================================\n",
            "\n",
            "There are 6 discrete deterministic actions:\n",
            "\n",
            "0: move south\n",
            "1: move north\n",
            "2: move east\n",
            "3: move west\n",
            "4: pickup passenger\n",
            "5: drop off passenger\n",
            "\n",
            "====================================================================================================\n",
            "Structure of the dictionary : {action: [(probability, nextstate, reward, done)]}\n"
          ]
        },
        {
          "output_type": "execute_result",
          "data": {
            "text/plain": [
              "{0: [(1.0, 467, -1, False)],\n",
              " 1: [(1.0, 367, -1, False)],\n",
              " 2: [(1.0, 487, -1, False)],\n",
              " 3: [(1.0, 467, -1, False)],\n",
              " 4: [(1.0, 467, -10, False)],\n",
              " 5: [(1.0, 467, -10, False)]}"
            ]
          },
          "metadata": {},
          "execution_count": 4
        }
      ]
    },
    {
      "cell_type": "markdown",
      "source": [
        "# Brute force approach\n",
        "\n",
        "- Note : the environment may complete in few timesteps or in thousands.\n",
        "- Overall there is no learning from previous experience"
      ],
      "metadata": {
        "id": "bUZxnVWADdYH"
      }
    },
    {
      "cell_type": "code",
      "source": [
        "# Set environment to a random state for illustration purposes\n",
        "env.s = demo_env_state\n",
        "\n",
        "epochs = 0\n",
        "penalties, reward = 0, 0\n",
        "\n",
        "frames = [] # for animation\n",
        "\n",
        "done = False\n",
        "\n",
        "while not done:\n",
        "    action = env.action_space.sample()\n",
        "    state, reward, done, info = env.step(action)\n",
        "\n",
        "    if reward == -10:\n",
        "        penalties += 1\n",
        "\n",
        "    # Put each rendered frame into dict for animation\n",
        "    frames.append({\n",
        "        'frame': env.render(mode='ansi'),\n",
        "        'state': state,\n",
        "        'action': action,\n",
        "        'reward': reward\n",
        "        }\n",
        "    )\n",
        "\n",
        "    epochs += 1\n",
        "\n",
        "# Note : the environment may complete in few timesteps or in thousands.\n",
        "# Overall there is no learning from previous experience\n",
        "print(\"Timesteps taken: {}\".format(epochs))\n",
        "print(\"Penalties incurred: {}\".format(penalties))"
      ],
      "metadata": {
        "colab": {
          "base_uri": "https://localhost:8080/"
        },
        "id": "oEJ_GSbVDmiX",
        "outputId": "18367b4c-5adf-49ff-fdf2-0809d850399f"
      },
      "execution_count": 5,
      "outputs": [
        {
          "output_type": "stream",
          "name": "stdout",
          "text": [
            "Timesteps taken: 1075\n",
            "Penalties incurred: 352\n"
          ]
        }
      ]
    },
    {
      "cell_type": "code",
      "source": [
        "from IPython.display import clear_output\n",
        "from time import sleep\n",
        "\n",
        "def print_frames(frames):\n",
        "    for i, frame in enumerate(frames):\n",
        "        clear_output(wait=True)\n",
        "        print(frame['frame'])\n",
        "        print(f\"Timestep: {i + 1}\")\n",
        "        print(f\"State: {frame['state']}\")\n",
        "        print(f\"Action: {frame['action']}\")\n",
        "        print(f\"Reward: {frame['reward']}\")\n",
        "        sleep(.1)\n",
        "\n",
        "print_frames(frames)"
      ],
      "metadata": {
        "colab": {
          "base_uri": "https://localhost:8080/"
        },
        "id": "yRJlQxGND8kY",
        "outputId": "d5911b10-46ca-436d-df1a-b0a8efde9571"
      },
      "execution_count": 6,
      "outputs": [
        {
          "output_type": "stream",
          "name": "stdout",
          "text": [
            "+---------+\n",
            "|R: | : :G|\n",
            "| : | : : |\n",
            "| : : : : |\n",
            "| | : | : |\n",
            "|Y| : |\u001b[35m\u001b[34;1m\u001b[43mB\u001b[0m\u001b[0m\u001b[0m: |\n",
            "+---------+\n",
            "  (Dropoff)\n",
            "\n",
            "Timestep: 1075\n",
            "State: 475\n",
            "Action: 5\n",
            "Reward: 20\n"
          ]
        }
      ]
    },
    {
      "cell_type": "markdown",
      "source": [
        "# Reinforcement learning (Q learning)\n",
        "\n",
        "The Q-Learning Process\n",
        "\n",
        "1. Initialize the Q-table by all zeros.\n",
        "2. Start exploring actions: For each state, select any one among all possible actions for the current state (S).\n",
        "3. Travel to the next state (S') as a result of that action (a).\n",
        "4. For all possible actions from the state (S') select the one with the highest Q-value.\n",
        "5. Update Q-table values using the equation.\n",
        "6. Set the next state as the current state.\n",
        "7. If goal state is reached, then end and repeat the process."
      ],
      "metadata": {
        "id": "vDrFOaxIJLVg"
      }
    },
    {
      "cell_type": "code",
      "source": [
        "env.reset() # reset environment to a new, random state\n",
        "print(env.render(mode='ansi'))\n",
        "\n",
        "print(\"Action Space {}\".format(env.action_space))\n",
        "print(\"State Space {}\".format(env.observation_space))"
      ],
      "metadata": {
        "colab": {
          "base_uri": "https://localhost:8080/"
        },
        "id": "LCppItISCI8s",
        "outputId": "9d2ad987-3be3-456d-9dbb-406c07d7a632"
      },
      "execution_count": 7,
      "outputs": [
        {
          "output_type": "stream",
          "name": "stdout",
          "text": [
            "+---------+\n",
            "|\u001b[43mR\u001b[0m: | : :\u001b[34;1mG\u001b[0m|\n",
            "| : | : : |\n",
            "| : : : : |\n",
            "| | : | : |\n",
            "|\u001b[35mY\u001b[0m| : |B: |\n",
            "+---------+\n",
            "\n",
            "\n",
            "Action Space Discrete(6)\n",
            "State Space Discrete(500)\n"
          ]
        }
      ]
    },
    {
      "cell_type": "code",
      "source": [
        "# Define Q table\n",
        "q_table = np.zeros([env.observation_space.n, env.action_space.n])\n",
        "print(q_table)"
      ],
      "metadata": {
        "id": "I-Yuil2TCU2Y",
        "colab": {
          "base_uri": "https://localhost:8080/"
        },
        "outputId": "7bbf745b-2d56-4a30-8d2e-59f271af0549"
      },
      "execution_count": 8,
      "outputs": [
        {
          "output_type": "stream",
          "name": "stdout",
          "text": [
            "[[0. 0. 0. 0. 0. 0.]\n",
            " [0. 0. 0. 0. 0. 0.]\n",
            " [0. 0. 0. 0. 0. 0.]\n",
            " ...\n",
            " [0. 0. 0. 0. 0. 0.]\n",
            " [0. 0. 0. 0. 0. 0.]\n",
            " [0. 0. 0. 0. 0. 0.]]\n"
          ]
        }
      ]
    },
    {
      "cell_type": "markdown",
      "source": [
        "### Train RL model"
      ],
      "metadata": {
        "id": "xUqND_RnPE-c"
      }
    },
    {
      "cell_type": "code",
      "source": [
        "# Plot functions to vizualise the training process\n",
        "\n",
        "def plot_durations(episode_durations: list,\n",
        "                   reward_in_episode: list,\n",
        "                   epsilon_vec: list,\n",
        "                   max_steps_per_episode: int = 100) -> None:\n",
        "    '''Plot graphs containing Epsilon, Rewards, and Steps per episode over time'''\n",
        "    lines = []\n",
        "    fig = plt.figure(1, figsize=(15, 7))\n",
        "    plt.clf()\n",
        "    ax1 = fig.add_subplot(111)\n",
        "\n",
        "    plt.title(f'Training...')\n",
        "    ax1.set_xlabel('Episode')\n",
        "    ax1.set_ylabel('Duration & Rewards')\n",
        "    ax1.set_ylim(-2 * max_steps_per_episode, max_steps_per_episode + 10)\n",
        "    ax1.plot(episode_durations, color=\"C1\", alpha=0.2)\n",
        "    ax1.plot(reward_in_episode, color=\"C2\", alpha=0.2)\n",
        "    mean_steps = moving_average(episode_durations, periods=5)\n",
        "    mean_reward = moving_average(reward_in_episode, periods=5)\n",
        "    lines.append(ax1.plot(mean_steps, label=\"steps\", color=\"C1\")[0])\n",
        "    lines.append(ax1.plot(mean_reward, label=\"rewards\", color=\"C2\")[0])\n",
        "\n",
        "    ax2 = ax1.twinx()\n",
        "    ax2.set_ylabel('Epsilon')\n",
        "    lines.append(ax2.plot(epsilon_vec, label=\"epsilon\", color=\"C3\")[0])\n",
        "    labs = [l.get_label() for l in lines]\n",
        "    ax1.legend(lines, labs, loc=3)\n",
        "\n",
        "    if is_notebook:\n",
        "        display.clear_output(wait=True)\n",
        "    else:\n",
        "        plt.show()\n",
        "    plt.pause(0.001)\n",
        "\n",
        "    return\n",
        "\n",
        "def moving_average(x: list, periods: int = 5) -> list:\n",
        "    if len(x) < periods:\n",
        "\n",
        "        return x\n",
        "\n",
        "    cumsum = np.cumsum(np.insert(x, 0, 0))\n",
        "    res = (cumsum[periods:] - cumsum[:-periods]) / periods\n",
        "\n",
        "    return np.hstack([x[:periods - 1], res])"
      ],
      "metadata": {
        "id": "5BxbmP3ZLtt6"
      },
      "execution_count": 9,
      "outputs": []
    },
    {
      "cell_type": "code",
      "source": [
        "from datetime import datetime\n",
        "\n",
        "# Training the RL agent :\n",
        "def train(env=gym.make(\"Taxi-v3\"),\n",
        "          episodes: int = 25000,\n",
        "          lr: float = 0.01,\n",
        "          gamma: float = 0.99,\n",
        "          epsilon: float = 1,\n",
        "          max_epsilon: float = 1,\n",
        "          min_epsilon: float = 0.001,\n",
        "          epsilon_decay: float = 0.01,\n",
        "          show_empty: bool = True,\n",
        "          path_table: str = \"qtable\",\n",
        "          path_graph: str = \"QLearning_graph.png\") -> tuple[float, int]:\n",
        "    \"\"\"\n",
        "    Train RL agent using Q Learning\n",
        "\n",
        "    Artefacts:\n",
        "        Qtable - updated Q table\n",
        "        QLearning_graph - graph that displayes the elarning process\n",
        "\n",
        "    Returns:\n",
        "\n",
        "    \"\"\"\n",
        "\n",
        "    # define the q table\n",
        "    q_table = np.zeros([env.observation_space.n, env.action_space.n])\n",
        "\n",
        "    start_date = datetime.now()\n",
        "    start_time = time.time()\n",
        "    total_reward = []\n",
        "    steps_per_episode = []\n",
        "    epsilon_vec = []\n",
        "\n",
        "    print(\"{} - Starting Training...\\n\".format(start_date))\n",
        "    start_episode = time.time()\n",
        "    for e in range(episodes):\n",
        "        state = env.reset()\n",
        "\n",
        "        done = False\n",
        "        total_reward.append(0)\n",
        "        steps_per_episode.append(0)\n",
        "        epsilon = min_epsilon + (max_epsilon - min_epsilon) * np.exp(\n",
        "            -epsilon_decay * e)\n",
        "        epsilon_vec.append(epsilon)\n",
        "        # Display random episodes\n",
        "        display_episode = random.uniform(0, 1) < 0.001\n",
        "\n",
        "        # Loop as long as the game is not over, i.e. done is not True\n",
        "        while not done:\n",
        "            if random.uniform(0, 1) < epsilon:\n",
        "                action = env.action_space.sample()  # Explore the action space\n",
        "            else:\n",
        "                action = np.argmax(q_table[state])  # Exploit learned values\n",
        "\n",
        "            # Apply the action and see what happens\n",
        "            next_state, reward, done, _ = env.step(action)\n",
        "            total_reward[e] += reward\n",
        "            steps_per_episode[e] += 1\n",
        "\n",
        "            current_value = q_table[\n",
        "                state, action]  # current Q-value for the state/action couple\n",
        "            next_max = np.max(q_table[next_state])  # next best Q-value\n",
        "\n",
        "            # Compute the new Q-value with the Bellman equation\n",
        "            q_table[state, action] = (1 - lr) * current_value + lr * (\n",
        "                reward + gamma * next_max)\n",
        "            state = next_state\n",
        "            if display_episode:\n",
        "                env.render(mode='ansi')\n",
        "\n",
        "        if e % int(episodes / 100) == 0:\n",
        "            episode_time = (time.time() - start_episode)\n",
        "            print(\n",
        "                \"[EPISODE {}/{}] - Mean reward for last {} Episodes: {} in {} steps - Mean Time Per Episode: {}\"\n",
        "                .format(e, episodes, int(episodes / 100),\n",
        "                        np.mean(total_reward[-int(episodes / 100):]),\n",
        "                        np.mean(steps_per_episode[-int(episodes / 100):]),\n",
        "                        np.round(episode_time / e, 6) if e != 0 else 0))\n",
        "\n",
        "    plot_durations(steps_per_episode,\n",
        "                   total_reward,\n",
        "                   epsilon_vec,\n",
        "                   max_steps_per_episode=200)\n",
        "    end_date = datetime.now()\n",
        "    execution_time = (time.time() - start_time)\n",
        "\n",
        "    print()\n",
        "    print(\"{} - Training Ended\".format(end_date))\n",
        "    print(\"Mean Reward: {}\".format(np.mean(total_reward)))\n",
        "    print(\"Time to train: \\n    - {}s\\n    - {}min\\n    - {}h\".format(\n",
        "        np.round(execution_time, 2), np.round(execution_time / 60, 2),\n",
        "        np.round(execution_time / 3600, 2)))\n",
        "    print(\"Mean Time Per Episode: {}\".format(\n",
        "        np.round(execution_time / len(total_reward), 6)))\n",
        "\n",
        "    if show_empty:\n",
        "        total_empty = 0\n",
        "        for i, q in enumerate(q_table):\n",
        "            if 0 in q:\n",
        "                total_empty += 1\n",
        "        print(\"Found {} empty lines in the Q Table - {}%.\".format(\n",
        "            total_empty, int((total_empty / len(q_table) * 100))))\n",
        "\n",
        "    np.save(path_table, q_table)\n",
        "    plt.show()\n",
        "    plt.savefig(path_graph)\n",
        "\n",
        "    return np.round(execution_time, 2), np.mean(total_reward)\n",
        "\n",
        "\n",
        "train(episodes=45000)"
      ],
      "metadata": {
        "colab": {
          "base_uri": "https://localhost:8080/",
          "height": 832
        },
        "id": "L-OphrPHJZBq",
        "outputId": "8e8e51b9-29f0-49a6-b8c9-04126831524e"
      },
      "execution_count": 10,
      "outputs": [
        {
          "output_type": "display_data",
          "data": {
            "text/plain": [
              "<Figure size 1500x700 with 2 Axes>"
            ],
            "image/png": "[encoded data removed]"
          },
          "metadata": {}
        },
        {
          "output_type": "stream",
          "name": "stdout",
          "text": [
            "\n",
            "2023-06-28 23:14:13.867037 - Training Ended\n",
            "Mean Reward: -13.259088888888888\n",
            "Time to train: \n",
            "    - 74.2s\n",
            "    - 1.24min\n",
            "    - 0.02h\n",
            "Mean Time Per Episode: 0.001649\n",
            "Found 101 empty lines in the Q Table - 20%.\n"
          ]
        },
        {
          "output_type": "execute_result",
          "data": {
            "text/plain": [
              "(74.2, -13.259088888888888)"
            ]
          },
          "metadata": {},
          "execution_count": 10
        },
        {
          "output_type": "display_data",
          "data": {
            "text/plain": [
              "<Figure size 640x480 with 0 Axes>"
            ]
          },
          "metadata": {}
        }
      ]
    },
    {
      "cell_type": "markdown",
      "source": [
        "### Let the agent play"
      ],
      "metadata": {
        "id": "OPLTcpyQPOYx"
      }
    },
    {
      "cell_type": "markdown",
      "source": [
        "### Needed functions for the playground"
      ],
      "metadata": {
        "id": "nJ9ImqHXQxk9"
      }
    },
    {
      "cell_type": "code",
      "source": [
        "import numpy as np\n",
        "import datetime\n",
        "import argparse\n",
        "import random\n",
        "import time\n",
        "import gym\n",
        "import sys\n",
        "\n",
        "\n",
        "rl_frames = []\n",
        "\n",
        "def play(path: str = \"qtable.npy\",\n",
        "         slow: bool = False,\n",
        "         render: bool = False,\n",
        "         is_loop: bool = False,\n",
        "         is_time: bool = False) -> tuple[int, int]:\n",
        "\n",
        "    \"\"\"\n",
        "    Function that is used to play a game with pre-trained agent\n",
        "    \"\"\"\n",
        "    env = gym.make(\"Taxi-v3\").env\n",
        "\n",
        "    q_table = np.load(path)\n",
        "    done = False\n",
        "    result = 0\n",
        "    state = env.reset()\n",
        "\n",
        "    if render:\n",
        "        print(\"Initial Environnement:\")\n",
        "        env.render(mode='ansi')\n",
        "    steps = 1\n",
        "\n",
        "    while not done:\n",
        "        action = np.argmax(q_table[state])\n",
        "        next_state, reward, done, _ = env.step(action)\n",
        "\n",
        "        result += reward\n",
        "        state = next_state\n",
        "\n",
        "        if render or (random.uniform(0, 1) < 0.3 and not is_loop\n",
        "                      and not is_time):\n",
        "            print()\n",
        "            env.render(mode='ansi')\n",
        "\n",
        "        # Put each rendered frame into dict for animation\n",
        "        rl_frames.append({\n",
        "            'episode': steps,\n",
        "            'frame': env.render(mode='ansi'),\n",
        "            'state': state,\n",
        "            'action': action,\n",
        "            'reward': reward,\n",
        "            'total_reward' : result\n",
        "            })\n",
        "\n",
        "        steps += 1\n",
        "\n",
        "        if steps >= 100:\n",
        "            break\n",
        "\n",
        "        if slow:\n",
        "            input(\"Press anything to continue...\")\n",
        "            print(\"\\r\", end=\"\\r\")\n",
        "\n",
        "    if (not is_loop and not is_time):\n",
        "        print(\"[{} MOVES] - Total reward: {}\".format(steps, result))\n",
        "\n",
        "    return steps, result\n",
        "\n",
        "\n",
        "def display_data(total, total_failed, start, mean_steps, mean_result):\n",
        "    \"\"\"\n",
        "    Display KPIs\n",
        "    \"\"\"\n",
        "    print()\n",
        "    print(\n",
        "        \"[{} LOOP DONE - {}% FAILED - {} SECONDES] - Mean Steps Per Loop: {} - Mean Reward Per Loop: {} - Mean Time Per Loop: {}\"\n",
        "        .format(total, np.round(total_failed / total * 100, 2),\n",
        "                np.round(time.time() - start, 4),\n",
        "                np.round(mean_steps / total, 2),\n",
        "                np.round(mean_result / total, 2),\n",
        "                np.round((time.time() - start) / total, 6)))\n",
        "\n",
        "\n",
        "def solve(path, mean_steps, mean_result, total_failed, slow, render, is_loop,\n",
        "          is_time):\n",
        "    steps, result = play(path=path,\n",
        "                         slow=slow,\n",
        "                         render=render,\n",
        "                         is_loop=is_loop,\n",
        "                         is_time=is_time)\n",
        "    mean_steps += steps\n",
        "    mean_result += result\n",
        "    if steps >= 100:\n",
        "        total_failed += 1\n",
        "\n",
        "    return mean_steps, mean_result, total_failed\n",
        "\n",
        "\n",
        "def error_args(args):\n",
        "    time = args.time\n",
        "    loop = args.loop\n",
        "\n",
        "    if time < 0:\n",
        "        return 1, \"Time can not be negative or null.\"\n",
        "    if loop <= 0:\n",
        "        return 1, \"Number of loop can not be negative or null\"\n",
        "\n",
        "    return 0, \"\""
      ],
      "metadata": {
        "id": "XZr8BGpYNoPV"
      },
      "execution_count": 11,
      "outputs": []
    },
    {
      "cell_type": "code",
      "source": [
        "# Let it play for 200 iterations (games)\n",
        "import time\n",
        "loop = 200\n",
        "time_ = 0\n",
        "slow = False\n",
        "render = False\n",
        "\n",
        "\n",
        "start = time.time()\n",
        "mean_steps, mean_result = 0, 0\n",
        "total_failed = 0\n",
        "is_loop = True if loop != 1 else False\n",
        "maxrt = datetime.timedelta(seconds=time_) if time_ != 0 else None\n",
        "\n",
        "if maxrt != None:\n",
        "    stop = datetime.datetime.now() + maxrt\n",
        "    total = 0\n",
        "    while datetime.datetime.now() < stop:\n",
        "        mean_steps, mean_result, total_failed = solve(\n",
        "            \"qtable.npy\", mean_steps, mean_result, total_failed, slow,\n",
        "            render, is_loop, True)\n",
        "        total += 1\n",
        "\n",
        "    display_data(total, total_failed, start, mean_steps, mean_result)\n",
        "else:\n",
        "    for l in range(loop):\n",
        "        mean_steps, mean_result, total_failed = solve(\n",
        "            \"qtable.npy\", mean_steps, mean_result, total_failed, slow,\n",
        "            render, is_loop, False)\n",
        "\n",
        "    if is_loop:\n",
        "        display_data(loop, total_failed, start, mean_steps,\n",
        "                      mean_result)"
      ],
      "metadata": {
        "colab": {
          "base_uri": "https://localhost:8080/"
        },
        "id": "h9zfDWxKPaQo",
        "outputId": "74a3ccfe-6e10-42d1-c047-5d6357b1526d"
      },
      "execution_count": 12,
      "outputs": [
        {
          "output_type": "stream",
          "name": "stdout",
          "text": [
            "\n",
            "[200 LOOP DONE - 0.0% FAILED - 4.4809 SECONDES] - Mean Steps Per Loop: 14.16 - Mean Reward Per Loop: 7.84 - Mean Time Per Loop: 0.022405\n"
          ]
        }
      ]
    },
    {
      "cell_type": "markdown",
      "source": [
        "### Let it play for single game + animation"
      ],
      "metadata": {
        "id": "mMDN3-6URByz"
      }
    },
    {
      "cell_type": "code",
      "source": [
        "# Let it play for single game :\n",
        "\n",
        "rl_frames = []\n",
        "\n",
        "state, result = play()\n",
        "\n",
        "# Display the game\n",
        "def print_frames(frames):\n",
        "    for i, frame in enumerate(frames):\n",
        "        clear_output(wait=True)\n",
        "        print(frame[\"episode\"])\n",
        "        print(frame['frame'])\n",
        "        print(f\"Timestep: {i + 1}\")\n",
        "        print(f\"State: {frame['state']}\")\n",
        "        print(f\"Action: {frame['action']}\")\n",
        "        print(f\"Reward: {frame['reward']}\")\n",
        "        print(f\"Total Reward: {frame['total_reward']}\")\n",
        "        sleep(1)\n",
        "\n",
        "print_frames(frames=rl_frames)"
      ],
      "metadata": {
        "colab": {
          "base_uri": "https://localhost:8080/"
        },
        "id": "WwqD565kPwyO",
        "outputId": "b16e1749-24dd-4acf-a73a-ee9657f8d28f"
      },
      "execution_count": 13,
      "outputs": [
        {
          "output_type": "stream",
          "name": "stdout",
          "text": [
            "15\n",
            "+---------+\n",
            "|\u001b[35m\u001b[34;1m\u001b[43mR\u001b[0m\u001b[0m\u001b[0m: | : :G|\n",
            "| : | : : |\n",
            "| : : : : |\n",
            "| | : | : |\n",
            "|Y| : |B: |\n",
            "+---------+\n",
            "  (Dropoff)\n",
            "\n",
            "Timestep: 15\n",
            "State: 0\n",
            "Action: 5\n",
            "Reward: 20\n",
            "Total Reward: 6\n"
          ]
        }
      ]
    },
    {
      "cell_type": "markdown",
      "source": [
        "## List of packages available in colab for the current run with their respective versions"
      ],
      "metadata": {
        "id": "dxlPaCn4SRxO"
      }
    },
    {
      "cell_type": "code",
      "source": [
        "!pip list command"
      ],
      "metadata": {
        "colab": {
          "base_uri": "https://localhost:8080/"
        },
        "id": "78191_4OSRVH",
        "outputId": "826e1cbf-2fd3-4c17-c1e6-a8d4963ce1ba"
      },
      "execution_count": 14,
      "outputs": [
        {
          "output_type": "stream",
          "name": "stdout",
          "text": [
            "Package                          Version\n",
            "-------------------------------- ---------------------\n",
            "absl-py                          1.4.0\n",
            "aiohttp                          3.8.4\n",
            "aiosignal                        1.3.1\n",
            "alabaster                        0.7.13\n",
            "albumentations                   1.2.1\n",
            "ale-py                           0.7.5\n",
            "altair                           4.2.2\n",
            "anyio                            3.7.0\n",
            "appdirs                          1.4.4\n",
            "argon2-cffi                      21.3.0\n",
            "argon2-cffi-bindings             21.2.0\n",
            "array-record                     0.4.0\n",
            "arviz                            0.15.1\n",
            "astropy                          5.2.2\n",
            "astunparse                       1.6.3\n",
            "async-timeout                    4.0.2\n",
            "attrs                            23.1.0\n",
            "audioread                        3.0.0\n",
            "autograd                         1.6.1\n",
            "Babel                            2.12.1\n",
            "backcall                         0.2.0\n",
            "beautifulsoup4                   4.11.2\n",
            "bleach                           6.0.0\n",
            "blis                             0.7.9\n",
            "blosc2                           2.0.0\n",
            "bokeh                            2.4.3\n",
            "branca                           0.6.0\n",
            "build                            0.10.0\n",
            "CacheControl                     0.13.1\n",
            "cached-property                  1.5.2\n",
            "cachetools                       5.3.1\n",
            "catalogue                        2.0.8\n",
            "certifi                          2023.5.7\n",
            "cffi                             1.15.1\n",
            "chardet                          4.0.0\n",
            "charset-normalizer               2.0.12\n",
            "chex                             0.1.7\n",
            "click                            8.1.3\n",
            "click-plugins                    1.1.1\n",
            "cligj                            0.7.2\n",
            "cloudpickle                      2.2.1\n",
            "cmake                            3.25.2\n",
            "cmdstanpy                        1.1.0\n",
            "colorcet                         3.0.1\n",
            "colorlover                       0.3.0\n",
            "community                        1.0.0b1\n",
            "confection                       0.0.4\n",
            "cons                             0.4.6\n",
            "contextlib2                      0.6.0.post1\n",
            "contourpy                        1.1.0\n",
            "convertdate                      2.4.0\n",
            "cufflinks                        0.17.3\n",
            "cvxopt                           1.3.1\n",
            "cvxpy                            1.3.1\n",
            "cycler                           0.11.0\n",
            "cymem                            2.0.7\n",
            "Cython                           0.29.35\n",
            "dask                             2022.12.1\n",
            "datascience                      0.17.6\n",
            "db-dtypes                        1.1.1\n",
            "dbus-python                      1.2.16\n",
            "debugpy                          1.6.6\n",
            "decorator                        4.4.2\n",
            "defusedxml                       0.7.1\n",
            "distributed                      2022.12.1\n",
            "dlib                             19.24.2\n",
            "dm-tree                          0.1.8\n",
            "docutils                         0.16\n",
            "dopamine-rl                      4.0.6\n",
            "duckdb                           0.8.1\n",
            "earthengine-api                  0.1.357\n",
            "easydict                         1.10\n",
            "ecos                             2.0.12\n",
            "editdistance                     0.6.2\n",
            "en-core-web-sm                   3.5.0\n",
            "entrypoints                      0.4\n",
            "ephem                            4.1.4\n",
            "et-xmlfile                       1.1.0\n",
            "etils                            1.3.0\n",
            "etuples                          0.3.9\n",
            "exceptiongroup                   1.1.1\n",
            "fastai                           2.7.12\n",
            "fastcore                         1.5.29\n",
            "fastdownload                     0.0.7\n",
            "fastjsonschema                   2.17.1\n",
            "fastprogress                     1.0.3\n",
            "fastrlock                        0.8.1\n",
            "filelock                         3.12.2\n",
            "Fiona                            1.9.4.post1\n",
            "firebase-admin                   5.3.0\n",
            "Flask                            2.2.5\n",
            "flatbuffers                      23.5.26\n",
            "flax                             0.6.11\n",
            "folium                           0.14.0\n",
            "fonttools                        4.40.0\n",
            "frozendict                       2.3.8\n",
            "frozenlist                       1.3.3\n",
            "fsspec                           2023.6.0\n",
            "future                           0.18.3\n",
            "gast                             0.4.0\n",
            "gcsfs                            2023.6.0\n",
            "GDAL                             3.3.2\n",
            "gdown                            4.6.6\n",
            "gensim                           4.3.1\n",
            "geographiclib                    2.0\n",
            "geopandas                        0.13.2\n",
            "geopy                            2.3.0\n",
            "gin-config                       0.5.0\n",
            "glob2                            0.7\n",
            "google                           2.0.3\n",
            "google-api-core                  2.11.1\n",
            "google-api-python-client         2.84.0\n",
            "google-auth                      2.17.3\n",
            "google-auth-httplib2             0.1.0\n",
            "google-auth-oauthlib             1.0.0\n",
            "google-cloud-bigquery            3.10.0\n",
            "google-cloud-bigquery-connection 1.12.0\n",
            "google-cloud-bigquery-storage    2.20.0\n",
            "google-cloud-core                2.3.2\n",
            "google-cloud-datastore           2.15.2\n",
            "google-cloud-firestore           2.11.1\n",
            "google-cloud-functions           1.13.0\n",
            "google-cloud-language            2.9.1\n",
            "google-cloud-storage             2.8.0\n",
            "google-cloud-translate           3.11.1\n",
            "google-colab                     1.0.0\n",
            "google-crc32c                    1.5.0\n",
            "google-pasta                     0.2.0\n",
            "google-resumable-media           2.5.0\n",
            "googleapis-common-protos         1.59.1\n",
            "googledrivedownloader            0.4\n",
            "graphviz                         0.20.1\n",
            "greenlet                         2.0.2\n",
            "grpc-google-iam-v1               0.12.6\n",
            "grpcio                           1.56.0\n",
            "grpcio-status                    1.48.2\n",
            "gspread                          3.4.2\n",
            "gspread-dataframe                3.0.8\n",
            "gym                              0.25.2\n",
            "gym-notices                      0.0.8\n",
            "h5netcdf                         1.2.0\n",
            "h5py                             3.8.0\n",
            "holidays                         0.27.1\n",
            "holoviews                        1.15.4\n",
            "html5lib                         1.1\n",
            "httpimport                       1.3.0\n",
            "httplib2                         0.21.0\n",
            "humanize                         4.6.0\n",
            "hyperopt                         0.2.7\n",
            "idna                             3.4\n",
            "imageio                          2.25.1\n",
            "imageio-ffmpeg                   0.4.8\n",
            "imagesize                        1.4.1\n",
            "imbalanced-learn                 0.10.1\n",
            "imgaug                           0.4.0\n",
            "importlib-resources              5.12.0\n",
            "imutils                          0.5.4\n",
            "inflect                          6.0.4\n",
            "iniconfig                        2.0.0\n",
            "intel-openmp                     2023.1.0\n",
            "ipykernel                        5.5.6\n",
            "ipython                          7.34.0\n",
            "ipython-genutils                 0.2.0\n",
            "ipython-sql                      0.4.1\n",
            "ipywidgets                       7.7.1\n",
            "itsdangerous                     2.1.2\n",
            "jax                              0.4.10\n",
            "jaxlib                           0.4.10+cuda11.cudnn86\n",
            "jieba                            0.42.1\n",
            "Jinja2                           3.1.2\n",
            "joblib                           1.2.0\n",
            "jsonpickle                       3.0.1\n",
            "jsonschema                       4.3.3\n",
            "jupyter-client                   6.1.12\n",
            "jupyter-console                  6.1.0\n",
            "jupyter_core                     5.3.1\n",
            "jupyter-server                   1.24.0\n",
            "jupyterlab-pygments              0.2.2\n",
            "jupyterlab-widgets               3.0.7\n",
            "kaggle                           1.5.13\n",
            "keras                            2.12.0\n",
            "kiwisolver                       1.4.4\n",
            "langcodes                        3.3.0\n",
            "lazy_loader                      0.2\n",
            "libclang                         16.0.0\n",
            "librosa                          0.10.0.post2\n",
            "lightgbm                         3.3.5\n",
            "lit                              16.0.6\n",
            "llvmlite                         0.39.1\n",
            "locket                           1.0.0\n",
            "logical-unification              0.4.6\n",
            "LunarCalendar                    0.0.9\n",
            "lxml                             4.9.2\n",
            "Markdown                         3.4.3\n",
            "markdown-it-py                   3.0.0\n",
            "MarkupSafe                       2.1.3\n",
            "matplotlib                       3.7.1\n",
            "matplotlib-inline                0.1.6\n",
            "matplotlib-venn                  0.11.9\n",
            "mdurl                            0.1.2\n",
            "miniKanren                       1.0.3\n",
            "missingno                        0.5.2\n",
            "mistune                          0.8.4\n",
            "mizani                           0.8.1\n",
            "mkl                              2019.0\n",
            "ml-dtypes                        0.2.0\n",
            "mlxtend                          0.14.0\n",
            "more-itertools                   9.1.0\n",
            "moviepy                          1.0.3\n",
            "mpmath                           1.3.0\n",
            "msgpack                          1.0.5\n",
            "multidict                        6.0.4\n",
            "multipledispatch                 0.6.0\n",
            "multitasking                     0.0.11\n",
            "murmurhash                       1.0.9\n",
            "music21                          8.1.0\n",
            "natsort                          8.3.1\n",
            "nbclient                         0.8.0\n",
            "nbconvert                        6.5.4\n",
            "nbformat                         5.9.0\n",
            "nest-asyncio                     1.5.6\n",
            "networkx                         3.1\n",
            "nibabel                          3.0.2\n",
            "nltk                             3.8.1\n",
            "notebook                         6.4.8\n",
            "numba                            0.56.4\n",
            "numexpr                          2.8.4\n",
            "numpy                            1.22.4\n",
            "oauth2client                     4.1.3\n",
            "oauthlib                         3.2.2\n",
            "opencv-contrib-python            4.7.0.72\n",
            "opencv-python                    4.7.0.72\n",
            "opencv-python-headless           4.7.0.72\n",
            "openpyxl                         3.0.10\n",
            "opt-einsum                       3.3.0\n",
            "optax                            0.1.5\n",
            "orbax-checkpoint                 0.2.6\n",
            "osqp                             0.6.2.post8\n",
            "packaging                        23.1\n",
            "palettable                       3.3.3\n",
            "pandas                           1.5.3\n",
            "pandas-datareader                0.10.0\n",
            "pandas-gbq                       0.17.9\n",
            "pandocfilters                    1.5.0\n",
            "panel                            0.14.4\n",
            "param                            1.13.0\n",
            "parso                            0.8.3\n",
            "partd                            1.4.0\n",
            "pathlib                          1.0.1\n",
            "pathy                            0.10.2\n",
            "patsy                            0.5.3\n",
            "pexpect                          4.8.0\n",
            "pickleshare                      0.7.5\n",
            "Pillow                           8.4.0\n",
            "pip                              23.1.2\n",
            "pip-tools                        6.13.0\n",
            "platformdirs                     3.7.0\n",
            "plotly                           5.13.1\n",
            "plotnine                         0.10.1\n",
            "pluggy                           1.2.0\n",
            "polars                           0.17.3\n",
            "pooch                            1.6.0\n",
            "portpicker                       1.5.2\n",
            "prefetch-generator               1.0.3\n",
            "preshed                          3.0.8\n",
            "prettytable                      0.7.2\n",
            "proglog                          0.1.10\n",
            "progressbar2                     4.2.0\n",
            "prometheus-client                0.17.0\n",
            "promise                          2.3\n",
            "prompt-toolkit                   3.0.38\n",
            "prophet                          1.1.4\n",
            "proto-plus                       1.22.3\n",
            "protobuf                         3.20.3\n",
            "psutil                           5.9.5\n",
            "psycopg2                         2.9.6\n",
            "ptyprocess                       0.7.0\n",
            "py-cpuinfo                       9.0.0\n",
            "py4j                             0.10.9.7\n",
            "pyarrow                          9.0.0\n",
            "pyasn1                           0.5.0\n",
            "pyasn1-modules                   0.3.0\n",
            "pycocotools                      2.0.6\n",
            "pycparser                        2.21\n",
            "pyct                             0.5.0\n",
            "pydantic                         1.10.9\n",
            "pydata-google-auth               1.8.0\n",
            "pydot                            1.4.2\n",
            "pydot-ng                         2.0.0\n",
            "pydotplus                        2.0.2\n",
            "PyDrive                          1.3.1\n",
            "pyerfa                           2.0.0.3\n",
            "pygame                           2.4.0\n",
            "Pygments                         2.14.0\n",
            "PyGObject                        3.36.0\n",
            "pymc                             5.1.2\n",
            "PyMeeus                          0.5.12\n",
            "pymystem3                        0.2.0\n",
            "PyOpenGL                         3.1.7\n",
            "pyparsing                        3.1.0\n",
            "pyproj                           3.6.0\n",
            "pyproject_hooks                  1.0.0\n",
            "pyrsistent                       0.19.3\n",
            "PySocks                          1.7.1\n",
            "pytensor                         2.10.1\n",
            "pytest                           7.2.2\n",
            "python-apt                       0.0.0\n",
            "python-dateutil                  2.8.2\n",
            "python-louvain                   0.16\n",
            "python-slugify                   8.0.1\n",
            "python-utils                     3.7.0\n",
            "pytz                             2022.7.1\n",
            "pyviz-comms                      2.3.2\n",
            "PyWavelets                       1.4.1\n",
            "PyYAML                           6.0\n",
            "pyzmq                            23.2.1\n",
            "qdldl                            0.1.7\n",
            "qudida                           0.0.4\n",
            "regex                            2022.10.31\n",
            "requests                         2.27.1\n",
            "requests-oauthlib                1.3.1\n",
            "requests-unixsocket              0.2.0\n",
            "requirements-parser              0.5.0\n",
            "rich                             13.4.2\n",
            "rpy2                             3.5.5\n",
            "rsa                              4.9\n",
            "scikit-image                     0.19.3\n",
            "scikit-learn                     1.2.2\n",
            "scipy                            1.10.1\n",
            "scs                              3.2.3\n",
            "seaborn                          0.12.2\n",
            "Send2Trash                       1.8.2\n",
            "setuptools                       67.7.2\n",
            "shapely                          2.0.1\n",
            "six                              1.16.0\n",
            "sklearn-pandas                   2.2.0\n",
            "smart-open                       6.3.0\n",
            "sniffio                          1.3.0\n",
            "snowballstemmer                  2.2.0\n",
            "sortedcontainers                 2.4.0\n",
            "soundfile                        0.12.1\n",
            "soupsieve                        2.4.1\n",
            "soxr                             0.3.5\n",
            "spacy                            3.5.3\n",
            "spacy-legacy                     3.0.12\n",
            "spacy-loggers                    1.0.4\n",
            "Sphinx                           3.5.4\n",
            "sphinxcontrib-applehelp          1.0.4\n",
            "sphinxcontrib-devhelp            1.0.2\n",
            "sphinxcontrib-htmlhelp           2.0.1\n",
            "sphinxcontrib-jsmath             1.0.1\n",
            "sphinxcontrib-qthelp             1.0.3\n",
            "sphinxcontrib-serializinghtml    1.1.5\n",
            "SQLAlchemy                       2.0.16\n",
            "sqlparse                         0.4.4\n",
            "srsly                            2.4.6\n",
            "statsmodels                      0.13.5\n",
            "sympy                            1.11.1\n",
            "tables                           3.8.0\n",
            "tabulate                         0.8.10\n",
            "tblib                            2.0.0\n",
            "tenacity                         8.2.2\n",
            "tensorboard                      2.12.3\n",
            "tensorboard-data-server          0.7.1\n",
            "tensorflow                       2.12.0\n",
            "tensorflow-datasets              4.9.2\n",
            "tensorflow-estimator             2.12.0\n",
            "tensorflow-gcs-config            2.12.0\n",
            "tensorflow-hub                   0.13.0\n",
            "tensorflow-io-gcs-filesystem     0.32.0\n",
            "tensorflow-metadata              1.13.1\n",
            "tensorflow-probability           0.20.1\n",
            "tensorstore                      0.1.38\n",
            "termcolor                        2.3.0\n",
            "terminado                        0.17.1\n",
            "text-unidecode                   1.3\n",
            "textblob                         0.17.1\n",
            "tf-slim                          1.1.0\n",
            "thinc                            8.1.10\n",
            "threadpoolctl                    3.1.0\n",
            "tifffile                         2023.4.12\n",
            "tinycss2                         1.2.1\n",
            "toml                             0.10.2\n",
            "tomli                            2.0.1\n",
            "toolz                            0.12.0\n",
            "torch                            2.0.1+cu118\n",
            "torchaudio                       2.0.2+cu118\n",
            "torchdata                        0.6.1\n",
            "torchsummary                     1.5.1\n",
            "torchtext                        0.15.2\n",
            "torchvision                      0.15.2+cu118\n",
            "tornado                          6.3.1\n",
            "tqdm                             4.65.0\n",
            "traitlets                        5.7.1\n",
            "triton                           2.0.0\n",
            "tweepy                           4.13.0\n",
            "typer                            0.7.0\n",
            "types-setuptools                 68.0.0.0\n",
            "typing_extensions                4.6.3\n",
            "tzlocal                          5.0.1\n",
            "uritemplate                      4.1.1\n",
            "urllib3                          1.26.16\n",
            "vega-datasets                    0.9.0\n",
            "wasabi                           1.1.2\n",
            "wcwidth                          0.2.6\n",
            "webcolors                        1.13\n",
            "webencodings                     0.5.1\n",
            "websocket-client                 1.6.0\n",
            "Werkzeug                         2.3.6\n",
            "wheel                            0.40.0\n",
            "widgetsnbextension               3.6.4\n",
            "wordcloud                        1.8.2.2\n",
            "wrapt                            1.14.1\n",
            "xarray                           2022.12.0\n",
            "xarray-einstats                  0.5.1\n",
            "xgboost                          1.7.6\n",
            "xlrd                             2.0.1\n",
            "yarl                             1.9.2\n",
            "yellowbrick                      1.5\n",
            "yfinance                         0.2.21\n",
            "zict                             3.0.0\n",
            "zipp                             3.15.0\n"
          ]
        }
      ]
    }
  ]
}