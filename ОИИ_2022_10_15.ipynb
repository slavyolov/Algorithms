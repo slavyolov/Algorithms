{
  "nbformat": 4,
  "nbformat_minor": 0,
  "metadata": {
    "colab": {
      "provenance": [],
      "collapsed_sections": [],
      "authorship_tag": "ABX9TyMI7l6QW9jwL3oTzfKh9/Ss",
      "include_colab_link": true
    },
    "kernelspec": {
      "name": "python3",
      "display_name": "Python 3"
    },
    "language_info": {
      "name": "python"
    }
  },
  "cells": [
    {
      "cell_type": "markdown",
      "metadata": {
        "id": "view-in-github",
        "colab_type": "text"
      },
      "source": [
        "<a href=\"https://colab.research.google.com/github/slavyolov/Algorithms/blob/main/%D0%9E%D0%98%D0%98_2022_10_15.ipynb\" target=\"_parent\"><img src=\"https://colab.research.google.com/assets/colab-badge.svg\" alt=\"Open In Colab\"/></a>"
      ]
    },
    {
      "cell_type": "markdown",
      "source": [
        "**- Оценки :**\n",
        "  - задачи в занятието\n",
        "  - есе/научна разработка - тема (има технически изисквания)\n",
        "\n",
        "**- White hat (facts) : **\n",
        "  - https://docs.google.com/document/d/1jQ_KX0pY5TXYFoTya-HCOXGYG7TgB36Bjdm0p7jECsI/edit#\n",
        "\n",
        "\n",
        "**- Gather.town** \n",
        "  - https://www.gather.town/\n"
      ],
      "metadata": {
        "id": "Dv8YKjniWxWN"
      }
    },
    {
      "cell_type": "code",
      "execution_count": null,
      "metadata": {
        "id": "Kkr1ip0mWSgS"
      },
      "outputs": [],
      "source": []
    },
    {
      "cell_type": "markdown",
      "source": [],
      "metadata": {
        "id": "cVu1k1OjWa-X"
      }
    },
    {
      "cell_type": "markdown",
      "source": [],
      "metadata": {
        "id": "eeEJWOCIWaHO"
      }
    }
  ]
}